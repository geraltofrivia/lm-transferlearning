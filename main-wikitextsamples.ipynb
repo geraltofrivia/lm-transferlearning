{
 "cells": [
  {
   "cell_type": "code",
   "execution_count": 1,
   "metadata": {},
   "outputs": [],
   "source": [
    "from IPython.core.interactiveshell import InteractiveShell\n",
    "\n",
    "# pretty print all cell's output and not just the last one\n",
    "InteractiveShell.ast_node_interactivity = \"all\""
   ]
  },
  {
   "cell_type": "code",
   "execution_count": 2,
   "metadata": {},
   "outputs": [],
   "source": [
    "# External Lib imports\n",
    "import os\n",
    "import re\n",
    "import html\n",
    "import argparse\n",
    "import collections\n",
    "from pathlib import Path\n",
    "from typing import Callable\n",
    "from functools import partial\n",
    "\n",
    "import pandas as pd\n",
    "import sklearn\n",
    "from tqdm import tqdm\n",
    "\n",
    "os.environ['QT_QPA_PLATFORM'] = 'offscreen'\n",
    "\n",
    "# FastAI Imports\n",
    "from fastai import text, core, lm_rnn\n",
    "\n",
    "# Torch imports\n",
    "import torch.nn as nn\n",
    "import torch.tensor as T\n",
    "import torch.nn.functional as F\n",
    "\n",
    "# Mytorch imports\n",
    "from mytorch import loops as mtlp\n",
    "from mytorch.utils.goodies import *\n",
    "from mytorch import lriters as mtlr\n",
    "\n",
    "# Local imports\n",
    "import utils\n",
    "from options import Phase2 as params\n",
    "\n",
    "DEVICE = 'cuda:0'"
   ]
  },
  {
   "cell_type": "code",
   "execution_count": 3,
   "metadata": {
    "code_folding": [
     144,
     153,
     160,
     168,
     173,
     181,
     191,
     199,
     214,
     223,
     237,
     255,
     318,
     328,
     343
    ]
   },
   "outputs": [
    {
     "data": {
      "text/plain": [
       "<torch._C.Generator at 0x7f5721abe3f0>"
      ]
     },
     "execution_count": 3,
     "metadata": {},
     "output_type": "execute_result"
    },
    {
     "data": {
      "text/plain": [
       "'\\n    Data sampler for this training\\n'"
      ]
     },
     "execution_count": 3,
     "metadata": {},
     "output_type": "execute_result"
    },
    {
     "data": {
      "text/plain": [
       "'\\n    Data Functions\\n'"
      ]
     },
     "execution_count": 3,
     "metadata": {},
     "output_type": "execute_result"
    },
    {
     "data": {
      "text/plain": [
       "'\\n    Dataframe black magic functions\\n'"
      ]
     },
     "execution_count": 3,
     "metadata": {},
     "output_type": "execute_result"
    },
    {
     "data": {
      "text/plain": [
       "'\\n    Model definitions\\n'"
      ]
     },
     "execution_count": 3,
     "metadata": {},
     "output_type": "execute_result"
    },
    {
     "data": {
      "text/plain": [
       "\"\\n    Training loop\\n    \\n        - sample from wiki\\n            - e(x_w)        forward from encoder\\n            - d(e(x_w))     forward from decoder\\n            - backward normally\\n            \\n            - e(x_w)'       grad reverse layer\\n            - d'(e(x_w)')   forward from domain agnostic layer\\n            - backward\\n            \\n        - sample from imdb\\n            - same...\\n\""
      ]
     },
     "execution_count": 3,
     "metadata": {},
     "output_type": "execute_result"
    }
   ],
   "source": [
    "device = torch.device(DEVICE)\n",
    "np.random.seed(42)\n",
    "torch.manual_seed(42)\n",
    "\n",
    "# Path fields\n",
    "BOS = 'xbos'  # beginning-of-sentence tag\n",
    "FLD = 'xfld'  # data field tag\n",
    "\n",
    "WIKI_DATA_PATH = Path('raw/wikitext/wikitext-103/')\n",
    "WIKI_DATA_PATH.mkdir(exist_ok=True)\n",
    "IMDB_DATA_PATH = Path('raw/imdb/aclImdb/')\n",
    "IMDB_DATA_PATH.mkdir(exist_ok=True)\n",
    "PATH = Path('resources/proc/imdb')\n",
    "DATA_PROC_PATH = PATH / 'data'\n",
    "DATA_LM_PATH = PATH / 'datalm'\n",
    "\n",
    "LM_PATH = Path('resources/models')\n",
    "LM_PATH.mkdir(exist_ok=True)\n",
    "PRE_PATH = LM_PATH / 'wt103'\n",
    "PRE_LM_PATH = PRE_PATH / 'fwd_wt103.h5'\n",
    "CLASSES = ['neg', 'pos', 'unsup']\n",
    "WIKI_CLASSES = ['wiki.train.tokens', 'wiki.valid.tokens', 'wiki.test.tokens']\n",
    "PRESAMPLED_WIKI_DIR = PATH / 'enforce_phase1'\n",
    "\n",
    "\n",
    "'''\n",
    "    Data sampler for this training\n",
    "'''\n",
    "\n",
    "\n",
    "class DomainAgnosticSampler:\n",
    "    \"\"\" Sample data for language model training from two different domains in one batch. \"\"\"\n",
    "\n",
    "    def __init__(self, data_fn_a, data_fn_b, data_a, data_b):\n",
    "        \"\"\"\n",
    "            Here, data_fn would be something like\n",
    "                `partial(text.LanguageModelLoader, bs=bs, bptt=bptt)`\n",
    "            And data_a/b would be something like\n",
    "                `{'train': np.concatenate(trn_lm), 'valid': np.concatenate(val_lm)}['train']`\n",
    "            data_fn (fastai's language model loader) flattens y and returns x of seqlen, batchsize\n",
    "        \"\"\"\n",
    "        self.args = {'data_fn_a': data_fn_a, 'data_fn_b': data_fn_b, 'data_a': data_a, 'data_b': data_b}\n",
    "        self.reset(**self.args)\n",
    "\n",
    "    def reset(self, data_fn_a, data_fn_b, data_a, data_b):\n",
    "        self.itera = iter(data_fn_a(data_a))\n",
    "        self.iterb = iter(data_fn_b(data_b))\n",
    "\n",
    "    def __iter__(self):\n",
    "        return self\n",
    "\n",
    "    def __next__(self):\n",
    "        x_a, y_a = self.itera.__next__()\n",
    "        x_b, y_b = self.iterb.__next__()\n",
    "        return self._combine_batch_(x_a, x_b, y_a, y_b)\n",
    "\n",
    "    def __len__(self):\n",
    "        return min(len(self.args['data_fn_a'](self.args['data_a'])),\n",
    "                   len(self.args['data_fn_b'](self.args['data_b'])))\n",
    "\n",
    "    @staticmethod\n",
    "    def _combine_batch_(x_a, x_b, y_a, y_b):\n",
    "        \"\"\"\n",
    "            :param x_a is a np.arr looks like seqlen, batchsize\n",
    "            :param y_a is a corresponding np.arr (one word ahead than x_a) which is a flattened x_a.shape mat\n",
    "             Same for x_b, y_b\n",
    "\n",
    "             Returns x, y, y_dom in similar shapes as input\n",
    "        \"\"\"\n",
    "        print(x_a.shape, x_b.shape, y_a.shape, y_b.shape)\n",
    "        \n",
    "        # Get them to interpretable shapes\n",
    "        y_a = y_a.reshape(x_a.shape).transpose(1, 0)\n",
    "        y_b = y_b.reshape(x_b.shape).transpose(1, 0)\n",
    "        x_a = x_a.transpose(1, 0)\n",
    "        x_b = x_b.transpose(1, 0)\n",
    "\n",
    "        b_bs, b_sl = x_a.shape[0], min(x_a.shape[1], x_b.shape[1])\n",
    "\n",
    "        # Concatenate to make an x and y\n",
    "        x = np.concatenate((x_a[:, :b_sl], x_b[:, :b_sl]))\n",
    "        y = np.concatenate((y_a[:, :b_sl], y_b[:, :b_sl]))\n",
    "\n",
    "        # Shuffle and remember shuffle index to make y labels for domain agnostic training\n",
    "        intrp = np.arange(b_bs * 2)\n",
    "        np.random.shuffle(intrp)\n",
    "        y_dom = (intrp >= b_bs) * 1\n",
    "        x = x[intrp]\n",
    "        y = y[intrp]\n",
    "\n",
    "        x = x.transpose(1, 0)\n",
    "        y = y.transpose(1, 0).reshape(np.prod(y.shape))\n",
    "\n",
    "        return x, y, y_dom\n",
    "\n",
    "\n",
    "class CustomLanguageModelLoader:\n",
    "    \"\"\"\n",
    "        Customising fastai.text.LanguageModelLoader (ignoring the recent old-new dichotomy)\n",
    "            to not return one shifted sequence as the y label, but actually keep both x and y and co-sample them.\n",
    "    \"\"\"\n",
    "    def __init__(self, data, bs, bptt, backwards=False):\n",
    "        x,y = data.values()\n",
    "        assert len(x) == len(y), \"Mismatch lens of X and Y.\"\n",
    "        self.bs,self.bptt,self.backwards = bs,bptt,backwards\n",
    "        self.data_x, self.data_y = self.batchify(x,y)\n",
    "        self.i,self.iter = 0,0\n",
    "        self.n = len(self.data_x)\n",
    "\n",
    "    def __iter__(self):\n",
    "        self.i,self.iter = 0,0\n",
    "        while self.i < self.n-1 and self.iter<len(self):\n",
    "            if self.i == 0:\n",
    "                seq_len = self.bptt + 5 * 5\n",
    "            else:\n",
    "                bptt = self.bptt if np.random.random() < 0.95 else self.bptt / 2.\n",
    "                seq_len = max(5, int(np.random.normal(bptt, 5)))\n",
    "            res = self.get_batch(self.i, seq_len)\n",
    "            self.i += seq_len\n",
    "            self.iter += 1\n",
    "            yield res\n",
    "\n",
    "    def __len__(self): return self.n // self.bptt - 1\n",
    "\n",
    "    def batchify(self, data_x, data_y):\n",
    "        nb = data_x.shape[0] // self.bs\n",
    "        data_x = np.array(data_x[:nb*self.bs])\n",
    "        data_y = np.array(data_y[:nb*self.bs])\n",
    "        data_x = data_x.reshape(self.bs, -1).T\n",
    "        data_y = data_y.reshape(self.bs, -1).T\n",
    "        if self.backwards:\n",
    "            data_x=data_x[::-1]\n",
    "            data_y=data_y[::-1]\n",
    "        return T(data_x), T(data_y)\n",
    "\n",
    "    def get_batch(self, i, seq_len):\n",
    "        seq_len = min(seq_len, len(self.data_x) - 1 - i)\n",
    "        return self.data_x[i:i+seq_len], self.data_y[i:i+seq_len].view(-1)\n",
    "\n",
    "'''\n",
    "    Data Functions\n",
    "'''\n",
    "\n",
    "\n",
    "def get_texts_org(path):\n",
    "    texts, labels = [], []\n",
    "    for idx, label in enumerate(CLASSES):\n",
    "        for fname in (path / label).glob('*.*'):\n",
    "            texts.append(fname.open('r', encoding='utf-8').read())\n",
    "            labels.append(idx)\n",
    "    return np.array(texts), np.array(labels)\n",
    "\n",
    "\n",
    "def is_valid_sent(x):\n",
    "    x = x.strip()\n",
    "    if len(x) == 0: return False\n",
    "    if x[0] == '=' and x[-1] == '=': return False\n",
    "    return True\n",
    "\n",
    "\n",
    "def wiki_get_texts_org(path):\n",
    "    texts = []\n",
    "    for idx, label in enumerate(WIKI_CLASSES):\n",
    "        with open(path / label, encoding='utf-8') as f:\n",
    "            texts.append([sent.strip() for sent in f.readlines() if is_valid_sent(sent)])\n",
    "    return tuple(texts)\n",
    "\n",
    "\n",
    "'''\n",
    "    Dataframe black magic functions\n",
    "'''\n",
    "\n",
    "\n",
    "def _fixup_(x):\n",
    "    x = x.replace('#39;', \"'\").replace('amp;', '&').replace('#146;', \"'\").replace(\n",
    "        'nbsp;', ' ').replace('#36;', '$').replace('\\\\n', \"\\n\").replace('quot;', \"'\").replace(\n",
    "        '<br />', \"\\n\").replace('\\\\\"', '\"').replace('<unk>', 'u_n').replace(' @.@ ', '.').replace(\n",
    "        ' @-@ ', '-').replace('\\\\', ' \\\\ ')\n",
    "    return re1.sub(' ', html.unescape(x))\n",
    "\n",
    "\n",
    "def _get_texts_(df, n_lbls=1):\n",
    "    labels = df.iloc[:, range(n_lbls)].values.astype(np.int64)\n",
    "    texts = f'\\n{BOS} {FLD} 1 ' + df[n_lbls].astype(str)\n",
    "    for i in range(n_lbls + 1, len(df.columns)): texts += f' {FLD} {i - n_lbls} ' + df[i].astype(str)\n",
    "    texts = list(texts.apply(_fixup_).values)\n",
    "\n",
    "    tok = text.Tokenizer().proc_all_mp(core.partition_by_cores(texts))\n",
    "    return tok, list(labels)\n",
    "\n",
    "\n",
    "def _simple_apply_fixup_(df):\n",
    "    labels = [0] * df.shape[0]\n",
    "    texts = f'\\n{BOS} {FLD} 1 ' + df.text\n",
    "    texts = list(texts.apply(_fixup_).values)\n",
    "    tok = text.Tokenizer().proc_all_mp(core.partition_by_cores(texts))\n",
    "    return tok, list(labels)\n",
    "\n",
    "\n",
    "def get_all(df, n_lbls):\n",
    "    tok, labels = [], []\n",
    "    for i, r in enumerate(df):\n",
    "        print(i)\n",
    "        tok_, labels_ = _get_texts_(r, n_lbls)\n",
    "        tok += tok_;\n",
    "        labels += labels_\n",
    "    return tok, labels\n",
    "\n",
    "\n",
    "'''\n",
    "    Model definitions\n",
    "'''\n",
    "\n",
    "\n",
    "class CustomEncoder(lm_rnn.RNN_Encoder):\n",
    "\n",
    "    @property\n",
    "    def layers(self):\n",
    "        return torch.nn.ModuleList([torch.nn.ModuleList([self.rnns[0], self.dropouths[0]]),\n",
    "                                    torch.nn.ModuleList([self.rnns[1], self.dropouths[1]]),\n",
    "                                    torch.nn.ModuleList([self.rnns[2], self.dropouths[2]])])\n",
    "\n",
    "\n",
    "class CustomDecoder(text.LinearDecoder):\n",
    "\n",
    "    @property\n",
    "    def layers(self):\n",
    "        return torch.nn.ModuleList([self.decoder, self.dropout])\n",
    "\n",
    "    def forward(self, input):\n",
    "        raw_outputs, outputs = input\n",
    "        output = self.dropout(outputs[-1])\n",
    "        decoded = self.decoder(output.view(output.size(0) * output.size(1), output.size(2)))\n",
    "        result = decoded.view(-1, decoded.size(1))\n",
    "        return result, raw_outputs, outputs\n",
    "\n",
    "\n",
    "class CustomLinear(lm_rnn.PoolingLinearClassifier):\n",
    "\n",
    "    def forward(self, input):\n",
    "        raw_outputs, outputs = input\n",
    "        output = outputs[-1]\n",
    "        sl,bs,_ = output.size()\n",
    "        avgpool = self.pool(output, bs, False)\n",
    "        mxpool = self.pool(output, bs, True)\n",
    "        x = torch.cat([output[-1], mxpool, avgpool], 1)\n",
    "        for i, l in enumerate(self.layers):\n",
    "            l_x = l(x)\n",
    "            if i != len(self.layers) -1:\n",
    "                x = F.relu(l_x)\n",
    "            else:\n",
    "                x = torch.sigmoid(l_x)\n",
    "        return l_x, raw_outputs, outputs\n",
    "\n",
    "\n",
    "class LanguageModel(nn.Module):\n",
    "\n",
    "    def __init__(self,\n",
    "                 _parameter_dict,\n",
    "                 _device,\n",
    "                 _wgts_e,\n",
    "                 _wgts_d,\n",
    "                 _encargs):\n",
    "        super(LanguageModel, self).__init__()\n",
    "\n",
    "        self.parameter_dict = _parameter_dict\n",
    "        self.device = _device\n",
    "\n",
    "        self.encoder = CustomEncoder(**_encargs).to(self.device)\n",
    "        self.encoder.load_state_dict(_wgts_e)\n",
    "        \"\"\"\n",
    "            Explanation:\n",
    "                400*3 because input is [ h_T, maxpool, meanpool ]\n",
    "                0.4, 0.1 are drops at various layersLM_PATH\n",
    "        \"\"\"\n",
    "        self.linear_dec = CustomDecoder(\n",
    "            _encargs['ntoken'],\n",
    "            n_hid=400,\n",
    "            dropout=params.decoder_drops,\n",
    "            tie_encoder=self.encoder.encoder,\n",
    "            bias=False\n",
    "        ).to(self.device)\n",
    "\n",
    "        # self.linear_dom = CustomLinear(\n",
    "        #     2,\n",
    "        #     n_hid=400,\n",
    "        #     dropout=0.1 * 0.7,\n",
    "        #     #             tie_encoder=self.encoder.encoder,\n",
    "        #     bias=False\n",
    "        # ).to(self.device)\n",
    "        self.linear_dom = CustomLinear(layers=params.domclas_layers, drops=params.domclas_drops).to(self.device)\n",
    "        self.encoder.reset()\n",
    "\n",
    "    def forward(self, x):\n",
    "        x_enc = self.encoder(x)\n",
    "        return self.linear_dec(x_enc)\n",
    "\n",
    "    def domain(self, x_enc):\n",
    "        x_enc = list(x_enc)\n",
    "        x_enc[1] = [GradReverse.apply(enc_tensr) for enc_tensr in x_enc[1]]\n",
    "        return self.linear_dom(x_enc)[0]\n",
    "\n",
    "    @property\n",
    "    def layers(self):\n",
    "        # layers = [x for x in self.encoder.layers]\n",
    "        # layers.append(torch.nn.ModuleList([x for x in self.linear_dec.layers]))\n",
    "        # layers.append(torch.nn.ModuleList([x for x in self.linear_dom.layers]))\n",
    "        # return torch.nn.ModuleList(layers)\n",
    "        return self.encoder.layers.extend(self.linear_dec.layers).extend(self.linear_dom.layers)\n",
    "\n",
    "    def predict(self, x):\n",
    "        with torch.no_grad():\n",
    "            self.eval()\n",
    "            pred = self.forward(x)\n",
    "            self.train()\n",
    "            return pred\n",
    "\n",
    "\n",
    "def _eval(y_pred, y_true):\n",
    "    \"\"\"\n",
    "        Expects a batch of input\n",
    "\n",
    "        :param y_pred: tensor of shape (b, nc)\n",
    "        :param y_true: tensor of shape (b, 1)\n",
    "    \"\"\"\n",
    "    return torch.mean((torch.argmax(y_pred, dim=1) == y_true).float())\n",
    "\n",
    "\n",
    "'''\n",
    "    Training loop\n",
    "    \n",
    "        - sample from wiki\n",
    "            - e(x_w)        forward from encoder\n",
    "            - d(e(x_w))     forward from decoder\n",
    "            - backward normally\n",
    "            \n",
    "            - e(x_w)'       grad reverse layer\n",
    "            - d'(e(x_w)')   forward from domain agnostic layer\n",
    "            - backward\n",
    "            \n",
    "        - sample from imdb\n",
    "            - same...\n",
    "'''\n",
    "def generic_loop(epochs: int,\n",
    "                 device: torch.device,\n",
    "                 opt: torch.optim,\n",
    "                 loss_main_fn: torch.nn,\n",
    "                 loss_aux_fn: torch.nn,\n",
    "                 loss_aux_scale: float,\n",
    "                 model: torch.nn.Module,\n",
    "                 train_fn: Callable,\n",
    "                 train_aux_fn: Callable,\n",
    "                 predict_fn: Callable,\n",
    "                 data_a: dict,\n",
    "                 data_b: dict,\n",
    "                 data_fn: classmethod,\n",
    "                 save_params,\n",
    "                 save_dir: Path = None,\n",
    "                 save_best: bool = False,\n",
    "                 epoch_start_hook: Callable = None,\n",
    "                 epoch_end_hook: Callable = None,\n",
    "                 batch_start_hook: Callable = None,\n",
    "                 batch_end_hook: Callable = None,\n",
    "                 weight_decay: float = params.weight_decay,\n",
    "                 clip_grads_at: float = params.clip_grads_at,\n",
    "                 lr_schedule = None,\n",
    "                 eval_fn: Callable = None,\n",
    "                 eval_aux_fn: Callable = None) -> (list, list, list):\n",
    "    \"\"\"\n",
    "\n",
    "        A generic training loop, which based on diff hook fns (defined below), should handle anything given to it.\n",
    "\n",
    "        The model need not be an nn.Module,\n",
    "             but should have correctly wired forward and a predict function.\n",
    "\n",
    "        Data should be a dict like so:\n",
    "            {\"train\":{\"x\":np.arr, \"y\":np.arr}, \"val\":{\"x\":np.arr, \"y\":np.arr} }\n",
    "\n",
    "        Train_fn must return both loss and y_pred\n",
    "\n",
    "    :param epochs: number of epochs to train for\n",
    "    :param data_a: data dict (structure specified above) (main)\n",
    "    :param data_b: data dict (structure specified above) (aux)\n",
    "    :param device: torch device to init the tensors with\n",
    "    :param opt: torch optimizer, with proper param_groups for better lr decay per laye\n",
    "    :param loss_main_fn: torch.nn loss fn for the actual thing\n",
    "    :param loss_aux_fn: torch.nn loss fn for the domain agnostic thing\n",
    "    :param loss_aux_scale: float signifying how much to scale DANN loss with, while combining losses.\n",
    "    :param model: torch module (for grad clipping)\n",
    "    :param train_fn: a function which takes x & y, returns loss and y_pred\n",
    "    :param train_aux_fn: a function which takes x & y, returns loss and y_pred_aux\n",
    "    :param predict_fn: a fn which takes x and returns y_pred\n",
    "    :param epoch_start_hook: a fn that can be called @ start of every epoch (returns model, opt)\n",
    "    :param epoch_end_hook: a fn that can be called @ end of every epoch (returns model, opt)\n",
    "    :param batch_start_hook: a fn that can be called @ start of every batch (returns model, opt)\n",
    "    :param batch_end_hook: a fn that can be called @r end of every batch (returns model, opt)\n",
    "    :param weight_decay: a L2 ratio (as mentioned in (https://arxiv.org/pdf/1711.05101.pdf)\n",
    "    :param clip_grads_at: in case you want gradients clipped, send the max val here\n",
    "    :param lr_schedule: a schedule that is called @ every batch start.\n",
    "    :param save_best: bool which wants either doesn't save, or saves at best\n",
    "    :param save_dir: Path object to which we save stuff (based on save_best)\n",
    "    :param save_params: a dict of all the params used while running and training the model.\n",
    "    :param data_fn: a class to which we can pass X and Y, and get an iterator.\n",
    "    :param eval_fn: function which when given pred and true, returns acc\n",
    "    :param eval_aux_fn: same as eval_fn but for domain classifier's output.\n",
    "    :return: traces\n",
    "    \"\"\"\n",
    "\n",
    "    train_loss_main = []\n",
    "    train_loss_aux = []\n",
    "    train_acc_main = []\n",
    "    train_acc_aux = []\n",
    "    val_acc = []\n",
    "    lrs = []\n",
    "\n",
    "    assert (not save_best) or (save_best and save_dir), \"No save dir specified.\"\n",
    "\n",
    "    # Epoch level\n",
    "    for e in range(epochs):\n",
    "\n",
    "        per_epoch_loss_main = []\n",
    "        per_epoch_loss_aux = []\n",
    "        per_epoch_tr_acc_main = []\n",
    "        per_epoch_tr_acc_aux = []\n",
    "\n",
    "        # Train\n",
    "        with Timer() as timer:\n",
    "\n",
    "            # @TODO: Add hook at start of epoch (how to decide what goes in)\n",
    "            if epoch_start_hook: epoch_start_hook()\n",
    "\n",
    "            # Make data\n",
    "            trn_dl = data_fn(data_a=data_a['train'], data_b=data_b['train'])\n",
    "            val_dl = data_fn(data_a=data_a['valid'], data_b=data_b['valid'])\n",
    "\n",
    "            for x, y, y_aux in tqdm(trn_dl):\n",
    "\n",
    "                if batch_start_hook: batch_start_hook()\n",
    "                opt.zero_grad()\n",
    "\n",
    "                if lr_schedule: lrs.append(update_lr(opt, lr_schedule.get()))\n",
    "\n",
    "                # 0. Convert np arrs to torch tensors\n",
    "                _x = torch.tensor(x, dtype=torch.long, device=device)\n",
    "                _y = torch.tensor(y, dtype=torch.long, device=device)\n",
    "                _y_aux = torch.tensor(y_aux, dtype=torch.long, device=device)\n",
    "\n",
    "                # A: Normal stuff\n",
    "                op = train_fn(_x)\n",
    "                y_pred = op[0]\n",
    "                loss_main = loss_main_fn(y_pred, _y)\n",
    "\n",
    "                # B: Domain agnostic stuff\n",
    "                y_pred_aux = train_aux_fn(op[1:])\n",
    "                loss_aux = loss_aux_fn(y_pred_aux, _y_aux)\n",
    "\n",
    "                # C. Add losses with scale.\n",
    "                loss = loss_main + (loss_aux_scale * loss_aux)\n",
    "\n",
    "                # Logging\n",
    "                per_epoch_tr_acc_main.append(eval_fn(y_pred=y_pred, y_true=_y).item())\n",
    "                per_epoch_tr_acc_aux.append(eval_aux_fn(y_pred=y_pred_aux, y_true=_y_aux).item())\n",
    "                per_epoch_loss_main.append(loss_main.item())\n",
    "                per_epoch_loss_aux.append(loss_aux.item())\n",
    "\n",
    "                # Pass aux gradients\n",
    "                loss.backward(retain_graph=False)\n",
    "\n",
    "                # Optimizer Step\n",
    "                if clip_grads_at > 0.0: torch.nn.utils.clip_grad_norm_(model.parameters(), clip_grads_at)\n",
    "                for group in opt.param_groups:\n",
    "                    for param in group['params']:\n",
    "                        param.data = param.data.add(-weight_decay * group['lr'], param.data)\n",
    "\n",
    "                opt.step()\n",
    "                if batch_end_hook: batch_end_hook()\n",
    "\n",
    "            if epoch_end_hook: epoch_end_hook()\n",
    "\n",
    "        # Val\n",
    "        with torch.no_grad():\n",
    "\n",
    "            per_epoch_vl_acc = []\n",
    "            for x, y, y_aux in tqdm(val_dl):\n",
    "                _x = torch.tensor(x, dtype=torch.long, device=device)\n",
    "                _y = torch.tensor(y, dtype=torch.long, device=device)\n",
    "\n",
    "                y_pred = predict_fn(_x)[0]\n",
    "\n",
    "                per_epoch_vl_acc.append(eval_fn(y_pred, _y).item())\n",
    "\n",
    "        # Bookkeep\n",
    "        train_acc_main.append(np.mean(per_epoch_tr_acc_main))\n",
    "        train_acc_aux.append(np.mean(per_epoch_tr_acc_aux))\n",
    "        train_loss_main.append(np.mean(per_epoch_loss_main))\n",
    "        train_loss_aux.append(np.mean(per_epoch_loss_main))\n",
    "        val_acc.append(np.mean(per_epoch_vl_acc))\n",
    "\n",
    "        print(\"Epoch: %(epo)03d | \"\n",
    "              \"Loss: %(loss).4f | \"\n",
    "              \"Loss_aux: %(loss_aux).4f | \"\n",
    "              \"Tr_c: %(tracc)0.4f | \"\n",
    "              \"Vl_c: %(vlacc)0.5f | \"\n",
    "              \"Tr_aux: %(tracc_aux)0.4f | \"\n",
    "              \" Time: %(time).3f m\"\n",
    "              % {'epo': e,\n",
    "                 'loss': float(np.mean(per_epoch_loss_main)),\n",
    "                 'loss_aux': float(np.mean(per_epoch_loss_aux)),\n",
    "                 'tracc': float(np.mean(per_epoch_tr_acc_main)),\n",
    "                 'tracc_aux': float(np.mean(per_epoch_tr_acc_aux)),\n",
    "                 'vlacc': float(np.mean(per_epoch_vl_acc)),\n",
    "                 'time': timer.interval / 60.0})\n",
    "\n",
    "        # Save block (flag and condition)\n",
    "        if save_best and per_epoch_tr_acc_main[-1] is np.max(per_epoch_tr_acc_main):\n",
    "\n",
    "            # Adding epoch info along with options\n",
    "            save_params.epoch = e\n",
    "\n",
    "            # Call save function and save\n",
    "            mt_save(save_dir,\n",
    "                    torch_stuff=[tosave('unsup_model.torch', model.state_dict()),\n",
    "                                 tosave('unsup_model_enc.torch', model.encoder.state_dict())],\n",
    "                    pickle_stuff=[tosave('unsup_traces.pkl', [train_acc_main, val_acc, train_acc_aux, train_loss_main, train_loss_aux, lrs]),\n",
    "                                  tosave('unsup_options.pkl', save_params)],\n",
    "                    _newdir=True)\n",
    "            print(f\"Model saved on Epoch {e} at save_dir\")\n",
    "\n",
    "    return train_acc_main, val_acc, train_acc_aux, train_loss_main, train_loss_aux, lrs"
   ]
  },
  {
   "cell_type": "markdown",
   "metadata": {},
   "source": [
    "# Training"
   ]
  },
  {
   "cell_type": "code",
   "execution_count": 4,
   "metadata": {},
   "outputs": [
    {
     "data": {
      "text/plain": [
       "'\\n    Start making data\\n'"
      ]
     },
     "execution_count": 4,
     "metadata": {},
     "output_type": "execute_result"
    },
    {
     "name": "stdout",
     "output_type": "stream",
     "text": [
      "75000 25000\n",
      "859955 1841\n"
     ]
    },
    {
     "data": {
      "text/plain": [
       "'\\n    Crop data\\n'"
      ]
     },
     "execution_count": 4,
     "metadata": {},
     "output_type": "execute_result"
    },
    {
     "data": {
      "text/plain": [
       "'\\n    Shuffle data\\n'"
      ]
     },
     "execution_count": 4,
     "metadata": {},
     "output_type": "execute_result"
    },
    {
     "data": {
      "text/plain": [
       "'\\n    Dataframe black magic\\n'"
      ]
     },
     "execution_count": 4,
     "metadata": {},
     "output_type": "execute_result"
    },
    {
     "name": "stdout",
     "output_type": "stream",
     "text": [
      "90000 10000\n",
      "Trn: (90000, 90000), Val: (10000, 10000) \n",
      "777582 86399\n",
      "Trn: (777582, 777582), Val: (86399, 86399) \n"
     ]
    },
    {
     "data": {
      "text/plain": [
       "'\\n    Now we make vocabulary, select 60k most freq words \\n        **NOTE: NOT ANY MORE**: (we do this looking only at imdb, and ignore wiki here)\\n'"
      ]
     },
     "execution_count": 4,
     "metadata": {},
     "output_type": "execute_result"
    }
   ],
   "source": [
    "TRIM, DEBUG = False, True\n",
    "params.trim = TRIM\n",
    "\n",
    "'''\n",
    "    Start making data\n",
    "'''\n",
    "trn_texts, trn_labels = get_texts_org(IMDB_DATA_PATH / 'train')\n",
    "val_texts, val_labels = get_texts_org(IMDB_DATA_PATH / 'test')\n",
    "col_names = ['labels', 'text']\n",
    "print(len(trn_texts), len(val_texts))\n",
    "\n",
    "wiki_trn_texts, wiki_val_texts, wiki_tst_texts = wiki_get_texts_org(WIKI_DATA_PATH)\n",
    "print(len(wiki_trn_texts), len(wiki_val_texts))\n",
    "\n",
    "'''\n",
    "    Crop data\n",
    "'''\n",
    "if params.trim:\n",
    "    trn_texts, val_texts = trn_texts[:1000], val_texts[:1000]\n",
    "    wiki_trn_texts, wiki_val_texts, wiki_tst_texts = wiki_trn_texts[:1000], wiki_val_texts[:1000], wiki_tst_texts[:1000]\n",
    "\n",
    "'''\n",
    "    Shuffle data\n",
    "'''\n",
    "trn_idx = np.random.permutation(len(trn_texts))\n",
    "val_idx = np.random.permutation(len(val_texts))\n",
    "\n",
    "trn_texts, trn_labels = trn_texts[trn_idx], trn_labels[trn_idx]\n",
    "val_texts, val_labels = val_texts[val_idx], val_labels[val_idx]\n",
    "\n",
    "np.random.shuffle(wiki_trn_texts)\n",
    "np.random.shuffle(wiki_val_texts)\n",
    "np.random.shuffle(wiki_tst_texts)\n",
    "\n",
    "wiki_trn_labels = [0 for _ in wiki_trn_texts]\n",
    "wiki_val_labels = [0 for _ in wiki_val_texts]\n",
    "wiki_tst_labels = [0 for _ in wiki_val_texts]\n",
    "\n",
    "'''\n",
    "    Dataframe black magic\n",
    "'''\n",
    "chunksize = 24000\n",
    "re1 = re.compile(r'  +')\n",
    "\n",
    "trn_texts, val_texts = sklearn.model_selection.train_test_split(\n",
    "    np.concatenate([trn_texts, val_texts]), test_size=0.1)\n",
    "\n",
    "if DEBUG:\n",
    "    print(len(trn_texts), len(val_texts))\n",
    "\n",
    "df_trn = pd.DataFrame({'text': trn_texts, 'labels': [0] * len(trn_texts)}, columns=col_names)\n",
    "df_val = pd.DataFrame({'text': val_texts, 'labels': [0] * len(val_texts)}, columns=col_names)\n",
    "\n",
    "trn_tok, trn_labels = _simple_apply_fixup_(df_trn)\n",
    "val_tok, val_labels = _simple_apply_fixup_(df_val)\n",
    "\n",
    "if DEBUG:\n",
    "    print(f\"Trn: {len(trn_tok), len(trn_labels)}, Val: {len(val_tok), len(val_labels)} \")\n",
    "\n",
    "wiki_trn_texts, wiki_val_texts = sklearn.model_selection.train_test_split(\n",
    "    np.concatenate([wiki_trn_texts, wiki_val_texts, wiki_tst_texts]), test_size=0.1)\n",
    "\n",
    "if DEBUG:\n",
    "    print(len(wiki_trn_texts), len(wiki_val_texts))\n",
    "\n",
    "wiki_df_trn = pd.DataFrame({'text': wiki_trn_texts, 'labels': [0] * len(wiki_trn_texts)}, columns=col_names)\n",
    "wiki_df_val = pd.DataFrame({'text': wiki_val_texts, 'labels': [0] * len(wiki_val_texts)}, columns=col_names)\n",
    "\n",
    "wiki_trn_tok, wiki_trn_labels = _simple_apply_fixup_(wiki_df_trn)\n",
    "wiki_val_tok, wiki_val_labels = _simple_apply_fixup_(wiki_df_val)\n",
    "\n",
    "if DEBUG:\n",
    "    print(f\"Trn: {len(wiki_trn_tok), len(wiki_trn_labels)}, Val: {len(wiki_val_tok), len(wiki_val_labels)} \")\n",
    "\n",
    "'''\n",
    "    Now we make vocabulary, select 60k most freq words \n",
    "        **NOTE: NOT ANY MORE**: (we do this looking only at imdb, and ignore wiki here)\n",
    "'''\n",
    "\n",
    "freq = Counter(p for o in trn_tok for p in o)\n",
    "# freq.most_common(25)\n",
    "max_vocab = params.max_vocab_task\n",
    "min_freq = 2\n",
    "\n",
    "itos = [o for o, c in freq.most_common(max_vocab) if c > min_freq]\n",
    "itos.insert(0, '_pad_')\n",
    "itos.insert(0, '_unk_')\n",
    "stoi = collections.defaultdict(lambda: 0, {v: k for k, v in enumerate(itos)})"
   ]
  },
  {
   "cell_type": "code",
   "execution_count": 5,
   "metadata": {},
   "outputs": [
    {
     "name": "stdout",
     "output_type": "stream",
     "text": [
      "ITOS: 60002, STOI: 182124\n",
      "ITOS: 60002, STOI: 366347\n"
     ]
    }
   ],
   "source": [
    "# This block here also takes words from wiki while making vocabulary.\n",
    "wiki_freq = Counter(p for o in wiki_trn_tok for p in o)\n",
    "# freq.most_common(25)\n",
    "wiki_max_vocab = params.max_vocab_wiki\n",
    "wiki_most_common_words = wiki_freq.sorted()\n",
    "\n",
    "for word, count in wiki_most_common_words:\n",
    "    if len(itos) >= max_vocab + wiki_max_vocab:\n",
    "        break\n",
    "\n",
    "    if word not in stoi.keys():\n",
    "        itos.append(word)\n",
    "        stoi[word] = len(stoi)\n",
    "\n",
    "vs = len(itos)\n",
    "trn_lm = np.array([[stoi[o] for o in p] for p in trn_tok])\n",
    "val_lm = np.array([[stoi[o] for o in p] for p in val_tok])\n",
    "\n",
    "if DEBUG:\n",
    "    print(f\"ITOS: {len(itos)}, STOI: {len(stoi)}\")\n",
    "\n",
    "wiki_trn_lm = np.array([[stoi[o] for o in p] for p in wiki_trn_tok])\n",
    "wiki_val_lm = np.array([[stoi[o] for o in p] for p in wiki_val_tok])\n",
    "\n",
    "if DEBUG:\n",
    "    print(f\"ITOS: {len(itos)}, STOI: {len(stoi)}\")"
   ]
  },
  {
   "cell_type": "markdown",
   "metadata": {},
   "source": [
    "# Pulling pre-sampled wiki data\n",
    "1. Get pickled x and y\n",
    "2. Get original (old) itos.\n",
    "3. Map from old itos to new.\n",
    "4. Use it to map x and y to new id space"
   ]
  },
  {
   "cell_type": "code",
   "execution_count": 6,
   "metadata": {},
   "outputs": [
    {
     "data": {
      "text/plain": [
       "(777582, 777582, 86399, 86399)"
      ]
     },
     "execution_count": 6,
     "metadata": {},
     "output_type": "execute_result"
    }
   ],
   "source": [
    "itos2 = pickle.load((PRE_PATH / 'itos_wt103.pkl').open('rb'))\n",
    "stoi2 = collections.defaultdict(lambda: -1, {v: k for k, v in enumerate(itos2)})\n",
    "\n",
    "wiki_trn_presampled = pickle.load((PRESAMPLED_WIKI_DIR/'temp.pkl').open('rb'))\n",
    "x_trn,y_trn = wiki_trn_presampled.values()\n",
    "\n",
    "wiki_val_presampled = pickle.load((PRESAMPLED_WIKI_DIR/'temp_val.pkl').open('rb'))\n",
    "x_val,y_val = wiki_val_presampled.values()\n",
    "\n",
    "len(x_trn), len(y_trn), len(x_val), len(y_val)"
   ]
  },
  {
   "cell_type": "code",
   "execution_count": 7,
   "metadata": {
    "scrolled": true
   },
   "outputs": [
    {
     "data": {
      "text/plain": [
       "'\\n    #  Create map from old to new.\\n    need: stoi; itos2\\n    stoi2[itos2[old_id]] should do the trick\\n'"
      ]
     },
     "execution_count": 7,
     "metadata": {},
     "output_type": "execute_result"
    }
   ],
   "source": [
    "'''\n",
    "    #  Create map from old to new.\n",
    "    need: stoi; itos2\n",
    "    stoi2[itos2[old_id]] should do the trick\n",
    "'''\n",
    "wiki_trn_lm_x = [[stoi.get(itos2[tok],stoi['_unk_']) for tok in sent] for sent in x_trn]\n",
    "wiki_trn_lm_y = [[stoi.get(itos2[tok],stoi['_unk_']) for tok in sent] for sent in y_trn]\n",
    "\n",
    "if TRIM:\n",
    "    wiki_trn_lm_x, wiki_trn_lm_y = wiki_trn_lm_x[:1000], wiki_trn_lm_y[:1000]    \n",
    "\n",
    "wiki_trn_lm = {'x':np.concatenate(wiki_trn_lm_x), 'y':np.concatenate(wiki_trn_lm_y)}\n",
    "\n",
    "wiki_val_lm_x = [[stoi.get(itos2[tok],stoi['_unk_']) for tok in sent] for sent in x_val]\n",
    "wiki_val_lm_y = [[stoi.get(itos2[tok],stoi['_unk_']) for tok in sent] for sent in y_val]\n",
    "\n",
    "if TRIM:\n",
    "    wiki_val_lm_x, wiki_val_lm_y = wiki_val_lm_x[:1000], wiki_val_lm_y[:1000]\n",
    "    \n",
    "wiki_val_lm = {'x':np.concatenate(wiki_val_lm_x), 'y':np.concatenate(wiki_val_lm_y)}"
   ]
  },
  {
   "cell_type": "raw",
   "metadata": {},
   "source": [
    "# Checking if its correct. [RESULT: Yes!]\n",
    "' '.join([itos[tok] for tok in wiki_trn_lm_x[1]]), ' '.join([itos[tok] for tok in wiki_trn_lm_y[1]])\n",
    "for x,y in tqdm(zip(wiki_trn_lm_x, wiki_trn_lm_y)):\n",
    "    assert len(x) == len(y), f\"Unequal {len(x), len(y)}\""
   ]
  },
  {
   "cell_type": "code",
   "execution_count": 8,
   "metadata": {},
   "outputs": [
    {
     "data": {
      "text/plain": [
       "'\\n    Now we pull pretrained models from disk\\n\\n    TODO: Check this block\\n'"
      ]
     },
     "execution_count": 8,
     "metadata": {},
     "output_type": "execute_result"
    },
    {
     "data": {
      "text/plain": [
       "'\\n    Setting up things for training.\\n'"
      ]
     },
     "execution_count": 8,
     "metadata": {},
     "output_type": "execute_result"
    }
   ],
   "source": [
    "\"\"\"\n",
    "    Now we pull pretrained models from disk\n",
    "\n",
    "    TODO: Check this block\n",
    "\"\"\"\n",
    "em_sz, nh, nl = 400, 1150, 3\n",
    "# PRE_PATH = PATH / 'models' / 'wt103'\n",
    "# PRE_LM_PATH = PRE_PATH / 'fwd_wt103.h5'\n",
    "wgts = torch.load(PRE_LM_PATH, map_location=lambda storage, loc: storage)\n",
    "enc_wgts = core.to_np(wgts['0.encoder.weight'])\n",
    "row_m = enc_wgts.mean(0)\n",
    "itos2 = pickle.load((PRE_PATH / 'itos_wt103.pkl').open('rb'))\n",
    "stoi2 = collections.defaultdict(lambda: -1, {v: k for k, v in enumerate(itos2)})\n",
    "new_w = np.zeros((vs, em_sz), dtype=np.float32)\n",
    "for i, w in enumerate(itos):\n",
    "    r = stoi2[w]\n",
    "    new_w[i] = enc_wgts[r] if r >= 0 else row_m\n",
    "\n",
    "wgts['0.encoder.weight'] = T(new_w)\n",
    "wgts['0.encoder_with_dropout.embed.weight'] = T(np.copy(new_w))\n",
    "wgts['1.decoder.weight'] = T(np.copy(new_w))\n",
    "wgts_enc = {'.'.join(k.split('.')[1:]): val\n",
    "            for k, val in wgts.items() if k[0] == '0'}\n",
    "wgts_dec = {'.'.join(k.split('.')[1:]): val\n",
    "            for k, val in wgts.items() if k[0] == '1'}\n",
    "\n",
    "'''\n",
    "    Setting up things for training.\n",
    "'''\n",
    "bptt = 70\n",
    "bs = params.bs\n",
    "opt_fn = partial(torch.optim.SGD)  # , betas=params.adam_betas)  # @TODO: find real optimizer, and params\n",
    "\n",
    "# Load the pre-trained model\n",
    "parameter_dict = {'itos2': itos2}\n",
    "dps = params.encoder_drops\n",
    "encargs = {'ntoken': new_w.shape[0],\n",
    "           'emb_sz': 400, 'n_hid': 1150,\n",
    "           'n_layers': 3, 'pad_token': 0,\n",
    "           'qrnn': False, 'dropouti': dps[0],\n",
    "           'wdrop': dps[2], 'dropoute': dps[3], 'dropouth': dps[4]}\n",
    "\n",
    "lm = LanguageModel(parameter_dict, device, _wgts_e=wgts_enc, _wgts_d=wgts_dec, _encargs=encargs)\n",
    "opt = make_opt(lm, opt_fn, lr=params.lr.init)\n",
    "loss_main_fn = F.cross_entropy\n",
    "loss_aux_fn = F.cross_entropy"
   ]
  },
  {
   "cell_type": "code",
   "execution_count": 9,
   "metadata": {},
   "outputs": [],
   "source": [
    "# Make data\n",
    "data_fn_simple = partial(text.LanguageModelLoader, bs=bs, bptt=bptt)\n",
    "data_fn_presampled = partial(CustomLanguageModelLoader, bs=bs, bptt=bptt)\n",
    "data_imdb = {'train': np.concatenate(trn_lm), 'valid': np.concatenate(val_lm)}\n",
    "data_wiki = {'train': wiki_trn_lm, 'valid': wiki_val_lm}  # @TODO: replace this.\n",
    "data_fn = partial(DomainAgnosticSampler, data_fn_a=data_fn_simple, data_fn_b=data_fn_presampled)\n",
    "\n",
    "# Set up lr and freeze stuff\n",
    "for grp in opt.param_groups:\n",
    "    grp['lr'] = 0.0\n",
    "opt.param_groups[3]['lr'] = params.lr.init\n",
    "opt.param_groups[4]['lr'] = params.lr.init\n",
    "\n",
    "# lr_args = {'batches':, 'cycles': 1}\n",
    "lr_args = {'iterations': len(data_fn(data_b=data_wiki['train'], data_a=data_imdb['train'])),\n",
    "           'cut_frac': params.lr.sltr_cutfrac, 'ratio': params.lr.sltr_ratio}\n",
    "lr_schedule = mtlr.LearningRateScheduler(optimizer=opt, lr_args=lr_args, lr_iterator=mtlr.SlantedTriangularLR)\n",
    "\n",
    "# Find places to save model\n",
    "save_dir = mt_save_dir(PATH / 'models', _newdir=True)\n",
    "\n",
    "# Start to put permanent things there, like the itos\n",
    "mt_save(save_dir,\n",
    "        pickle_stuff=[tosave('itos.pkl', itos)])\n",
    "\n",
    "args = {'epochs': 1, 'weight_decay': params.weight_decay, 'data_a': data_imdb, 'data_b': data_wiki,\n",
    "        'device': device, 'opt': opt, 'loss_main_fn': loss_main_fn, 'loss_aux_fn': loss_aux_fn,\n",
    "        'train_fn': lm, 'train_aux_fn': lm.domain, 'predict_fn': lm.predict, 'data_fn': data_fn, 'model': lm,\n",
    "        'eval_fn': _eval, 'eval_aux_fn': _eval, 'batch_start_hook': partial(mtlp.reset_hidden, lm),\n",
    "        'clip_grads_at': params.clip_grads_at, 'lr_schedule': lr_schedule, 'loss_aux_scale': params.loss_scale,\n",
    "        'save_dir': save_dir, 'save_best': True, 'save_params': params}"
   ]
  },
  {
   "cell_type": "code",
   "execution_count": null,
   "metadata": {
    "scrolled": true
   },
   "outputs": [
    {
     "name": "stderr",
     "output_type": "stream",
     "text": [
      "\r",
      "  0%|          | 0/17847 [00:00<?, ?it/s]"
     ]
    },
    {
     "name": "stdout",
     "output_type": "stream",
     "text": [
      "torch.Size([95, 20]) torch.Size([95, 20]) torch.Size([1900]) torch.Size([1900])\n"
     ]
    },
    {
     "name": "stderr",
     "output_type": "stream",
     "text": [
      "  0%|          | 2/17847 [00:00<2:14:04,  2.22it/s]"
     ]
    },
    {
     "name": "stdout",
     "output_type": "stream",
     "text": [
      "torch.Size([66, 20]) torch.Size([80, 20]) torch.Size([1320]) torch.Size([1600])\n",
      "torch.Size([67, 20]) torch.Size([55, 20]) torch.Size([1340]) torch.Size([1100])\n"
     ]
    },
    {
     "name": "stderr",
     "output_type": "stream",
     "text": [
      "  0%|          | 4/17847 [00:01<1:25:29,  3.48it/s]"
     ]
    },
    {
     "name": "stdout",
     "output_type": "stream",
     "text": [
      "torch.Size([71, 20]) torch.Size([77, 20]) torch.Size([1420]) torch.Size([1540])\n",
      "torch.Size([72, 20]) torch.Size([60, 20]) torch.Size([1440]) torch.Size([1200])\n"
     ]
    },
    {
     "name": "stderr",
     "output_type": "stream",
     "text": [
      "  0%|          | 6/17847 [00:01<1:01:46,  4.81it/s]"
     ]
    },
    {
     "name": "stdout",
     "output_type": "stream",
     "text": [
      "torch.Size([66, 20]) torch.Size([67, 20]) torch.Size([1320]) torch.Size([1340])\n",
      "torch.Size([44, 20]) torch.Size([60, 20]) torch.Size([880]) torch.Size([1200])\n"
     ]
    },
    {
     "name": "stderr",
     "output_type": "stream",
     "text": [
      "\r",
      "  0%|          | 7/17847 [00:01<54:02,  5.50it/s]  "
     ]
    },
    {
     "name": "stdout",
     "output_type": "stream",
     "text": [
      "torch.Size([67, 20]) torch.Size([76, 20]) torch.Size([1340]) torch.Size([1520])\n"
     ]
    },
    {
     "name": "stderr",
     "output_type": "stream",
     "text": [
      "\r",
      "  0%|          | 8/17847 [00:01<1:00:06,  4.95it/s]"
     ]
    },
    {
     "name": "stdout",
     "output_type": "stream",
     "text": [
      "torch.Size([79, 20]) torch.Size([74, 20]) torch.Size([1580]) torch.Size([1480])\n"
     ]
    },
    {
     "name": "stderr",
     "output_type": "stream",
     "text": [
      "  0%|          | 10/17847 [00:02<1:07:49,  4.38it/s]"
     ]
    },
    {
     "name": "stdout",
     "output_type": "stream",
     "text": [
      "torch.Size([77, 20]) torch.Size([67, 20]) torch.Size([1540]) torch.Size([1340])\n",
      "torch.Size([78, 20]) torch.Size([69, 20]) torch.Size([1560]) torch.Size([1380])\n"
     ]
    },
    {
     "name": "stderr",
     "output_type": "stream",
     "text": [
      "  0%|          | 12/17847 [00:02<54:36,  5.44it/s]  "
     ]
    },
    {
     "name": "stdout",
     "output_type": "stream",
     "text": [
      "torch.Size([72, 20]) torch.Size([69, 20]) torch.Size([1440]) torch.Size([1380])\n",
      "torch.Size([71, 20]) torch.Size([66, 20]) torch.Size([1420]) torch.Size([1320])\n"
     ]
    },
    {
     "name": "stderr",
     "output_type": "stream",
     "text": [
      "  0%|          | 14/17847 [00:02<47:57,  6.20it/s]"
     ]
    },
    {
     "name": "stdout",
     "output_type": "stream",
     "text": [
      "torch.Size([65, 20]) torch.Size([73, 20]) torch.Size([1300]) torch.Size([1460])\n",
      "torch.Size([64, 20]) torch.Size([66, 20]) torch.Size([1280]) torch.Size([1320])\n"
     ]
    },
    {
     "name": "stderr",
     "output_type": "stream",
     "text": [
      "  0%|          | 16/17847 [00:03<44:32,  6.67it/s]"
     ]
    },
    {
     "name": "stdout",
     "output_type": "stream",
     "text": [
      "torch.Size([74, 20]) torch.Size([71, 20]) torch.Size([1480]) torch.Size([1420])\n",
      "torch.Size([64, 20]) torch.Size([72, 20]) torch.Size([1280]) torch.Size([1440])\n"
     ]
    },
    {
     "name": "stderr",
     "output_type": "stream",
     "text": [
      "  0%|          | 18/17847 [00:03<43:15,  6.87it/s]"
     ]
    },
    {
     "name": "stdout",
     "output_type": "stream",
     "text": [
      "torch.Size([82, 20]) torch.Size([72, 20]) torch.Size([1640]) torch.Size([1440])\n",
      "torch.Size([66, 20]) torch.Size([70, 20]) torch.Size([1320]) torch.Size([1400])\n"
     ]
    },
    {
     "name": "stderr",
     "output_type": "stream",
     "text": [
      "  0%|          | 20/17847 [00:03<42:00,  7.07it/s]"
     ]
    },
    {
     "name": "stdout",
     "output_type": "stream",
     "text": [
      "torch.Size([72, 20]) torch.Size([64, 20]) torch.Size([1440]) torch.Size([1280])\n",
      "torch.Size([69, 20]) torch.Size([32, 20]) torch.Size([1380]) torch.Size([640])\n"
     ]
    },
    {
     "name": "stderr",
     "output_type": "stream",
     "text": [
      "  0%|          | 22/17847 [00:03<36:36,  8.11it/s]"
     ]
    },
    {
     "name": "stdout",
     "output_type": "stream",
     "text": [
      "torch.Size([69, 20]) torch.Size([70, 20]) torch.Size([1380]) torch.Size([1400])\n",
      "torch.Size([69, 20]) torch.Size([79, 20]) torch.Size([1380]) torch.Size([1580])\n"
     ]
    },
    {
     "name": "stderr",
     "output_type": "stream",
     "text": [
      "  0%|          | 24/17847 [00:04<40:02,  7.42it/s]"
     ]
    },
    {
     "name": "stdout",
     "output_type": "stream",
     "text": [
      "torch.Size([72, 20]) torch.Size([72, 20]) torch.Size([1440]) torch.Size([1440])\n",
      "torch.Size([64, 20]) torch.Size([71, 20]) torch.Size([1280]) torch.Size([1420])\n"
     ]
    },
    {
     "name": "stderr",
     "output_type": "stream",
     "text": [
      "  0%|          | 26/17847 [00:04<40:21,  7.36it/s]"
     ]
    },
    {
     "name": "stdout",
     "output_type": "stream",
     "text": [
      "torch.Size([68, 20]) torch.Size([78, 20]) torch.Size([1360]) torch.Size([1560])\n",
      "torch.Size([67, 20]) torch.Size([63, 20]) torch.Size([1340]) torch.Size([1260])\n"
     ]
    },
    {
     "name": "stderr",
     "output_type": "stream",
     "text": [
      "  0%|          | 28/17847 [00:04<40:15,  7.38it/s]"
     ]
    },
    {
     "name": "stdout",
     "output_type": "stream",
     "text": [
      "torch.Size([70, 20]) torch.Size([72, 20]) torch.Size([1400]) torch.Size([1440])\n",
      "torch.Size([67, 20]) torch.Size([75, 20]) torch.Size([1340]) torch.Size([1500])\n"
     ]
    },
    {
     "name": "stderr",
     "output_type": "stream",
     "text": [
      "  0%|          | 30/17847 [00:04<41:29,  7.16it/s]"
     ]
    },
    {
     "name": "stdout",
     "output_type": "stream",
     "text": [
      "torch.Size([70, 20]) torch.Size([77, 20]) torch.Size([1400]) torch.Size([1540])\n",
      "torch.Size([70, 20]) torch.Size([69, 20]) torch.Size([1400]) torch.Size([1380])\n"
     ]
    },
    {
     "name": "stderr",
     "output_type": "stream",
     "text": [
      "  0%|          | 32/17847 [00:05<41:49,  7.10it/s]"
     ]
    },
    {
     "name": "stdout",
     "output_type": "stream",
     "text": [
      "torch.Size([64, 20]) torch.Size([70, 20]) torch.Size([1280]) torch.Size([1400])\n",
      "torch.Size([70, 20]) torch.Size([75, 20]) torch.Size([1400]) torch.Size([1500])\n"
     ]
    },
    {
     "name": "stderr",
     "output_type": "stream",
     "text": [
      "  0%|          | 34/17847 [00:05<41:55,  7.08it/s]"
     ]
    },
    {
     "name": "stdout",
     "output_type": "stream",
     "text": [
      "torch.Size([78, 20]) torch.Size([66, 20]) torch.Size([1560]) torch.Size([1320])\n",
      "torch.Size([72, 20]) torch.Size([71, 20]) torch.Size([1440]) torch.Size([1420])\n"
     ]
    },
    {
     "name": "stderr",
     "output_type": "stream",
     "text": [
      "  0%|          | 36/17847 [00:05<41:28,  7.16it/s]"
     ]
    },
    {
     "name": "stdout",
     "output_type": "stream",
     "text": [
      "torch.Size([59, 20]) torch.Size([69, 20]) torch.Size([1180]) torch.Size([1380])\n",
      "torch.Size([64, 20]) torch.Size([72, 20]) torch.Size([1280]) torch.Size([1440])\n"
     ]
    },
    {
     "name": "stderr",
     "output_type": "stream",
     "text": [
      "  0%|          | 38/17847 [00:06<40:32,  7.32it/s]"
     ]
    },
    {
     "name": "stdout",
     "output_type": "stream",
     "text": [
      "torch.Size([71, 20]) torch.Size([69, 20]) torch.Size([1420]) torch.Size([1380])\n",
      "torch.Size([70, 20]) torch.Size([66, 20]) torch.Size([1400]) torch.Size([1320])\n"
     ]
    },
    {
     "name": "stderr",
     "output_type": "stream",
     "text": [
      "  0%|          | 40/17847 [00:06<40:56,  7.25it/s]"
     ]
    },
    {
     "name": "stdout",
     "output_type": "stream",
     "text": [
      "torch.Size([67, 20]) torch.Size([74, 20]) torch.Size([1340]) torch.Size([1480])\n",
      "torch.Size([64, 20]) torch.Size([68, 20]) torch.Size([1280]) torch.Size([1360])\n"
     ]
    },
    {
     "name": "stderr",
     "output_type": "stream",
     "text": [
      "  0%|          | 42/17847 [00:06<41:40,  7.12it/s]"
     ]
    },
    {
     "name": "stdout",
     "output_type": "stream",
     "text": [
      "torch.Size([80, 20]) torch.Size([74, 20]) torch.Size([1600]) torch.Size([1480])\n",
      "torch.Size([66, 20]) torch.Size([68, 20]) torch.Size([1320]) torch.Size([1360])\n"
     ]
    },
    {
     "name": "stderr",
     "output_type": "stream",
     "text": [
      "  0%|          | 44/17847 [00:06<41:13,  7.20it/s]"
     ]
    },
    {
     "name": "stdout",
     "output_type": "stream",
     "text": [
      "torch.Size([63, 20]) torch.Size([72, 20]) torch.Size([1260]) torch.Size([1440])\n",
      "torch.Size([79, 20]) torch.Size([69, 20]) torch.Size([1580]) torch.Size([1380])\n"
     ]
    },
    {
     "name": "stderr",
     "output_type": "stream",
     "text": [
      "  0%|          | 46/17847 [00:07<39:11,  7.57it/s]"
     ]
    },
    {
     "name": "stdout",
     "output_type": "stream",
     "text": [
      "torch.Size([36, 20]) torch.Size([67, 20]) torch.Size([720]) torch.Size([1340])\n",
      "torch.Size([70, 20]) torch.Size([64, 20]) torch.Size([1400]) torch.Size([1280])\n"
     ]
    },
    {
     "name": "stderr",
     "output_type": "stream",
     "text": [
      "  0%|          | 48/17847 [00:07<37:07,  7.99it/s]"
     ]
    },
    {
     "name": "stdout",
     "output_type": "stream",
     "text": [
      "torch.Size([69, 20]) torch.Size([66, 20]) torch.Size([1380]) torch.Size([1320])\n",
      "torch.Size([76, 20]) torch.Size([74, 20]) torch.Size([1520]) torch.Size([1480])\n"
     ]
    },
    {
     "name": "stderr",
     "output_type": "stream",
     "text": [
      "  0%|          | 50/17847 [00:07<40:25,  7.34it/s]"
     ]
    },
    {
     "name": "stdout",
     "output_type": "stream",
     "text": [
      "torch.Size([63, 20]) torch.Size([71, 20]) torch.Size([1260]) torch.Size([1420])\n",
      "torch.Size([67, 20]) torch.Size([71, 20]) torch.Size([1340]) torch.Size([1420])\n"
     ]
    },
    {
     "name": "stderr",
     "output_type": "stream",
     "text": [
      "  0%|          | 52/17847 [00:07<40:02,  7.41it/s]"
     ]
    },
    {
     "name": "stdout",
     "output_type": "stream",
     "text": [
      "torch.Size([66, 20]) torch.Size([64, 20]) torch.Size([1320]) torch.Size([1280])\n",
      "torch.Size([74, 20]) torch.Size([64, 20]) torch.Size([1480]) torch.Size([1280])\n"
     ]
    },
    {
     "name": "stderr",
     "output_type": "stream",
     "text": [
      "  0%|          | 54/17847 [00:08<38:06,  7.78it/s]"
     ]
    },
    {
     "name": "stdout",
     "output_type": "stream",
     "text": [
      "torch.Size([68, 20]) torch.Size([37, 20]) torch.Size([1360]) torch.Size([740])\n",
      "torch.Size([66, 20]) torch.Size([77, 20]) torch.Size([1320]) torch.Size([1540])\n"
     ]
    },
    {
     "name": "stderr",
     "output_type": "stream",
     "text": [
      "  0%|          | 56/17847 [00:08<37:39,  7.88it/s]"
     ]
    },
    {
     "name": "stdout",
     "output_type": "stream",
     "text": [
      "torch.Size([79, 20]) torch.Size([68, 20]) torch.Size([1580]) torch.Size([1360])\n",
      "torch.Size([80, 20]) torch.Size([65, 20]) torch.Size([1600]) torch.Size([1300])\n"
     ]
    },
    {
     "name": "stderr",
     "output_type": "stream",
     "text": [
      "  0%|          | 58/17847 [00:08<39:19,  7.54it/s]"
     ]
    },
    {
     "name": "stdout",
     "output_type": "stream",
     "text": [
      "torch.Size([76, 20]) torch.Size([66, 20]) torch.Size([1520]) torch.Size([1320])\n",
      "torch.Size([68, 20]) torch.Size([63, 20]) torch.Size([1360]) torch.Size([1260])\n"
     ]
    },
    {
     "name": "stderr",
     "output_type": "stream",
     "text": [
      "  0%|          | 60/17847 [00:08<39:22,  7.53it/s]"
     ]
    },
    {
     "name": "stdout",
     "output_type": "stream",
     "text": [
      "torch.Size([74, 20]) torch.Size([70, 20]) torch.Size([1480]) torch.Size([1400])\n",
      "torch.Size([67, 20]) torch.Size([71, 20]) torch.Size([1340]) torch.Size([1420])\n"
     ]
    },
    {
     "name": "stderr",
     "output_type": "stream",
     "text": [
      "  0%|          | 62/17847 [00:09<40:56,  7.24it/s]"
     ]
    },
    {
     "name": "stdout",
     "output_type": "stream",
     "text": [
      "torch.Size([67, 20]) torch.Size([69, 20]) torch.Size([1340]) torch.Size([1380])\n",
      "torch.Size([66, 20]) torch.Size([73, 20]) torch.Size([1320]) torch.Size([1460])\n"
     ]
    },
    {
     "name": "stderr",
     "output_type": "stream",
     "text": [
      "  0%|          | 64/17847 [00:09<40:42,  7.28it/s]"
     ]
    },
    {
     "name": "stdout",
     "output_type": "stream",
     "text": [
      "torch.Size([71, 20]) torch.Size([66, 20]) torch.Size([1420]) torch.Size([1320])\n",
      "torch.Size([58, 20]) torch.Size([71, 20]) torch.Size([1160]) torch.Size([1420])\n"
     ]
    },
    {
     "name": "stderr",
     "output_type": "stream",
     "text": [
      "  0%|          | 66/17847 [00:09<40:05,  7.39it/s]"
     ]
    },
    {
     "name": "stdout",
     "output_type": "stream",
     "text": [
      "torch.Size([71, 20]) torch.Size([65, 20]) torch.Size([1420]) torch.Size([1300])\n",
      "torch.Size([60, 20]) torch.Size([64, 20]) torch.Size([1200]) torch.Size([1280])\n"
     ]
    },
    {
     "name": "stderr",
     "output_type": "stream",
     "text": [
      "  0%|          | 68/17847 [00:10<39:55,  7.42it/s]"
     ]
    },
    {
     "name": "stdout",
     "output_type": "stream",
     "text": [
      "torch.Size([70, 20]) torch.Size([71, 20]) torch.Size([1400]) torch.Size([1420])\n",
      "torch.Size([69, 20]) torch.Size([63, 20]) torch.Size([1380]) torch.Size([1260])\n"
     ]
    },
    {
     "name": "stderr",
     "output_type": "stream",
     "text": [
      "  0%|          | 70/17847 [00:10<37:41,  7.86it/s]"
     ]
    },
    {
     "name": "stdout",
     "output_type": "stream",
     "text": [
      "torch.Size([73, 20]) torch.Size([37, 20]) torch.Size([1460]) torch.Size([740])\n",
      "torch.Size([69, 20]) torch.Size([67, 20]) torch.Size([1380]) torch.Size([1340])\n"
     ]
    },
    {
     "name": "stderr",
     "output_type": "stream",
     "text": [
      "  0%|          | 72/17847 [00:10<37:38,  7.87it/s]"
     ]
    },
    {
     "name": "stdout",
     "output_type": "stream",
     "text": [
      "torch.Size([65, 20]) torch.Size([77, 20]) torch.Size([1300]) torch.Size([1540])\n",
      "torch.Size([77, 20]) torch.Size([73, 20]) torch.Size([1540]) torch.Size([1460])\n"
     ]
    },
    {
     "name": "stderr",
     "output_type": "stream",
     "text": [
      "  0%|          | 74/17847 [00:10<40:25,  7.33it/s]"
     ]
    },
    {
     "name": "stdout",
     "output_type": "stream",
     "text": [
      "torch.Size([65, 20]) torch.Size([69, 20]) torch.Size([1300]) torch.Size([1380])\n",
      "torch.Size([80, 20]) torch.Size([77, 20]) torch.Size([1600]) torch.Size([1540])\n"
     ]
    },
    {
     "name": "stderr",
     "output_type": "stream",
     "text": [
      "  0%|          | 76/17847 [00:11<41:53,  7.07it/s]"
     ]
    },
    {
     "name": "stdout",
     "output_type": "stream",
     "text": [
      "torch.Size([72, 20]) torch.Size([62, 20]) torch.Size([1440]) torch.Size([1240])\n",
      "torch.Size([64, 20]) torch.Size([67, 20]) torch.Size([1280]) torch.Size([1340])\n"
     ]
    },
    {
     "name": "stderr",
     "output_type": "stream",
     "text": [
      "  0%|          | 78/17847 [00:11<41:37,  7.11it/s]"
     ]
    },
    {
     "name": "stdout",
     "output_type": "stream",
     "text": [
      "torch.Size([78, 20]) torch.Size([70, 20]) torch.Size([1560]) torch.Size([1400])\n",
      "torch.Size([70, 20]) torch.Size([66, 20]) torch.Size([1400]) torch.Size([1320])\n"
     ]
    },
    {
     "name": "stderr",
     "output_type": "stream",
     "text": [
      "  0%|          | 80/17847 [00:11<41:35,  7.12it/s]"
     ]
    },
    {
     "name": "stdout",
     "output_type": "stream",
     "text": [
      "torch.Size([67, 20]) torch.Size([76, 20]) torch.Size([1340]) torch.Size([1520])\n",
      "torch.Size([67, 20]) torch.Size([72, 20]) torch.Size([1340]) torch.Size([1440])\n"
     ]
    },
    {
     "name": "stderr",
     "output_type": "stream",
     "text": [
      "  0%|          | 82/17847 [00:11<41:51,  7.07it/s]"
     ]
    },
    {
     "name": "stdout",
     "output_type": "stream",
     "text": [
      "torch.Size([73, 20]) torch.Size([72, 20]) torch.Size([1460]) torch.Size([1440])\n",
      "torch.Size([75, 20]) torch.Size([72, 20]) torch.Size([1500]) torch.Size([1440])\n"
     ]
    },
    {
     "name": "stderr",
     "output_type": "stream",
     "text": [
      "  0%|          | 84/17847 [00:12<42:40,  6.94it/s]"
     ]
    },
    {
     "name": "stdout",
     "output_type": "stream",
     "text": [
      "torch.Size([64, 20]) torch.Size([72, 20]) torch.Size([1280]) torch.Size([1440])\n",
      "torch.Size([69, 20]) torch.Size([73, 20]) torch.Size([1380]) torch.Size([1460])\n"
     ]
    },
    {
     "name": "stderr",
     "output_type": "stream",
     "text": [
      "  0%|          | 86/17847 [00:12<42:20,  6.99it/s]"
     ]
    },
    {
     "name": "stdout",
     "output_type": "stream",
     "text": [
      "torch.Size([74, 20]) torch.Size([70, 20]) torch.Size([1480]) torch.Size([1400])\n",
      "torch.Size([69, 20]) torch.Size([73, 20]) torch.Size([1380]) torch.Size([1460])\n"
     ]
    },
    {
     "name": "stderr",
     "output_type": "stream",
     "text": [
      "  0%|          | 88/17847 [00:12<42:34,  6.95it/s]"
     ]
    },
    {
     "name": "stdout",
     "output_type": "stream",
     "text": [
      "torch.Size([73, 20]) torch.Size([74, 20]) torch.Size([1460]) torch.Size([1480])\n",
      "torch.Size([68, 20]) torch.Size([72, 20]) torch.Size([1360]) torch.Size([1440])\n"
     ]
    },
    {
     "name": "stderr",
     "output_type": "stream",
     "text": [
      "  1%|          | 90/17847 [00:13<42:53,  6.90it/s]"
     ]
    },
    {
     "name": "stdout",
     "output_type": "stream",
     "text": [
      "torch.Size([65, 20]) torch.Size([65, 20]) torch.Size([1300]) torch.Size([1300])\n",
      "torch.Size([68, 20]) torch.Size([74, 20]) torch.Size([1360]) torch.Size([1480])\n"
     ]
    },
    {
     "name": "stderr",
     "output_type": "stream",
     "text": [
      "  1%|          | 92/17847 [00:13<41:51,  7.07it/s]"
     ]
    },
    {
     "name": "stdout",
     "output_type": "stream",
     "text": [
      "torch.Size([73, 20]) torch.Size([64, 20]) torch.Size([1460]) torch.Size([1280])\n",
      "torch.Size([65, 20]) torch.Size([71, 20]) torch.Size([1300]) torch.Size([1420])\n"
     ]
    },
    {
     "name": "stderr",
     "output_type": "stream",
     "text": [
      "  1%|          | 94/17847 [00:13<40:45,  7.26it/s]"
     ]
    },
    {
     "name": "stdout",
     "output_type": "stream",
     "text": [
      "torch.Size([71, 20]) torch.Size([61, 20]) torch.Size([1420]) torch.Size([1220])\n",
      "torch.Size([72, 20]) torch.Size([70, 20]) torch.Size([1440]) torch.Size([1400])\n"
     ]
    },
    {
     "name": "stderr",
     "output_type": "stream",
     "text": [
      "  1%|          | 96/17847 [00:13<41:27,  7.14it/s]"
     ]
    },
    {
     "name": "stdout",
     "output_type": "stream",
     "text": [
      "torch.Size([67, 20]) torch.Size([70, 20]) torch.Size([1340]) torch.Size([1400])\n",
      "torch.Size([69, 20]) torch.Size([70, 20]) torch.Size([1380]) torch.Size([1400])\n"
     ]
    },
    {
     "name": "stderr",
     "output_type": "stream",
     "text": [
      "  1%|          | 98/17847 [00:14<41:53,  7.06it/s]"
     ]
    },
    {
     "name": "stdout",
     "output_type": "stream",
     "text": [
      "torch.Size([75, 20]) torch.Size([70, 20]) torch.Size([1500]) torch.Size([1400])\n",
      "torch.Size([72, 20]) torch.Size([77, 20]) torch.Size([1440]) torch.Size([1540])\n"
     ]
    },
    {
     "name": "stderr",
     "output_type": "stream",
     "text": [
      "  1%|          | 100/17847 [00:14<40:13,  7.35it/s]"
     ]
    },
    {
     "name": "stdout",
     "output_type": "stream",
     "text": [
      "torch.Size([66, 20]) torch.Size([34, 20]) torch.Size([1320]) torch.Size([680])\n",
      "torch.Size([67, 20]) torch.Size([72, 20]) torch.Size([1340]) torch.Size([1440])\n"
     ]
    },
    {
     "name": "stderr",
     "output_type": "stream",
     "text": [
      "  1%|          | 102/17847 [00:14<36:20,  8.14it/s]"
     ]
    },
    {
     "name": "stdout",
     "output_type": "stream",
     "text": [
      "torch.Size([35, 20]) torch.Size([74, 20]) torch.Size([700]) torch.Size([1480])\n",
      "torch.Size([70, 20]) torch.Size([66, 20]) torch.Size([1400]) torch.Size([1320])\n"
     ]
    },
    {
     "name": "stderr",
     "output_type": "stream",
     "text": [
      "  1%|          | 104/17847 [00:14<36:29,  8.10it/s]"
     ]
    },
    {
     "name": "stdout",
     "output_type": "stream",
     "text": [
      "torch.Size([68, 20]) torch.Size([64, 20]) torch.Size([1360]) torch.Size([1280])\n",
      "torch.Size([72, 20]) torch.Size([43, 20]) torch.Size([1440]) torch.Size([860])\n"
     ]
    },
    {
     "name": "stderr",
     "output_type": "stream",
     "text": [
      "  1%|          | 106/17847 [00:15<35:25,  8.35it/s]"
     ]
    },
    {
     "name": "stdout",
     "output_type": "stream",
     "text": [
      "torch.Size([74, 20]) torch.Size([72, 20]) torch.Size([1480]) torch.Size([1440])\n",
      "torch.Size([65, 20]) torch.Size([68, 20]) torch.Size([1300]) torch.Size([1360])\n"
     ]
    },
    {
     "name": "stderr",
     "output_type": "stream",
     "text": [
      "  1%|          | 108/17847 [00:15<38:22,  7.71it/s]"
     ]
    },
    {
     "name": "stdout",
     "output_type": "stream",
     "text": [
      "torch.Size([63, 20]) torch.Size([72, 20]) torch.Size([1260]) torch.Size([1440])\n",
      "torch.Size([68, 20]) torch.Size([71, 20]) torch.Size([1360]) torch.Size([1420])\n"
     ]
    },
    {
     "name": "stderr",
     "output_type": "stream",
     "text": [
      "  1%|          | 110/17847 [00:15<39:37,  7.46it/s]"
     ]
    },
    {
     "name": "stdout",
     "output_type": "stream",
     "text": [
      "torch.Size([62, 20]) torch.Size([71, 20]) torch.Size([1240]) torch.Size([1420])\n",
      "torch.Size([67, 20]) torch.Size([75, 20]) torch.Size([1340]) torch.Size([1500])\n"
     ]
    },
    {
     "name": "stderr",
     "output_type": "stream",
     "text": [
      "  1%|          | 112/17847 [00:16<39:45,  7.44it/s]"
     ]
    },
    {
     "name": "stdout",
     "output_type": "stream",
     "text": [
      "torch.Size([63, 20]) torch.Size([74, 20]) torch.Size([1260]) torch.Size([1480])\n",
      "torch.Size([63, 20]) torch.Size([68, 20]) torch.Size([1260]) torch.Size([1360])\n"
     ]
    },
    {
     "name": "stderr",
     "output_type": "stream",
     "text": [
      "  1%|          | 114/17847 [00:16<37:53,  7.80it/s]"
     ]
    },
    {
     "name": "stdout",
     "output_type": "stream",
     "text": [
      "torch.Size([71, 20]) torch.Size([36, 20]) torch.Size([1420]) torch.Size([720])\n",
      "torch.Size([66, 20]) torch.Size([65, 20]) torch.Size([1320]) torch.Size([1300])\n"
     ]
    },
    {
     "name": "stderr",
     "output_type": "stream",
     "text": [
      "  1%|          | 116/17847 [00:16<37:44,  7.83it/s]"
     ]
    },
    {
     "name": "stdout",
     "output_type": "stream",
     "text": [
      "torch.Size([66, 20]) torch.Size([71, 20]) torch.Size([1320]) torch.Size([1420])\n",
      "torch.Size([69, 20]) torch.Size([61, 20]) torch.Size([1380]) torch.Size([1220])\n"
     ]
    },
    {
     "name": "stderr",
     "output_type": "stream",
     "text": [
      "  1%|          | 118/17847 [00:16<38:48,  7.61it/s]"
     ]
    },
    {
     "name": "stdout",
     "output_type": "stream",
     "text": [
      "torch.Size([73, 20]) torch.Size([64, 20]) torch.Size([1460]) torch.Size([1280])\n",
      "torch.Size([70, 20]) torch.Size([72, 20]) torch.Size([1400]) torch.Size([1440])\n"
     ]
    },
    {
     "name": "stderr",
     "output_type": "stream",
     "text": [
      "  1%|          | 120/17847 [00:17<39:52,  7.41it/s]"
     ]
    },
    {
     "name": "stdout",
     "output_type": "stream",
     "text": [
      "torch.Size([74, 20]) torch.Size([62, 20]) torch.Size([1480]) torch.Size([1240])\n",
      "torch.Size([64, 20]) torch.Size([75, 20]) torch.Size([1280]) torch.Size([1500])\n"
     ]
    },
    {
     "name": "stderr",
     "output_type": "stream",
     "text": [
      "  1%|          | 122/17847 [00:17<38:59,  7.58it/s]"
     ]
    },
    {
     "name": "stdout",
     "output_type": "stream",
     "text": [
      "torch.Size([56, 20]) torch.Size([68, 20]) torch.Size([1120]) torch.Size([1360])\n",
      "torch.Size([68, 20]) torch.Size([62, 20]) torch.Size([1360]) torch.Size([1240])\n"
     ]
    },
    {
     "name": "stderr",
     "output_type": "stream",
     "text": [
      "  1%|          | 124/17847 [00:17<38:40,  7.64it/s]"
     ]
    },
    {
     "name": "stdout",
     "output_type": "stream",
     "text": [
      "torch.Size([69, 20]) torch.Size([71, 20]) torch.Size([1380]) torch.Size([1420])\n",
      "torch.Size([68, 20]) torch.Size([67, 20]) torch.Size([1360]) torch.Size([1340])\n"
     ]
    },
    {
     "name": "stderr",
     "output_type": "stream",
     "text": [
      "  1%|          | 126/17847 [00:17<40:21,  7.32it/s]"
     ]
    },
    {
     "name": "stdout",
     "output_type": "stream",
     "text": [
      "torch.Size([68, 20]) torch.Size([68, 20]) torch.Size([1360]) torch.Size([1360])\n",
      "torch.Size([71, 20]) torch.Size([75, 20]) torch.Size([1420]) torch.Size([1500])\n"
     ]
    },
    {
     "name": "stderr",
     "output_type": "stream",
     "text": [
      "  1%|          | 128/17847 [00:18<42:00,  7.03it/s]"
     ]
    },
    {
     "name": "stdout",
     "output_type": "stream",
     "text": [
      "torch.Size([73, 20]) torch.Size([74, 20]) torch.Size([1460]) torch.Size([1480])\n",
      "torch.Size([76, 20]) torch.Size([73, 20]) torch.Size([1520]) torch.Size([1460])\n"
     ]
    },
    {
     "name": "stderr",
     "output_type": "stream",
     "text": [
      "  1%|          | 130/17847 [00:18<42:24,  6.96it/s]"
     ]
    },
    {
     "name": "stdout",
     "output_type": "stream",
     "text": [
      "torch.Size([60, 20]) torch.Size([75, 20]) torch.Size([1200]) torch.Size([1500])\n",
      "torch.Size([61, 20]) torch.Size([59, 20]) torch.Size([1220]) torch.Size([1180])\n"
     ]
    },
    {
     "name": "stderr",
     "output_type": "stream",
     "text": [
      "  1%|          | 132/17847 [00:18<41:03,  7.19it/s]"
     ]
    },
    {
     "name": "stdout",
     "output_type": "stream",
     "text": [
      "torch.Size([70, 20]) torch.Size([74, 20]) torch.Size([1400]) torch.Size([1480])\n",
      "torch.Size([67, 20]) torch.Size([70, 20]) torch.Size([1340]) torch.Size([1400])\n"
     ]
    },
    {
     "name": "stderr",
     "output_type": "stream",
     "text": [
      "  1%|          | 134/17847 [00:19<41:09,  7.17it/s]"
     ]
    },
    {
     "name": "stdout",
     "output_type": "stream",
     "text": [
      "torch.Size([70, 20]) torch.Size([65, 20]) torch.Size([1400]) torch.Size([1300])\n",
      "torch.Size([65, 20]) torch.Size([70, 20]) torch.Size([1300]) torch.Size([1400])\n"
     ]
    },
    {
     "name": "stderr",
     "output_type": "stream",
     "text": [
      "  1%|          | 136/17847 [00:19<38:19,  7.70it/s]"
     ]
    },
    {
     "name": "stdout",
     "output_type": "stream",
     "text": [
      "torch.Size([27, 20]) torch.Size([67, 20]) torch.Size([540]) torch.Size([1340])\n",
      "torch.Size([65, 20]) torch.Size([71, 20]) torch.Size([1300]) torch.Size([1420])\n"
     ]
    },
    {
     "name": "stderr",
     "output_type": "stream",
     "text": [
      "\r",
      "  1%|          | 138/17847 [00:19<37:24,  7.89it/s]"
     ]
    },
    {
     "name": "stdout",
     "output_type": "stream",
     "text": [
      "torch.Size([78, 20]) torch.Size([74, 20]) torch.Size([1560]) torch.Size([1480])\n",
      "torch.Size([66, 20]) torch.Size([73, 20]) torch.Size([1320]) torch.Size([1460])\n"
     ]
    },
    {
     "name": "stderr",
     "output_type": "stream",
     "text": [
      "  1%|          | 140/17847 [00:19<39:15,  7.52it/s]"
     ]
    },
    {
     "name": "stdout",
     "output_type": "stream",
     "text": [
      "torch.Size([58, 20]) torch.Size([64, 20]) torch.Size([1160]) torch.Size([1280])\n",
      "torch.Size([68, 20]) torch.Size([62, 20]) torch.Size([1360]) torch.Size([1240])\n"
     ]
    },
    {
     "name": "stderr",
     "output_type": "stream",
     "text": [
      "  1%|          | 142/17847 [00:20<39:09,  7.54it/s]"
     ]
    },
    {
     "name": "stdout",
     "output_type": "stream",
     "text": [
      "torch.Size([80, 20]) torch.Size([71, 20]) torch.Size([1600]) torch.Size([1420])\n",
      "torch.Size([66, 20]) torch.Size([70, 20]) torch.Size([1320]) torch.Size([1400])\n"
     ]
    },
    {
     "name": "stderr",
     "output_type": "stream",
     "text": [
      "  1%|          | 144/17847 [00:20<40:23,  7.31it/s]"
     ]
    },
    {
     "name": "stdout",
     "output_type": "stream",
     "text": [
      "torch.Size([65, 20]) torch.Size([72, 20]) torch.Size([1300]) torch.Size([1440])\n",
      "torch.Size([69, 20]) torch.Size([67, 20]) torch.Size([1380]) torch.Size([1340])\n"
     ]
    },
    {
     "name": "stderr",
     "output_type": "stream",
     "text": [
      "  1%|          | 146/17847 [00:20<39:55,  7.39it/s]"
     ]
    },
    {
     "name": "stdout",
     "output_type": "stream",
     "text": [
      "torch.Size([51, 20]) torch.Size([66, 20]) torch.Size([1020]) torch.Size([1320])\n",
      "torch.Size([66, 20]) torch.Size([68, 20]) torch.Size([1320]) torch.Size([1360])\n"
     ]
    },
    {
     "name": "stderr",
     "output_type": "stream",
     "text": [
      "  1%|          | 148/17847 [00:20<39:51,  7.40it/s]"
     ]
    },
    {
     "name": "stdout",
     "output_type": "stream",
     "text": [
      "torch.Size([70, 20]) torch.Size([72, 20]) torch.Size([1400]) torch.Size([1440])\n",
      "torch.Size([74, 20]) torch.Size([65, 20]) torch.Size([1480]) torch.Size([1300])\n"
     ]
    },
    {
     "name": "stderr",
     "output_type": "stream",
     "text": [
      "  1%|          | 150/17847 [00:21<40:08,  7.35it/s]"
     ]
    },
    {
     "name": "stdout",
     "output_type": "stream",
     "text": [
      "torch.Size([74, 20]) torch.Size([67, 20]) torch.Size([1480]) torch.Size([1340])\n",
      "torch.Size([64, 20]) torch.Size([69, 20]) torch.Size([1280]) torch.Size([1380])\n"
     ]
    },
    {
     "name": "stderr",
     "output_type": "stream",
     "text": [
      "  1%|          | 152/17847 [00:21<40:28,  7.29it/s]"
     ]
    },
    {
     "name": "stdout",
     "output_type": "stream",
     "text": [
      "torch.Size([73, 20]) torch.Size([63, 20]) torch.Size([1460]) torch.Size([1260])\n",
      "torch.Size([67, 20]) torch.Size([70, 20]) torch.Size([1340]) torch.Size([1400])\n"
     ]
    },
    {
     "name": "stderr",
     "output_type": "stream",
     "text": [
      "  1%|          | 154/17847 [00:21<40:20,  7.31it/s]"
     ]
    },
    {
     "name": "stdout",
     "output_type": "stream",
     "text": [
      "torch.Size([66, 20]) torch.Size([74, 20]) torch.Size([1320]) torch.Size([1480])\n",
      "torch.Size([79, 20]) torch.Size([82, 20]) torch.Size([1580]) torch.Size([1640])\n"
     ]
    },
    {
     "name": "stderr",
     "output_type": "stream",
     "text": [
      "  1%|          | 156/17847 [00:21<42:32,  6.93it/s]"
     ]
    },
    {
     "name": "stdout",
     "output_type": "stream",
     "text": [
      "torch.Size([72, 20]) torch.Size([67, 20]) torch.Size([1440]) torch.Size([1340])\n",
      "torch.Size([39, 20]) torch.Size([71, 20]) torch.Size([780]) torch.Size([1420])\n"
     ]
    },
    {
     "name": "stderr",
     "output_type": "stream",
     "text": [
      "  1%|          | 158/17847 [00:22<37:42,  7.82it/s]"
     ]
    },
    {
     "name": "stdout",
     "output_type": "stream",
     "text": [
      "torch.Size([64, 20]) torch.Size([75, 20]) torch.Size([1280]) torch.Size([1500])\n",
      "torch.Size([65, 20]) torch.Size([67, 20]) torch.Size([1300]) torch.Size([1340])\n"
     ]
    },
    {
     "name": "stderr",
     "output_type": "stream",
     "text": [
      "  1%|          | 160/17847 [00:22<39:29,  7.47it/s]"
     ]
    },
    {
     "name": "stdout",
     "output_type": "stream",
     "text": [
      "torch.Size([69, 20]) torch.Size([70, 20]) torch.Size([1380]) torch.Size([1400])\n",
      "torch.Size([63, 20]) torch.Size([77, 20]) torch.Size([1260]) torch.Size([1540])\n"
     ]
    },
    {
     "name": "stderr",
     "output_type": "stream",
     "text": [
      "  1%|          | 162/17847 [00:22<39:53,  7.39it/s]"
     ]
    },
    {
     "name": "stdout",
     "output_type": "stream",
     "text": [
      "torch.Size([69, 20]) torch.Size([71, 20]) torch.Size([1380]) torch.Size([1420])\n",
      "torch.Size([72, 20]) torch.Size([72, 20]) torch.Size([1440]) torch.Size([1440])\n"
     ]
    },
    {
     "name": "stderr",
     "output_type": "stream",
     "text": [
      "  1%|          | 164/17847 [00:23<40:12,  7.33it/s]"
     ]
    },
    {
     "name": "stdout",
     "output_type": "stream",
     "text": [
      "torch.Size([43, 20]) torch.Size([70, 20]) torch.Size([860]) torch.Size([1400])\n",
      "torch.Size([60, 20]) torch.Size([71, 20]) torch.Size([1200]) torch.Size([1420])\n"
     ]
    },
    {
     "name": "stderr",
     "output_type": "stream",
     "text": [
      "  1%|          | 166/17847 [00:23<37:43,  7.81it/s]"
     ]
    },
    {
     "name": "stdout",
     "output_type": "stream",
     "text": [
      "torch.Size([62, 20]) torch.Size([66, 20]) torch.Size([1240]) torch.Size([1320])\n",
      "torch.Size([36, 20]) torch.Size([71, 20]) torch.Size([720]) torch.Size([1420])\n"
     ]
    },
    {
     "name": "stderr",
     "output_type": "stream",
     "text": [
      "  1%|          | 169/17847 [00:23<33:42,  8.74it/s]"
     ]
    },
    {
     "name": "stdout",
     "output_type": "stream",
     "text": [
      "torch.Size([78, 20]) torch.Size([39, 20]) torch.Size([1560]) torch.Size([780])\n",
      "torch.Size([76, 20]) torch.Size([70, 20]) torch.Size([1520]) torch.Size([1400])\n",
      "torch.Size([65, 20]) torch.Size([67, 20]) torch.Size([1300]) torch.Size([1340])\n"
     ]
    },
    {
     "name": "stderr",
     "output_type": "stream",
     "text": [
      "  1%|          | 171/17847 [00:23<38:01,  7.75it/s]"
     ]
    },
    {
     "name": "stdout",
     "output_type": "stream",
     "text": [
      "torch.Size([70, 20]) torch.Size([72, 20]) torch.Size([1400]) torch.Size([1440])\n",
      "torch.Size([36, 20]) torch.Size([63, 20]) torch.Size([720]) torch.Size([1260])\n"
     ]
    },
    {
     "name": "stderr",
     "output_type": "stream",
     "text": [
      "  1%|          | 173/17847 [00:24<35:17,  8.35it/s]"
     ]
    },
    {
     "name": "stdout",
     "output_type": "stream",
     "text": [
      "torch.Size([69, 20]) torch.Size([65, 20]) torch.Size([1380]) torch.Size([1300])\n",
      "torch.Size([72, 20]) torch.Size([67, 20]) torch.Size([1440]) torch.Size([1340])\n"
     ]
    },
    {
     "name": "stderr",
     "output_type": "stream",
     "text": [
      "  1%|          | 175/17847 [00:24<38:44,  7.60it/s]"
     ]
    },
    {
     "name": "stdout",
     "output_type": "stream",
     "text": [
      "torch.Size([74, 20]) torch.Size([74, 20]) torch.Size([1480]) torch.Size([1480])\n",
      "torch.Size([66, 20]) torch.Size([71, 20]) torch.Size([1320]) torch.Size([1420])\n"
     ]
    },
    {
     "name": "stderr",
     "output_type": "stream",
     "text": [
      "  1%|          | 177/17847 [00:24<40:54,  7.20it/s]"
     ]
    },
    {
     "name": "stdout",
     "output_type": "stream",
     "text": [
      "torch.Size([68, 20]) torch.Size([71, 20]) torch.Size([1360]) torch.Size([1420])\n",
      "torch.Size([67, 20]) torch.Size([72, 20]) torch.Size([1340]) torch.Size([1440])\n"
     ]
    },
    {
     "name": "stderr",
     "output_type": "stream",
     "text": [
      "  1%|          | 179/17847 [00:24<41:31,  7.09it/s]"
     ]
    },
    {
     "name": "stdout",
     "output_type": "stream",
     "text": [
      "torch.Size([69, 20]) torch.Size([73, 20]) torch.Size([1380]) torch.Size([1460])\n",
      "torch.Size([68, 20]) torch.Size([73, 20]) torch.Size([1360]) torch.Size([1460])\n"
     ]
    },
    {
     "name": "stderr",
     "output_type": "stream",
     "text": [
      "  1%|          | 181/17847 [00:25<41:14,  7.14it/s]"
     ]
    },
    {
     "name": "stdout",
     "output_type": "stream",
     "text": [
      "torch.Size([63, 20]) torch.Size([69, 20]) torch.Size([1260]) torch.Size([1380])\n",
      "torch.Size([61, 20]) torch.Size([72, 20]) torch.Size([1220]) torch.Size([1440])\n"
     ]
    },
    {
     "name": "stderr",
     "output_type": "stream",
     "text": [
      "  1%|          | 183/17847 [00:25<40:53,  7.20it/s]"
     ]
    },
    {
     "name": "stdout",
     "output_type": "stream",
     "text": [
      "torch.Size([71, 20]) torch.Size([72, 20]) torch.Size([1420]) torch.Size([1440])\n",
      "torch.Size([78, 20]) torch.Size([71, 20]) torch.Size([1560]) torch.Size([1420])\n"
     ]
    },
    {
     "name": "stderr",
     "output_type": "stream",
     "text": [
      "  1%|          | 185/17847 [00:25<39:42,  7.41it/s]"
     ]
    },
    {
     "name": "stdout",
     "output_type": "stream",
     "text": [
      "torch.Size([35, 20]) torch.Size([47, 20]) torch.Size([700]) torch.Size([940])\n",
      "torch.Size([74, 20]) torch.Size([73, 20]) torch.Size([1480]) torch.Size([1460])\n"
     ]
    },
    {
     "name": "stderr",
     "output_type": "stream",
     "text": [
      "  1%|          | 187/17847 [00:26<37:54,  7.76it/s]"
     ]
    },
    {
     "name": "stdout",
     "output_type": "stream",
     "text": [
      "torch.Size([68, 20]) torch.Size([50, 20]) torch.Size([1360]) torch.Size([1000])\n",
      "torch.Size([77, 20]) torch.Size([70, 20]) torch.Size([1540]) torch.Size([1400])\n"
     ]
    },
    {
     "name": "stderr",
     "output_type": "stream",
     "text": [
      "  1%|          | 189/17847 [00:26<38:55,  7.56it/s]"
     ]
    },
    {
     "name": "stdout",
     "output_type": "stream",
     "text": [
      "torch.Size([71, 20]) torch.Size([60, 20]) torch.Size([1420]) torch.Size([1200])\n",
      "torch.Size([70, 20]) torch.Size([34, 20]) torch.Size([1400]) torch.Size([680])\n"
     ]
    },
    {
     "name": "stderr",
     "output_type": "stream",
     "text": [
      "  1%|          | 192/17847 [00:26<33:09,  8.87it/s]"
     ]
    },
    {
     "name": "stdout",
     "output_type": "stream",
     "text": [
      "torch.Size([32, 20]) torch.Size([75, 20]) torch.Size([640]) torch.Size([1500])\n",
      "torch.Size([63, 20]) torch.Size([76, 20]) torch.Size([1260]) torch.Size([1520])\n",
      "torch.Size([69, 20]) torch.Size([32, 20]) torch.Size([1380]) torch.Size([640])\n"
     ]
    },
    {
     "name": "stderr",
     "output_type": "stream",
     "text": [
      "  1%|          | 194/17847 [00:26<31:40,  9.29it/s]"
     ]
    },
    {
     "name": "stdout",
     "output_type": "stream",
     "text": [
      "torch.Size([66, 20]) torch.Size([72, 20]) torch.Size([1320]) torch.Size([1440])\n",
      "torch.Size([75, 20]) torch.Size([71, 20]) torch.Size([1500]) torch.Size([1420])\n"
     ]
    },
    {
     "name": "stderr",
     "output_type": "stream",
     "text": [
      "  1%|          | 196/17847 [00:27<37:29,  7.85it/s]"
     ]
    },
    {
     "name": "stdout",
     "output_type": "stream",
     "text": [
      "torch.Size([72, 20]) torch.Size([65, 20]) torch.Size([1440]) torch.Size([1300])\n",
      "torch.Size([72, 20]) torch.Size([81, 20]) torch.Size([1440]) torch.Size([1620])\n"
     ]
    },
    {
     "name": "stderr",
     "output_type": "stream",
     "text": [
      "  1%|          | 198/17847 [00:27<40:17,  7.30it/s]"
     ]
    },
    {
     "name": "stdout",
     "output_type": "stream",
     "text": [
      "torch.Size([70, 20]) torch.Size([70, 20]) torch.Size([1400]) torch.Size([1400])\n",
      "torch.Size([71, 20]) torch.Size([76, 20]) torch.Size([1420]) torch.Size([1520])\n"
     ]
    },
    {
     "name": "stderr",
     "output_type": "stream",
     "text": [
      "  1%|          | 200/17847 [00:27<41:37,  7.07it/s]"
     ]
    },
    {
     "name": "stdout",
     "output_type": "stream",
     "text": [
      "torch.Size([65, 20]) torch.Size([65, 20]) torch.Size([1300]) torch.Size([1300])\n",
      "torch.Size([65, 20]) torch.Size([66, 20]) torch.Size([1300]) torch.Size([1320])\n"
     ]
    },
    {
     "name": "stderr",
     "output_type": "stream",
     "text": [
      "  1%|          | 202/17847 [00:27<40:46,  7.21it/s]"
     ]
    },
    {
     "name": "stdout",
     "output_type": "stream",
     "text": [
      "torch.Size([63, 20]) torch.Size([64, 20]) torch.Size([1260]) torch.Size([1280])\n",
      "torch.Size([74, 20]) torch.Size([66, 20]) torch.Size([1480]) torch.Size([1320])\n"
     ]
    },
    {
     "name": "stderr",
     "output_type": "stream",
     "text": [
      "  1%|          | 204/17847 [00:28<40:32,  7.25it/s]"
     ]
    },
    {
     "name": "stdout",
     "output_type": "stream",
     "text": [
      "torch.Size([66, 20]) torch.Size([70, 20]) torch.Size([1320]) torch.Size([1400])\n",
      "torch.Size([77, 20]) torch.Size([28, 20]) torch.Size([1540]) torch.Size([560])\n"
     ]
    },
    {
     "name": "stderr",
     "output_type": "stream",
     "text": [
      "  1%|          | 206/17847 [00:28<35:31,  8.28it/s]"
     ]
    },
    {
     "name": "stdout",
     "output_type": "stream",
     "text": [
      "torch.Size([74, 20]) torch.Size([77, 20]) torch.Size([1480]) torch.Size([1540])\n",
      "torch.Size([63, 20]) torch.Size([62, 20]) torch.Size([1260]) torch.Size([1240])\n"
     ]
    },
    {
     "name": "stderr",
     "output_type": "stream",
     "text": [
      "  1%|          | 208/17847 [00:28<38:20,  7.67it/s]"
     ]
    },
    {
     "name": "stdout",
     "output_type": "stream",
     "text": [
      "torch.Size([72, 20]) torch.Size([71, 20]) torch.Size([1440]) torch.Size([1420])\n",
      "torch.Size([72, 20]) torch.Size([73, 20]) torch.Size([1440]) torch.Size([1460])\n"
     ]
    },
    {
     "name": "stderr",
     "output_type": "stream",
     "text": [
      "  1%|          | 210/17847 [00:28<40:28,  7.26it/s]"
     ]
    },
    {
     "name": "stdout",
     "output_type": "stream",
     "text": [
      "torch.Size([73, 20]) torch.Size([62, 20]) torch.Size([1460]) torch.Size([1240])\n",
      "torch.Size([69, 20]) torch.Size([60, 20]) torch.Size([1380]) torch.Size([1200])\n"
     ]
    },
    {
     "name": "stderr",
     "output_type": "stream",
     "text": [
      "  1%|          | 212/17847 [00:29<39:22,  7.47it/s]"
     ]
    },
    {
     "name": "stdout",
     "output_type": "stream",
     "text": [
      "torch.Size([64, 20]) torch.Size([68, 20]) torch.Size([1280]) torch.Size([1360])\n",
      "torch.Size([72, 20]) torch.Size([30, 20]) torch.Size([1440]) torch.Size([600])\n"
     ]
    },
    {
     "name": "stderr",
     "output_type": "stream",
     "text": [
      "\r",
      "  1%|          | 213/17847 [00:29<36:58,  7.95it/s]"
     ]
    },
    {
     "name": "stdout",
     "output_type": "stream",
     "text": [
      "torch.Size([63, 20]) torch.Size([64, 20]) torch.Size([1260]) torch.Size([1280])\n",
      "torch.Size([69, 20]) torch.Size([70, 20]) torch.Size([1380]) torch.Size([1400])\n"
     ]
    },
    {
     "name": "stderr",
     "output_type": "stream",
     "text": [
      "  1%|          | 216/17847 [00:29<38:29,  7.64it/s]"
     ]
    },
    {
     "name": "stdout",
     "output_type": "stream",
     "text": [
      "torch.Size([73, 20]) torch.Size([76, 20]) torch.Size([1460]) torch.Size([1520])\n",
      "torch.Size([70, 20]) torch.Size([68, 20]) torch.Size([1400]) torch.Size([1360])\n"
     ]
    },
    {
     "name": "stderr",
     "output_type": "stream",
     "text": [
      "  1%|          | 218/17847 [00:30<40:02,  7.34it/s]"
     ]
    },
    {
     "name": "stdout",
     "output_type": "stream",
     "text": [
      "torch.Size([68, 20]) torch.Size([62, 20]) torch.Size([1360]) torch.Size([1240])\n",
      "torch.Size([69, 20]) torch.Size([33, 20]) torch.Size([1380]) torch.Size([660])\n"
     ]
    },
    {
     "name": "stderr",
     "output_type": "stream",
     "text": [
      "  1%|          | 220/17847 [00:30<34:57,  8.40it/s]"
     ]
    },
    {
     "name": "stdout",
     "output_type": "stream",
     "text": [
      "torch.Size([75, 20]) torch.Size([62, 20]) torch.Size([1500]) torch.Size([1240])\n",
      "torch.Size([33, 20]) torch.Size([75, 20]) torch.Size([660]) torch.Size([1500])\n"
     ]
    },
    {
     "name": "stderr",
     "output_type": "stream",
     "text": [
      "  1%|          | 222/17847 [00:30<32:53,  8.93it/s]"
     ]
    },
    {
     "name": "stdout",
     "output_type": "stream",
     "text": [
      "torch.Size([67, 20]) torch.Size([71, 20]) torch.Size([1340]) torch.Size([1420])\n",
      "torch.Size([67, 20]) torch.Size([69, 20]) torch.Size([1340]) torch.Size([1380])\n"
     ]
    },
    {
     "name": "stderr",
     "output_type": "stream",
     "text": [
      "  1%|▏         | 224/17847 [00:30<37:38,  7.80it/s]"
     ]
    },
    {
     "name": "stdout",
     "output_type": "stream",
     "text": [
      "torch.Size([71, 20]) torch.Size([70, 20]) torch.Size([1420]) torch.Size([1400])\n",
      "torch.Size([75, 20]) torch.Size([72, 20]) torch.Size([1500]) torch.Size([1440])\n"
     ]
    },
    {
     "name": "stderr",
     "output_type": "stream",
     "text": [
      "  1%|▏         | 226/17847 [00:31<40:38,  7.23it/s]"
     ]
    },
    {
     "name": "stdout",
     "output_type": "stream",
     "text": [
      "torch.Size([67, 20]) torch.Size([79, 20]) torch.Size([1340]) torch.Size([1580])\n",
      "torch.Size([59, 20]) torch.Size([67, 20]) torch.Size([1180]) torch.Size([1340])\n"
     ]
    },
    {
     "name": "stderr",
     "output_type": "stream",
     "text": [
      "  1%|▏         | 228/17847 [00:31<40:02,  7.33it/s]"
     ]
    },
    {
     "name": "stdout",
     "output_type": "stream",
     "text": [
      "torch.Size([72, 20]) torch.Size([64, 20]) torch.Size([1440]) torch.Size([1280])\n",
      "torch.Size([68, 20]) torch.Size([74, 20]) torch.Size([1360]) torch.Size([1480])\n"
     ]
    },
    {
     "name": "stderr",
     "output_type": "stream",
     "text": [
      "  1%|▏         | 230/17847 [00:31<40:02,  7.33it/s]"
     ]
    },
    {
     "name": "stdout",
     "output_type": "stream",
     "text": [
      "torch.Size([68, 20]) torch.Size([66, 20]) torch.Size([1360]) torch.Size([1320])\n",
      "torch.Size([73, 20]) torch.Size([75, 20]) torch.Size([1460]) torch.Size([1500])\n"
     ]
    },
    {
     "name": "stderr",
     "output_type": "stream",
     "text": [
      "  1%|▏         | 232/17847 [00:31<41:02,  7.15it/s]"
     ]
    },
    {
     "name": "stdout",
     "output_type": "stream",
     "text": [
      "torch.Size([68, 20]) torch.Size([63, 20]) torch.Size([1360]) torch.Size([1260])\n",
      "torch.Size([67, 20]) torch.Size([70, 20]) torch.Size([1340]) torch.Size([1400])\n"
     ]
    },
    {
     "name": "stderr",
     "output_type": "stream",
     "text": [
      "  1%|▏         | 234/17847 [00:32<40:59,  7.16it/s]"
     ]
    },
    {
     "name": "stdout",
     "output_type": "stream",
     "text": [
      "torch.Size([70, 20]) torch.Size([73, 20]) torch.Size([1400]) torch.Size([1460])\n",
      "torch.Size([68, 20]) torch.Size([65, 20]) torch.Size([1360]) torch.Size([1300])\n"
     ]
    },
    {
     "name": "stderr",
     "output_type": "stream",
     "text": [
      "  1%|▏         | 236/17847 [00:32<40:43,  7.21it/s]"
     ]
    },
    {
     "name": "stdout",
     "output_type": "stream",
     "text": [
      "torch.Size([63, 20]) torch.Size([66, 20]) torch.Size([1260]) torch.Size([1320])\n",
      "torch.Size([73, 20]) torch.Size([68, 20]) torch.Size([1460]) torch.Size([1360])\n"
     ]
    },
    {
     "name": "stderr",
     "output_type": "stream",
     "text": [
      "  1%|▏         | 238/17847 [00:32<41:06,  7.14it/s]"
     ]
    },
    {
     "name": "stdout",
     "output_type": "stream",
     "text": [
      "torch.Size([64, 20]) torch.Size([70, 20]) torch.Size([1280]) torch.Size([1400])\n",
      "torch.Size([69, 20]) torch.Size([72, 20]) torch.Size([1380]) torch.Size([1440])\n"
     ]
    },
    {
     "name": "stderr",
     "output_type": "stream",
     "text": [
      "  1%|▏         | 240/17847 [00:32<40:25,  7.26it/s]"
     ]
    },
    {
     "name": "stdout",
     "output_type": "stream",
     "text": [
      "torch.Size([61, 20]) torch.Size([78, 20]) torch.Size([1220]) torch.Size([1560])\n",
      "torch.Size([68, 20]) torch.Size([68, 20]) torch.Size([1360]) torch.Size([1360])\n"
     ]
    },
    {
     "name": "stderr",
     "output_type": "stream",
     "text": [
      "  1%|▏         | 242/17847 [00:33<41:04,  7.14it/s]"
     ]
    },
    {
     "name": "stdout",
     "output_type": "stream",
     "text": [
      "torch.Size([70, 20]) torch.Size([73, 20]) torch.Size([1400]) torch.Size([1460])\n",
      "torch.Size([65, 20]) torch.Size([67, 20]) torch.Size([1300]) torch.Size([1340])\n"
     ]
    },
    {
     "name": "stderr",
     "output_type": "stream",
     "text": [
      "  1%|▏         | 244/17847 [00:33<41:29,  7.07it/s]"
     ]
    },
    {
     "name": "stdout",
     "output_type": "stream",
     "text": [
      "torch.Size([69, 20]) torch.Size([83, 20]) torch.Size([1380]) torch.Size([1660])\n",
      "torch.Size([78, 20]) torch.Size([65, 20]) torch.Size([1560]) torch.Size([1300])\n"
     ]
    },
    {
     "name": "stderr",
     "output_type": "stream",
     "text": [
      "  1%|▏         | 246/17847 [00:33<41:28,  7.07it/s]"
     ]
    },
    {
     "name": "stdout",
     "output_type": "stream",
     "text": [
      "torch.Size([65, 20]) torch.Size([74, 20]) torch.Size([1300]) torch.Size([1480])\n",
      "torch.Size([78, 20]) torch.Size([68, 20]) torch.Size([1560]) torch.Size([1360])\n"
     ]
    },
    {
     "name": "stderr",
     "output_type": "stream",
     "text": [
      "  1%|▏         | 248/17847 [00:34<41:14,  7.11it/s]"
     ]
    },
    {
     "name": "stdout",
     "output_type": "stream",
     "text": [
      "torch.Size([78, 20]) torch.Size([69, 20]) torch.Size([1560]) torch.Size([1380])\n",
      "torch.Size([67, 20]) torch.Size([74, 20]) torch.Size([1340]) torch.Size([1480])\n"
     ]
    },
    {
     "name": "stderr",
     "output_type": "stream",
     "text": [
      "  1%|▏         | 250/17847 [00:34<41:48,  7.02it/s]"
     ]
    },
    {
     "name": "stdout",
     "output_type": "stream",
     "text": [
      "torch.Size([65, 20]) torch.Size([72, 20]) torch.Size([1300]) torch.Size([1440])\n",
      "torch.Size([61, 20]) torch.Size([64, 20]) torch.Size([1220]) torch.Size([1280])\n"
     ]
    },
    {
     "name": "stderr",
     "output_type": "stream",
     "text": [
      "  1%|▏         | 252/17847 [00:34<40:38,  7.21it/s]"
     ]
    },
    {
     "name": "stdout",
     "output_type": "stream",
     "text": [
      "torch.Size([74, 20]) torch.Size([69, 20]) torch.Size([1480]) torch.Size([1380])\n",
      "torch.Size([70, 20]) torch.Size([69, 20]) torch.Size([1400]) torch.Size([1380])\n"
     ]
    },
    {
     "name": "stderr",
     "output_type": "stream",
     "text": [
      "  1%|▏         | 254/17847 [00:34<41:29,  7.07it/s]"
     ]
    },
    {
     "name": "stdout",
     "output_type": "stream",
     "text": [
      "torch.Size([67, 20]) torch.Size([76, 20]) torch.Size([1340]) torch.Size([1520])\n",
      "torch.Size([59, 20]) torch.Size([77, 20]) torch.Size([1180]) torch.Size([1540])\n"
     ]
    },
    {
     "name": "stderr",
     "output_type": "stream",
     "text": [
      "  1%|▏         | 256/17847 [00:35<40:42,  7.20it/s]"
     ]
    },
    {
     "name": "stdout",
     "output_type": "stream",
     "text": [
      "torch.Size([75, 20]) torch.Size([72, 20]) torch.Size([1500]) torch.Size([1440])\n",
      "torch.Size([78, 20]) torch.Size([68, 20]) torch.Size([1560]) torch.Size([1360])\n"
     ]
    },
    {
     "name": "stderr",
     "output_type": "stream",
     "text": [
      "  1%|▏         | 258/17847 [00:35<41:49,  7.01it/s]"
     ]
    },
    {
     "name": "stdout",
     "output_type": "stream",
     "text": [
      "torch.Size([70, 20]) torch.Size([74, 20]) torch.Size([1400]) torch.Size([1480])\n",
      "torch.Size([64, 20]) torch.Size([66, 20]) torch.Size([1280]) torch.Size([1320])\n"
     ]
    },
    {
     "name": "stderr",
     "output_type": "stream",
     "text": [
      "  1%|▏         | 260/17847 [00:35<40:43,  7.20it/s]"
     ]
    },
    {
     "name": "stdout",
     "output_type": "stream",
     "text": [
      "torch.Size([69, 20]) torch.Size([68, 20]) torch.Size([1380]) torch.Size([1360])\n",
      "torch.Size([75, 20]) torch.Size([76, 20]) torch.Size([1500]) torch.Size([1520])\n"
     ]
    },
    {
     "name": "stderr",
     "output_type": "stream",
     "text": [
      "  1%|▏         | 262/17847 [00:36<41:56,  6.99it/s]"
     ]
    },
    {
     "name": "stdout",
     "output_type": "stream",
     "text": [
      "torch.Size([70, 20]) torch.Size([63, 20]) torch.Size([1400]) torch.Size([1260])\n",
      "torch.Size([74, 20]) torch.Size([69, 20]) torch.Size([1480]) torch.Size([1380])\n"
     ]
    },
    {
     "name": "stderr",
     "output_type": "stream",
     "text": [
      "  1%|▏         | 264/17847 [00:36<39:26,  7.43it/s]"
     ]
    },
    {
     "name": "stdout",
     "output_type": "stream",
     "text": [
      "torch.Size([73, 20]) torch.Size([37, 20]) torch.Size([1460]) torch.Size([740])\n",
      "torch.Size([70, 20]) torch.Size([72, 20]) torch.Size([1400]) torch.Size([1440])\n"
     ]
    },
    {
     "name": "stderr",
     "output_type": "stream",
     "text": [
      "  1%|▏         | 266/17847 [00:36<39:02,  7.51it/s]"
     ]
    },
    {
     "name": "stdout",
     "output_type": "stream",
     "text": [
      "torch.Size([71, 20]) torch.Size([68, 20]) torch.Size([1420]) torch.Size([1360])\n",
      "torch.Size([74, 20]) torch.Size([70, 20]) torch.Size([1480]) torch.Size([1400])\n"
     ]
    },
    {
     "name": "stderr",
     "output_type": "stream",
     "text": [
      "  2%|▏         | 268/17847 [00:36<40:39,  7.20it/s]"
     ]
    },
    {
     "name": "stdout",
     "output_type": "stream",
     "text": [
      "torch.Size([65, 20]) torch.Size([80, 20]) torch.Size([1300]) torch.Size([1600])\n",
      "torch.Size([70, 20]) torch.Size([74, 20]) torch.Size([1400]) torch.Size([1480])\n"
     ]
    },
    {
     "name": "stderr",
     "output_type": "stream",
     "text": [
      "  2%|▏         | 270/17847 [00:37<41:03,  7.13it/s]"
     ]
    },
    {
     "name": "stdout",
     "output_type": "stream",
     "text": [
      "torch.Size([70, 20]) torch.Size([66, 20]) torch.Size([1400]) torch.Size([1320])\n",
      "torch.Size([68, 20]) torch.Size([70, 20]) torch.Size([1360]) torch.Size([1400])\n"
     ]
    },
    {
     "name": "stderr",
     "output_type": "stream",
     "text": [
      "  2%|▏         | 272/17847 [00:37<38:47,  7.55it/s]"
     ]
    },
    {
     "name": "stdout",
     "output_type": "stream",
     "text": [
      "torch.Size([36, 20]) torch.Size([65, 20]) torch.Size([720]) torch.Size([1300])\n",
      "torch.Size([68, 20]) torch.Size([63, 20]) torch.Size([1360]) torch.Size([1260])\n"
     ]
    },
    {
     "name": "stderr",
     "output_type": "stream",
     "text": [
      "  2%|▏         | 274/17847 [00:37<36:55,  7.93it/s]"
     ]
    },
    {
     "name": "stdout",
     "output_type": "stream",
     "text": [
      "torch.Size([63, 20]) torch.Size([66, 20]) torch.Size([1260]) torch.Size([1320])\n",
      "torch.Size([63, 20]) torch.Size([70, 20]) torch.Size([1260]) torch.Size([1400])\n"
     ]
    },
    {
     "name": "stderr",
     "output_type": "stream",
     "text": [
      "  2%|▏         | 276/17847 [00:37<38:46,  7.55it/s]"
     ]
    },
    {
     "name": "stdout",
     "output_type": "stream",
     "text": [
      "torch.Size([65, 20]) torch.Size([77, 20]) torch.Size([1300]) torch.Size([1540])\n",
      "torch.Size([71, 20]) torch.Size([66, 20]) torch.Size([1420]) torch.Size([1320])\n"
     ]
    },
    {
     "name": "stderr",
     "output_type": "stream",
     "text": [
      "  2%|▏         | 278/17847 [00:38<39:33,  7.40it/s]"
     ]
    },
    {
     "name": "stdout",
     "output_type": "stream",
     "text": [
      "torch.Size([65, 20]) torch.Size([73, 20]) torch.Size([1300]) torch.Size([1460])\n",
      "torch.Size([70, 20]) torch.Size([70, 20]) torch.Size([1400]) torch.Size([1400])\n"
     ]
    },
    {
     "name": "stderr",
     "output_type": "stream",
     "text": [
      "  2%|▏         | 280/17847 [00:38<40:54,  7.16it/s]"
     ]
    },
    {
     "name": "stdout",
     "output_type": "stream",
     "text": [
      "torch.Size([73, 20]) torch.Size([67, 20]) torch.Size([1460]) torch.Size([1340])\n",
      "torch.Size([68, 20]) torch.Size([61, 20]) torch.Size([1360]) torch.Size([1220])\n"
     ]
    },
    {
     "name": "stderr",
     "output_type": "stream",
     "text": [
      "  2%|▏         | 282/17847 [00:38<40:33,  7.22it/s]"
     ]
    },
    {
     "name": "stdout",
     "output_type": "stream",
     "text": [
      "torch.Size([66, 20]) torch.Size([74, 20]) torch.Size([1320]) torch.Size([1480])\n",
      "torch.Size([73, 20]) torch.Size([73, 20]) torch.Size([1460]) torch.Size([1460])\n"
     ]
    },
    {
     "name": "stderr",
     "output_type": "stream",
     "text": [
      "  2%|▏         | 284/17847 [00:39<41:34,  7.04it/s]"
     ]
    },
    {
     "name": "stdout",
     "output_type": "stream",
     "text": [
      "torch.Size([67, 20]) torch.Size([72, 20]) torch.Size([1340]) torch.Size([1440])\n",
      "torch.Size([71, 20]) torch.Size([66, 20]) torch.Size([1420]) torch.Size([1320])\n"
     ]
    },
    {
     "name": "stderr",
     "output_type": "stream",
     "text": [
      "  2%|▏         | 286/17847 [00:39<41:03,  7.13it/s]"
     ]
    },
    {
     "name": "stdout",
     "output_type": "stream",
     "text": [
      "torch.Size([77, 20]) torch.Size([57, 20]) torch.Size([1540]) torch.Size([1140])\n",
      "torch.Size([72, 20]) torch.Size([70, 20]) torch.Size([1440]) torch.Size([1400])\n"
     ]
    },
    {
     "name": "stderr",
     "output_type": "stream",
     "text": [
      "  2%|▏         | 288/17847 [00:39<38:11,  7.66it/s]"
     ]
    },
    {
     "name": "stdout",
     "output_type": "stream",
     "text": [
      "torch.Size([71, 20]) torch.Size([29, 20]) torch.Size([1420]) torch.Size([580])\n",
      "torch.Size([76, 20]) torch.Size([74, 20]) torch.Size([1520]) torch.Size([1480])\n"
     ]
    },
    {
     "name": "stderr",
     "output_type": "stream",
     "text": [
      "  2%|▏         | 290/17847 [00:39<38:12,  7.66it/s]"
     ]
    },
    {
     "name": "stdout",
     "output_type": "stream",
     "text": [
      "torch.Size([64, 20]) torch.Size([69, 20]) torch.Size([1280]) torch.Size([1380])\n",
      "torch.Size([70, 20]) torch.Size([65, 20]) torch.Size([1400]) torch.Size([1300])\n"
     ]
    },
    {
     "name": "stderr",
     "output_type": "stream",
     "text": [
      "  2%|▏         | 292/17847 [00:40<39:43,  7.37it/s]"
     ]
    },
    {
     "name": "stdout",
     "output_type": "stream",
     "text": [
      "torch.Size([65, 20]) torch.Size([73, 20]) torch.Size([1300]) torch.Size([1460])\n",
      "torch.Size([67, 20]) torch.Size([63, 20]) torch.Size([1340]) torch.Size([1260])\n"
     ]
    },
    {
     "name": "stderr",
     "output_type": "stream",
     "text": [
      "  2%|▏         | 294/17847 [00:40<37:48,  7.74it/s]"
     ]
    },
    {
     "name": "stdout",
     "output_type": "stream",
     "text": [
      "torch.Size([68, 20]) torch.Size([38, 20]) torch.Size([1360]) torch.Size([760])\n",
      "torch.Size([29, 20]) torch.Size([63, 20]) torch.Size([580]) torch.Size([1260])\n",
      "torch.Size([77, 20]) torch.Size([69, 20]) torch.Size([1540]) torch.Size([1380])\n"
     ]
    },
    {
     "name": "stderr",
     "output_type": "stream",
     "text": [
      "  2%|▏         | 297/17847 [00:40<34:25,  8.50it/s]"
     ]
    },
    {
     "name": "stdout",
     "output_type": "stream",
     "text": [
      "torch.Size([69, 20]) torch.Size([39, 20]) torch.Size([1380]) torch.Size([780])\n",
      "torch.Size([27, 20]) torch.Size([66, 20]) torch.Size([540]) torch.Size([1320])\n",
      "torch.Size([74, 20]) torch.Size([62, 20]) torch.Size([1480]) torch.Size([1240])\n"
     ]
    },
    {
     "name": "stderr",
     "output_type": "stream",
     "text": [
      "  2%|▏         | 300/17847 [00:40<33:51,  8.64it/s]"
     ]
    },
    {
     "name": "stdout",
     "output_type": "stream",
     "text": [
      "torch.Size([61, 20]) torch.Size([70, 20]) torch.Size([1220]) torch.Size([1400])\n",
      "torch.Size([67, 20]) torch.Size([66, 20]) torch.Size([1340]) torch.Size([1320])\n"
     ]
    },
    {
     "name": "stderr",
     "output_type": "stream",
     "text": [
      "  2%|▏         | 302/17847 [00:41<37:00,  7.90it/s]"
     ]
    },
    {
     "name": "stdout",
     "output_type": "stream",
     "text": [
      "torch.Size([77, 20]) torch.Size([64, 20]) torch.Size([1540]) torch.Size([1280])\n",
      "torch.Size([61, 20]) torch.Size([72, 20]) torch.Size([1220]) torch.Size([1440])\n"
     ]
    },
    {
     "name": "stderr",
     "output_type": "stream",
     "text": [
      "  2%|▏         | 304/17847 [00:41<38:20,  7.62it/s]"
     ]
    },
    {
     "name": "stdout",
     "output_type": "stream",
     "text": [
      "torch.Size([70, 20]) torch.Size([70, 20]) torch.Size([1400]) torch.Size([1400])\n",
      "torch.Size([71, 20]) torch.Size([67, 20]) torch.Size([1420]) torch.Size([1340])\n"
     ]
    },
    {
     "name": "stderr",
     "output_type": "stream",
     "text": [
      "  2%|▏         | 306/17847 [00:41<36:32,  8.00it/s]"
     ]
    },
    {
     "name": "stdout",
     "output_type": "stream",
     "text": [
      "torch.Size([60, 20]) torch.Size([23, 20]) torch.Size([1200]) torch.Size([460])\n",
      "torch.Size([74, 20]) torch.Size([66, 20]) torch.Size([1480]) torch.Size([1320])\n",
      "torch.Size([30, 20]) torch.Size([68, 20]) torch.Size([600]) torch.Size([1360])\n"
     ]
    },
    {
     "name": "stderr",
     "output_type": "stream",
     "text": [
      "  2%|▏         | 309/17847 [00:42<33:03,  8.84it/s]"
     ]
    },
    {
     "name": "stdout",
     "output_type": "stream",
     "text": [
      "torch.Size([66, 20]) torch.Size([73, 20]) torch.Size([1320]) torch.Size([1460])\n",
      "torch.Size([66, 20]) torch.Size([73, 20]) torch.Size([1320]) torch.Size([1460])\n"
     ]
    },
    {
     "name": "stderr",
     "output_type": "stream",
     "text": [
      "  2%|▏         | 311/17847 [00:42<36:34,  7.99it/s]"
     ]
    },
    {
     "name": "stdout",
     "output_type": "stream",
     "text": [
      "torch.Size([73, 20]) torch.Size([70, 20]) torch.Size([1460]) torch.Size([1400])\n",
      "torch.Size([69, 20]) torch.Size([69, 20]) torch.Size([1380]) torch.Size([1380])\n"
     ]
    },
    {
     "name": "stderr",
     "output_type": "stream",
     "text": [
      "  2%|▏         | 313/17847 [00:42<39:13,  7.45it/s]"
     ]
    },
    {
     "name": "stdout",
     "output_type": "stream",
     "text": [
      "torch.Size([72, 20]) torch.Size([64, 20]) torch.Size([1440]) torch.Size([1280])\n",
      "torch.Size([68, 20]) torch.Size([74, 20]) torch.Size([1360]) torch.Size([1480])\n"
     ]
    },
    {
     "name": "stderr",
     "output_type": "stream",
     "text": [
      "  2%|▏         | 315/17847 [00:42<40:05,  7.29it/s]"
     ]
    },
    {
     "name": "stdout",
     "output_type": "stream",
     "text": [
      "torch.Size([66, 20]) torch.Size([64, 20]) torch.Size([1320]) torch.Size([1280])\n",
      "torch.Size([68, 20]) torch.Size([68, 20]) torch.Size([1360]) torch.Size([1360])\n"
     ]
    },
    {
     "name": "stderr",
     "output_type": "stream",
     "text": [
      "  2%|▏         | 317/17847 [00:43<41:11,  7.09it/s]"
     ]
    },
    {
     "name": "stdout",
     "output_type": "stream",
     "text": [
      "torch.Size([72, 20]) torch.Size([73, 20]) torch.Size([1440]) torch.Size([1460])\n",
      "torch.Size([67, 20]) torch.Size([77, 20]) torch.Size([1340]) torch.Size([1540])\n"
     ]
    },
    {
     "name": "stderr",
     "output_type": "stream",
     "text": [
      "  2%|▏         | 319/17847 [00:43<40:59,  7.13it/s]"
     ]
    },
    {
     "name": "stdout",
     "output_type": "stream",
     "text": [
      "torch.Size([84, 20]) torch.Size([63, 20]) torch.Size([1680]) torch.Size([1260])\n",
      "torch.Size([67, 20]) torch.Size([66, 20]) torch.Size([1340]) torch.Size([1320])\n"
     ]
    },
    {
     "name": "stderr",
     "output_type": "stream",
     "text": [
      "  2%|▏         | 321/17847 [00:43<41:05,  7.11it/s]"
     ]
    },
    {
     "name": "stdout",
     "output_type": "stream",
     "text": [
      "torch.Size([70, 20]) torch.Size([69, 20]) torch.Size([1400]) torch.Size([1380])\n",
      "torch.Size([58, 20]) torch.Size([75, 20]) torch.Size([1160]) torch.Size([1500])\n"
     ]
    },
    {
     "name": "stderr",
     "output_type": "stream",
     "text": [
      "  2%|▏         | 323/17847 [00:44<39:45,  7.35it/s]"
     ]
    },
    {
     "name": "stdout",
     "output_type": "stream",
     "text": [
      "torch.Size([65, 20]) torch.Size([65, 20]) torch.Size([1300]) torch.Size([1300])\n",
      "torch.Size([74, 20]) torch.Size([75, 20]) torch.Size([1480]) torch.Size([1500])\n"
     ]
    },
    {
     "name": "stderr",
     "output_type": "stream",
     "text": [
      "  2%|▏         | 325/17847 [00:44<41:53,  6.97it/s]"
     ]
    },
    {
     "name": "stdout",
     "output_type": "stream",
     "text": [
      "torch.Size([69, 20]) torch.Size([69, 20]) torch.Size([1380]) torch.Size([1380])\n",
      "torch.Size([69, 20]) torch.Size([71, 20]) torch.Size([1380]) torch.Size([1420])\n"
     ]
    },
    {
     "name": "stderr",
     "output_type": "stream",
     "text": [
      "  2%|▏         | 327/17847 [00:44<41:55,  6.96it/s]"
     ]
    },
    {
     "name": "stdout",
     "output_type": "stream",
     "text": [
      "torch.Size([72, 20]) torch.Size([67, 20]) torch.Size([1440]) torch.Size([1340])\n",
      "torch.Size([34, 20]) torch.Size([70, 20]) torch.Size([680]) torch.Size([1400])\n"
     ]
    },
    {
     "name": "stderr",
     "output_type": "stream",
     "text": [
      "  2%|▏         | 329/17847 [00:44<36:42,  7.95it/s]"
     ]
    },
    {
     "name": "stdout",
     "output_type": "stream",
     "text": [
      "torch.Size([68, 20]) torch.Size([66, 20]) torch.Size([1360]) torch.Size([1320])\n",
      "torch.Size([69, 20]) torch.Size([66, 20]) torch.Size([1380]) torch.Size([1320])\n"
     ]
    },
    {
     "name": "stderr",
     "output_type": "stream",
     "text": [
      "  2%|▏         | 331/17847 [00:45<38:36,  7.56it/s]"
     ]
    },
    {
     "name": "stdout",
     "output_type": "stream",
     "text": [
      "torch.Size([75, 20]) torch.Size([67, 20]) torch.Size([1500]) torch.Size([1340])\n",
      "torch.Size([67, 20]) torch.Size([68, 20]) torch.Size([1340]) torch.Size([1360])\n"
     ]
    },
    {
     "name": "stderr",
     "output_type": "stream",
     "text": [
      "  2%|▏         | 333/17847 [00:45<40:19,  7.24it/s]"
     ]
    },
    {
     "name": "stdout",
     "output_type": "stream",
     "text": [
      "torch.Size([73, 20]) torch.Size([70, 20]) torch.Size([1460]) torch.Size([1400])\n",
      "torch.Size([70, 20]) torch.Size([69, 20]) torch.Size([1400]) torch.Size([1380])\n"
     ]
    },
    {
     "name": "stderr",
     "output_type": "stream",
     "text": [
      "  2%|▏         | 335/17847 [00:45<40:17,  7.24it/s]"
     ]
    },
    {
     "name": "stdout",
     "output_type": "stream",
     "text": [
      "torch.Size([74, 20]) torch.Size([57, 20]) torch.Size([1480]) torch.Size([1140])\n",
      "torch.Size([65, 20]) torch.Size([55, 20]) torch.Size([1300]) torch.Size([1100])\n"
     ]
    },
    {
     "name": "stderr",
     "output_type": "stream",
     "text": [
      "  2%|▏         | 337/17847 [00:45<39:18,  7.43it/s]"
     ]
    },
    {
     "name": "stdout",
     "output_type": "stream",
     "text": [
      "torch.Size([73, 20]) torch.Size([75, 20]) torch.Size([1460]) torch.Size([1500])\n",
      "torch.Size([68, 20]) torch.Size([66, 20]) torch.Size([1360]) torch.Size([1320])\n"
     ]
    },
    {
     "name": "stderr",
     "output_type": "stream",
     "text": [
      "  2%|▏         | 339/17847 [00:46<41:06,  7.10it/s]"
     ]
    },
    {
     "name": "stdout",
     "output_type": "stream",
     "text": [
      "torch.Size([71, 20]) torch.Size([72, 20]) torch.Size([1420]) torch.Size([1440])\n",
      "torch.Size([74, 20]) torch.Size([68, 20]) torch.Size([1480]) torch.Size([1360])\n"
     ]
    },
    {
     "name": "stderr",
     "output_type": "stream",
     "text": [
      "  2%|▏         | 341/17847 [00:46<41:47,  6.98it/s]"
     ]
    },
    {
     "name": "stdout",
     "output_type": "stream",
     "text": [
      "torch.Size([69, 20]) torch.Size([66, 20]) torch.Size([1380]) torch.Size([1320])\n",
      "torch.Size([84, 20]) torch.Size([73, 20]) torch.Size([1680]) torch.Size([1460])\n"
     ]
    },
    {
     "name": "stderr",
     "output_type": "stream",
     "text": [
      "  2%|▏         | 343/17847 [00:46<42:08,  6.92it/s]"
     ]
    },
    {
     "name": "stdout",
     "output_type": "stream",
     "text": [
      "torch.Size([65, 20]) torch.Size([72, 20]) torch.Size([1300]) torch.Size([1440])\n",
      "torch.Size([64, 20]) torch.Size([75, 20]) torch.Size([1280]) torch.Size([1500])\n"
     ]
    },
    {
     "name": "stderr",
     "output_type": "stream",
     "text": [
      "  2%|▏         | 345/17847 [00:47<40:30,  7.20it/s]"
     ]
    },
    {
     "name": "stdout",
     "output_type": "stream",
     "text": [
      "torch.Size([63, 20]) torch.Size([66, 20]) torch.Size([1260]) torch.Size([1320])\n",
      "torch.Size([76, 20]) torch.Size([68, 20]) torch.Size([1520]) torch.Size([1360])\n"
     ]
    },
    {
     "name": "stderr",
     "output_type": "stream",
     "text": [
      "  2%|▏         | 347/17847 [00:47<40:08,  7.27it/s]"
     ]
    },
    {
     "name": "stdout",
     "output_type": "stream",
     "text": [
      "torch.Size([61, 20]) torch.Size([70, 20]) torch.Size([1220]) torch.Size([1400])\n",
      "torch.Size([62, 20]) torch.Size([79, 20]) torch.Size([1240]) torch.Size([1580])\n"
     ]
    },
    {
     "name": "stderr",
     "output_type": "stream",
     "text": [
      "  2%|▏         | 349/17847 [00:47<39:40,  7.35it/s]"
     ]
    },
    {
     "name": "stdout",
     "output_type": "stream",
     "text": [
      "torch.Size([67, 20]) torch.Size([72, 20]) torch.Size([1340]) torch.Size([1440])\n",
      "torch.Size([60, 20]) torch.Size([77, 20]) torch.Size([1200]) torch.Size([1540])\n"
     ]
    },
    {
     "name": "stderr",
     "output_type": "stream",
     "text": [
      "  2%|▏         | 351/17847 [00:47<40:08,  7.26it/s]"
     ]
    },
    {
     "name": "stdout",
     "output_type": "stream",
     "text": [
      "torch.Size([75, 20]) torch.Size([69, 20]) torch.Size([1500]) torch.Size([1380])\n",
      "torch.Size([75, 20]) torch.Size([72, 20]) torch.Size([1500]) torch.Size([1440])\n"
     ]
    },
    {
     "name": "stderr",
     "output_type": "stream",
     "text": [
      "  2%|▏         | 353/17847 [00:48<41:16,  7.06it/s]"
     ]
    },
    {
     "name": "stdout",
     "output_type": "stream",
     "text": [
      "torch.Size([65, 20]) torch.Size([68, 20]) torch.Size([1300]) torch.Size([1360])\n",
      "torch.Size([68, 20]) torch.Size([65, 20]) torch.Size([1360]) torch.Size([1300])\n"
     ]
    },
    {
     "name": "stderr",
     "output_type": "stream",
     "text": [
      "  2%|▏         | 355/17847 [00:48<40:51,  7.14it/s]"
     ]
    },
    {
     "name": "stdout",
     "output_type": "stream",
     "text": [
      "torch.Size([67, 20]) torch.Size([65, 20]) torch.Size([1340]) torch.Size([1300])\n",
      "torch.Size([65, 20]) torch.Size([71, 20]) torch.Size([1300]) torch.Size([1420])\n"
     ]
    },
    {
     "name": "stderr",
     "output_type": "stream",
     "text": [
      "  2%|▏         | 357/17847 [00:48<38:01,  7.67it/s]"
     ]
    },
    {
     "name": "stdout",
     "output_type": "stream",
     "text": [
      "torch.Size([28, 20]) torch.Size([67, 20]) torch.Size([560]) torch.Size([1340])\n",
      "torch.Size([69, 20]) torch.Size([77, 20]) torch.Size([1380]) torch.Size([1540])\n"
     ]
    },
    {
     "name": "stderr",
     "output_type": "stream",
     "text": [
      "  2%|▏         | 359/17847 [00:48<37:06,  7.86it/s]"
     ]
    },
    {
     "name": "stdout",
     "output_type": "stream",
     "text": [
      "torch.Size([64, 20]) torch.Size([76, 20]) torch.Size([1280]) torch.Size([1520])\n",
      "torch.Size([71, 20]) torch.Size([66, 20]) torch.Size([1420]) torch.Size([1320])\n"
     ]
    },
    {
     "name": "stderr",
     "output_type": "stream",
     "text": [
      "  2%|▏         | 361/17847 [00:49<38:44,  7.52it/s]"
     ]
    },
    {
     "name": "stdout",
     "output_type": "stream",
     "text": [
      "torch.Size([71, 20]) torch.Size([63, 20]) torch.Size([1420]) torch.Size([1260])\n",
      "torch.Size([65, 20]) torch.Size([77, 20]) torch.Size([1300]) torch.Size([1540])\n"
     ]
    },
    {
     "name": "stderr",
     "output_type": "stream",
     "text": [
      "  2%|▏         | 363/17847 [00:49<40:08,  7.26it/s]"
     ]
    },
    {
     "name": "stdout",
     "output_type": "stream",
     "text": [
      "torch.Size([68, 20]) torch.Size([73, 20]) torch.Size([1360]) torch.Size([1460])\n",
      "torch.Size([37, 20]) torch.Size([75, 20]) torch.Size([740]) torch.Size([1500])\n"
     ]
    },
    {
     "name": "stderr",
     "output_type": "stream",
     "text": [
      "  2%|▏         | 365/17847 [00:49<36:00,  8.09it/s]"
     ]
    },
    {
     "name": "stdout",
     "output_type": "stream",
     "text": [
      "torch.Size([68, 20]) torch.Size([75, 20]) torch.Size([1360]) torch.Size([1500])\n",
      "torch.Size([80, 20]) torch.Size([29, 20]) torch.Size([1600]) torch.Size([580])\n"
     ]
    },
    {
     "name": "stderr",
     "output_type": "stream",
     "text": [
      "  2%|▏         | 367/17847 [00:49<33:55,  8.59it/s]"
     ]
    },
    {
     "name": "stdout",
     "output_type": "stream",
     "text": [
      "torch.Size([75, 20]) torch.Size([77, 20]) torch.Size([1500]) torch.Size([1540])\n",
      "torch.Size([60, 20]) torch.Size([78, 20]) torch.Size([1200]) torch.Size([1560])\n"
     ]
    },
    {
     "name": "stderr",
     "output_type": "stream",
     "text": [
      "  2%|▏         | 369/17847 [00:50<37:31,  7.76it/s]"
     ]
    },
    {
     "name": "stdout",
     "output_type": "stream",
     "text": [
      "torch.Size([73, 20]) torch.Size([74, 20]) torch.Size([1460]) torch.Size([1480])\n",
      "torch.Size([73, 20]) torch.Size([36, 20]) torch.Size([1460]) torch.Size([720])\n"
     ]
    },
    {
     "name": "stderr",
     "output_type": "stream",
     "text": [
      "  2%|▏         | 371/17847 [00:50<35:44,  8.15it/s]"
     ]
    },
    {
     "name": "stdout",
     "output_type": "stream",
     "text": [
      "torch.Size([71, 20]) torch.Size([71, 20]) torch.Size([1420]) torch.Size([1420])\n",
      "torch.Size([76, 20]) torch.Size([34, 20]) torch.Size([1520]) torch.Size([680])\n"
     ]
    },
    {
     "name": "stderr",
     "output_type": "stream",
     "text": [
      "\r",
      "  2%|▏         | 372/17847 [00:50<35:19,  8.24it/s]"
     ]
    },
    {
     "name": "stdout",
     "output_type": "stream",
     "text": [
      "torch.Size([60, 20]) torch.Size([66, 20]) torch.Size([1200]) torch.Size([1320])\n",
      "torch.Size([70, 20]) torch.Size([60, 20]) torch.Size([1400]) torch.Size([1200])\n"
     ]
    },
    {
     "name": "stderr",
     "output_type": "stream",
     "text": [
      "  2%|▏         | 375/17847 [00:50<33:30,  8.69it/s]"
     ]
    },
    {
     "name": "stdout",
     "output_type": "stream",
     "text": [
      "torch.Size([71, 20]) torch.Size([35, 20]) torch.Size([1420]) torch.Size([700])\n",
      "torch.Size([65, 20]) torch.Size([66, 20]) torch.Size([1300]) torch.Size([1320])\n"
     ]
    },
    {
     "name": "stderr",
     "output_type": "stream",
     "text": [
      "  2%|▏         | 377/17847 [00:51<34:24,  8.46it/s]"
     ]
    },
    {
     "name": "stdout",
     "output_type": "stream",
     "text": [
      "torch.Size([67, 20]) torch.Size([78, 20]) torch.Size([1340]) torch.Size([1560])\n",
      "torch.Size([70, 20]) torch.Size([80, 20]) torch.Size([1400]) torch.Size([1600])\n"
     ]
    },
    {
     "name": "stderr",
     "output_type": "stream",
     "text": [
      "  2%|▏         | 379/17847 [00:51<38:02,  7.65it/s]"
     ]
    },
    {
     "name": "stdout",
     "output_type": "stream",
     "text": [
      "torch.Size([63, 20]) torch.Size([75, 20]) torch.Size([1260]) torch.Size([1500])\n",
      "torch.Size([74, 20]) torch.Size([73, 20]) torch.Size([1480]) torch.Size([1460])\n"
     ]
    },
    {
     "name": "stderr",
     "output_type": "stream",
     "text": [
      "  2%|▏         | 381/17847 [00:51<40:14,  7.23it/s]"
     ]
    },
    {
     "name": "stdout",
     "output_type": "stream",
     "text": [
      "torch.Size([70, 20]) torch.Size([65, 20]) torch.Size([1400]) torch.Size([1300])\n",
      "torch.Size([61, 20]) torch.Size([68, 20]) torch.Size([1220]) torch.Size([1360])\n"
     ]
    },
    {
     "name": "stderr",
     "output_type": "stream",
     "text": [
      "  2%|▏         | 383/17847 [00:51<40:04,  7.26it/s]"
     ]
    },
    {
     "name": "stdout",
     "output_type": "stream",
     "text": [
      "torch.Size([74, 20]) torch.Size([70, 20]) torch.Size([1480]) torch.Size([1400])\n",
      "torch.Size([67, 20]) torch.Size([75, 20]) torch.Size([1340]) torch.Size([1500])\n"
     ]
    },
    {
     "name": "stderr",
     "output_type": "stream",
     "text": [
      "  2%|▏         | 385/17847 [00:52<40:52,  7.12it/s]"
     ]
    },
    {
     "name": "stdout",
     "output_type": "stream",
     "text": [
      "torch.Size([68, 20]) torch.Size([70, 20]) torch.Size([1360]) torch.Size([1400])\n",
      "torch.Size([62, 20]) torch.Size([66, 20]) torch.Size([1240]) torch.Size([1320])\n"
     ]
    },
    {
     "name": "stderr",
     "output_type": "stream",
     "text": [
      "  2%|▏         | 387/17847 [00:52<39:47,  7.31it/s]"
     ]
    },
    {
     "name": "stdout",
     "output_type": "stream",
     "text": [
      "torch.Size([74, 20]) torch.Size([59, 20]) torch.Size([1480]) torch.Size([1180])\n",
      "torch.Size([69, 20]) torch.Size([65, 20]) torch.Size([1380]) torch.Size([1300])\n"
     ]
    },
    {
     "name": "stderr",
     "output_type": "stream",
     "text": [
      "  2%|▏         | 389/17847 [00:52<39:38,  7.34it/s]"
     ]
    },
    {
     "name": "stdout",
     "output_type": "stream",
     "text": [
      "torch.Size([72, 20]) torch.Size([69, 20]) torch.Size([1440]) torch.Size([1380])\n",
      "torch.Size([67, 20]) torch.Size([66, 20]) torch.Size([1340]) torch.Size([1320])\n"
     ]
    },
    {
     "name": "stderr",
     "output_type": "stream",
     "text": [
      "  2%|▏         | 391/17847 [00:53<40:36,  7.16it/s]"
     ]
    },
    {
     "name": "stdout",
     "output_type": "stream",
     "text": [
      "torch.Size([75, 20]) torch.Size([68, 20]) torch.Size([1500]) torch.Size([1360])\n",
      "torch.Size([68, 20]) torch.Size([72, 20]) torch.Size([1360]) torch.Size([1440])\n"
     ]
    },
    {
     "name": "stderr",
     "output_type": "stream",
     "text": [
      "  2%|▏         | 393/17847 [00:53<41:29,  7.01it/s]"
     ]
    },
    {
     "name": "stdout",
     "output_type": "stream",
     "text": [
      "torch.Size([72, 20]) torch.Size([70, 20]) torch.Size([1440]) torch.Size([1400])\n",
      "torch.Size([62, 20]) torch.Size([70, 20]) torch.Size([1240]) torch.Size([1400])\n"
     ]
    },
    {
     "name": "stderr",
     "output_type": "stream",
     "text": [
      "  2%|▏         | 395/17847 [00:53<38:05,  7.64it/s]"
     ]
    },
    {
     "name": "stdout",
     "output_type": "stream",
     "text": [
      "torch.Size([76, 20]) torch.Size([28, 20]) torch.Size([1520]) torch.Size([560])\n",
      "torch.Size([61, 20]) torch.Size([65, 20]) torch.Size([1220]) torch.Size([1300])\n",
      "torch.Size([71, 20]) torch.Size([66, 20]) torch.Size([1420]) torch.Size([1320])\n"
     ]
    },
    {
     "name": "stderr",
     "output_type": "stream",
     "text": [
      "  2%|▏         | 398/17847 [00:54<37:26,  7.77it/s]"
     ]
    },
    {
     "name": "stdout",
     "output_type": "stream",
     "text": [
      "torch.Size([72, 20]) torch.Size([65, 20]) torch.Size([1440]) torch.Size([1300])\n",
      "torch.Size([65, 20]) torch.Size([76, 20]) torch.Size([1300]) torch.Size([1520])\n"
     ]
    },
    {
     "name": "stderr",
     "output_type": "stream",
     "text": [
      "  2%|▏         | 400/17847 [00:54<38:17,  7.59it/s]"
     ]
    },
    {
     "name": "stdout",
     "output_type": "stream",
     "text": [
      "torch.Size([59, 20]) torch.Size([74, 20]) torch.Size([1180]) torch.Size([1480])\n",
      "torch.Size([62, 20]) torch.Size([80, 20]) torch.Size([1240]) torch.Size([1600])\n"
     ]
    },
    {
     "name": "stderr",
     "output_type": "stream",
     "text": [
      "  2%|▏         | 402/17847 [00:54<38:39,  7.52it/s]"
     ]
    },
    {
     "name": "stdout",
     "output_type": "stream",
     "text": [
      "torch.Size([66, 20]) torch.Size([72, 20]) torch.Size([1320]) torch.Size([1440])\n",
      "torch.Size([69, 20]) torch.Size([76, 20]) torch.Size([1380]) torch.Size([1520])\n"
     ]
    },
    {
     "name": "stderr",
     "output_type": "stream",
     "text": [
      "  2%|▏         | 404/17847 [00:54<39:56,  7.28it/s]"
     ]
    },
    {
     "name": "stdout",
     "output_type": "stream",
     "text": [
      "torch.Size([66, 20]) torch.Size([65, 20]) torch.Size([1320]) torch.Size([1300])\n",
      "torch.Size([77, 20]) torch.Size([69, 20]) torch.Size([1540]) torch.Size([1380])\n"
     ]
    },
    {
     "name": "stderr",
     "output_type": "stream",
     "text": [
      "  2%|▏         | 406/17847 [00:55<40:40,  7.15it/s]"
     ]
    },
    {
     "name": "stdout",
     "output_type": "stream",
     "text": [
      "torch.Size([73, 20]) torch.Size([62, 20]) torch.Size([1460]) torch.Size([1240])\n",
      "torch.Size([75, 20]) torch.Size([67, 20]) torch.Size([1500]) torch.Size([1340])\n"
     ]
    },
    {
     "name": "stderr",
     "output_type": "stream",
     "text": [
      "  2%|▏         | 408/17847 [00:55<40:04,  7.25it/s]"
     ]
    },
    {
     "name": "stdout",
     "output_type": "stream",
     "text": [
      "torch.Size([70, 20]) torch.Size([63, 20]) torch.Size([1400]) torch.Size([1260])\n",
      "torch.Size([68, 20]) torch.Size([61, 20]) torch.Size([1360]) torch.Size([1220])\n"
     ]
    },
    {
     "name": "stderr",
     "output_type": "stream",
     "text": [
      "  2%|▏         | 410/17847 [00:55<40:21,  7.20it/s]"
     ]
    },
    {
     "name": "stdout",
     "output_type": "stream",
     "text": [
      "torch.Size([72, 20]) torch.Size([74, 20]) torch.Size([1440]) torch.Size([1480])\n",
      "torch.Size([69, 20]) torch.Size([64, 20]) torch.Size([1380]) torch.Size([1280])\n"
     ]
    },
    {
     "name": "stderr",
     "output_type": "stream",
     "text": [
      "  2%|▏         | 412/17847 [00:55<40:04,  7.25it/s]"
     ]
    },
    {
     "name": "stdout",
     "output_type": "stream",
     "text": [
      "torch.Size([70, 20]) torch.Size([67, 20]) torch.Size([1400]) torch.Size([1340])\n",
      "torch.Size([65, 20]) torch.Size([72, 20]) torch.Size([1300]) torch.Size([1440])\n"
     ]
    },
    {
     "name": "stderr",
     "output_type": "stream",
     "text": [
      "  2%|▏         | 414/17847 [00:56<40:15,  7.22it/s]"
     ]
    },
    {
     "name": "stdout",
     "output_type": "stream",
     "text": [
      "torch.Size([77, 20]) torch.Size([62, 20]) torch.Size([1540]) torch.Size([1240])\n",
      "torch.Size([73, 20]) torch.Size([69, 20]) torch.Size([1460]) torch.Size([1380])\n"
     ]
    },
    {
     "name": "stderr",
     "output_type": "stream",
     "text": [
      "  2%|▏         | 416/17847 [00:56<40:37,  7.15it/s]"
     ]
    },
    {
     "name": "stdout",
     "output_type": "stream",
     "text": [
      "torch.Size([60, 20]) torch.Size([68, 20]) torch.Size([1200]) torch.Size([1360])\n",
      "torch.Size([66, 20]) torch.Size([75, 20]) torch.Size([1320]) torch.Size([1500])\n"
     ]
    },
    {
     "name": "stderr",
     "output_type": "stream",
     "text": [
      "  2%|▏         | 418/17847 [00:56<41:02,  7.08it/s]"
     ]
    },
    {
     "name": "stdout",
     "output_type": "stream",
     "text": [
      "torch.Size([72, 20]) torch.Size([71, 20]) torch.Size([1440]) torch.Size([1420])\n",
      "torch.Size([76, 20]) torch.Size([66, 20]) torch.Size([1520]) torch.Size([1320])\n"
     ]
    },
    {
     "name": "stderr",
     "output_type": "stream",
     "text": [
      "  2%|▏         | 420/17847 [00:57<41:07,  7.06it/s]"
     ]
    },
    {
     "name": "stdout",
     "output_type": "stream",
     "text": [
      "torch.Size([63, 20]) torch.Size([62, 20]) torch.Size([1260]) torch.Size([1240])\n",
      "torch.Size([67, 20]) torch.Size([66, 20]) torch.Size([1340]) torch.Size([1320])\n"
     ]
    },
    {
     "name": "stderr",
     "output_type": "stream",
     "text": [
      "  2%|▏         | 422/17847 [00:57<41:01,  7.08it/s]"
     ]
    },
    {
     "name": "stdout",
     "output_type": "stream",
     "text": [
      "torch.Size([74, 20]) torch.Size([73, 20]) torch.Size([1480]) torch.Size([1460])\n",
      "torch.Size([71, 20]) torch.Size([74, 20]) torch.Size([1420]) torch.Size([1480])\n"
     ]
    },
    {
     "name": "stderr",
     "output_type": "stream",
     "text": [
      "  2%|▏         | 424/17847 [00:57<41:30,  7.00it/s]"
     ]
    },
    {
     "name": "stdout",
     "output_type": "stream",
     "text": [
      "torch.Size([60, 20]) torch.Size([63, 20]) torch.Size([1200]) torch.Size([1260])\n",
      "torch.Size([69, 20]) torch.Size([63, 20]) torch.Size([1380]) torch.Size([1260])\n"
     ]
    },
    {
     "name": "stderr",
     "output_type": "stream",
     "text": [
      "  2%|▏         | 426/17847 [00:57<40:50,  7.11it/s]"
     ]
    },
    {
     "name": "stdout",
     "output_type": "stream",
     "text": [
      "torch.Size([73, 20]) torch.Size([72, 20]) torch.Size([1460]) torch.Size([1440])\n",
      "torch.Size([66, 20]) torch.Size([70, 20]) torch.Size([1320]) torch.Size([1400])\n"
     ]
    },
    {
     "name": "stderr",
     "output_type": "stream",
     "text": [
      "  2%|▏         | 428/17847 [00:58<41:07,  7.06it/s]"
     ]
    },
    {
     "name": "stdout",
     "output_type": "stream",
     "text": [
      "torch.Size([68, 20]) torch.Size([63, 20]) torch.Size([1360]) torch.Size([1260])\n",
      "torch.Size([68, 20]) torch.Size([69, 20]) torch.Size([1360]) torch.Size([1380])\n"
     ]
    },
    {
     "name": "stderr",
     "output_type": "stream",
     "text": [
      "  2%|▏         | 430/17847 [00:58<41:19,  7.02it/s]"
     ]
    },
    {
     "name": "stdout",
     "output_type": "stream",
     "text": [
      "torch.Size([68, 20]) torch.Size([76, 20]) torch.Size([1360]) torch.Size([1520])\n",
      "torch.Size([70, 20]) torch.Size([61, 20]) torch.Size([1400]) torch.Size([1220])\n"
     ]
    },
    {
     "name": "stderr",
     "output_type": "stream",
     "text": [
      "  2%|▏         | 432/17847 [00:58<40:26,  7.18it/s]"
     ]
    },
    {
     "name": "stdout",
     "output_type": "stream",
     "text": [
      "torch.Size([68, 20]) torch.Size([74, 20]) torch.Size([1360]) torch.Size([1480])\n",
      "torch.Size([61, 20]) torch.Size([69, 20]) torch.Size([1220]) torch.Size([1380])\n"
     ]
    },
    {
     "name": "stderr",
     "output_type": "stream",
     "text": [
      "  2%|▏         | 434/17847 [00:59<40:27,  7.17it/s]"
     ]
    },
    {
     "name": "stdout",
     "output_type": "stream",
     "text": [
      "torch.Size([70, 20]) torch.Size([65, 20]) torch.Size([1400]) torch.Size([1300])\n",
      "torch.Size([73, 20]) torch.Size([63, 20]) torch.Size([1460]) torch.Size([1260])\n"
     ]
    },
    {
     "name": "stderr",
     "output_type": "stream",
     "text": [
      "  2%|▏         | 436/17847 [00:59<40:41,  7.13it/s]"
     ]
    },
    {
     "name": "stdout",
     "output_type": "stream",
     "text": [
      "torch.Size([75, 20]) torch.Size([74, 20]) torch.Size([1500]) torch.Size([1480])\n",
      "torch.Size([79, 20]) torch.Size([80, 20]) torch.Size([1580]) torch.Size([1600])\n"
     ]
    },
    {
     "name": "stderr",
     "output_type": "stream",
     "text": [
      "  2%|▏         | 438/17847 [00:59<43:41,  6.64it/s]"
     ]
    },
    {
     "name": "stdout",
     "output_type": "stream",
     "text": [
      "torch.Size([74, 20]) torch.Size([75, 20]) torch.Size([1480]) torch.Size([1500])\n",
      "torch.Size([77, 20]) torch.Size([65, 20]) torch.Size([1540]) torch.Size([1300])\n"
     ]
    },
    {
     "name": "stderr",
     "output_type": "stream",
     "text": [
      "  2%|▏         | 440/17847 [00:59<42:08,  6.89it/s]"
     ]
    },
    {
     "name": "stdout",
     "output_type": "stream",
     "text": [
      "torch.Size([62, 20]) torch.Size([62, 20]) torch.Size([1240]) torch.Size([1240])\n",
      "torch.Size([72, 20]) torch.Size([75, 20]) torch.Size([1440]) torch.Size([1500])\n"
     ]
    },
    {
     "name": "stderr",
     "output_type": "stream",
     "text": [
      "  2%|▏         | 442/17847 [01:00<42:03,  6.90it/s]"
     ]
    },
    {
     "name": "stdout",
     "output_type": "stream",
     "text": [
      "torch.Size([63, 20]) torch.Size([66, 20]) torch.Size([1260]) torch.Size([1320])\n",
      "torch.Size([76, 20]) torch.Size([68, 20]) torch.Size([1520]) torch.Size([1360])\n"
     ]
    },
    {
     "name": "stderr",
     "output_type": "stream",
     "text": [
      "  2%|▏         | 444/17847 [01:00<41:30,  6.99it/s]"
     ]
    },
    {
     "name": "stdout",
     "output_type": "stream",
     "text": [
      "torch.Size([72, 20]) torch.Size([73, 20]) torch.Size([1440]) torch.Size([1460])\n",
      "torch.Size([69, 20]) torch.Size([65, 20]) torch.Size([1380]) torch.Size([1300])\n"
     ]
    },
    {
     "name": "stderr",
     "output_type": "stream",
     "text": [
      "  2%|▏         | 446/17847 [01:00<41:51,  6.93it/s]"
     ]
    },
    {
     "name": "stdout",
     "output_type": "stream",
     "text": [
      "torch.Size([67, 20]) torch.Size([77, 20]) torch.Size([1340]) torch.Size([1540])\n",
      "torch.Size([71, 20]) torch.Size([68, 20]) torch.Size([1420]) torch.Size([1360])\n"
     ]
    },
    {
     "name": "stderr",
     "output_type": "stream",
     "text": [
      "  3%|▎         | 448/17847 [01:01<41:23,  7.01it/s]"
     ]
    },
    {
     "name": "stdout",
     "output_type": "stream",
     "text": [
      "torch.Size([69, 20]) torch.Size([64, 20]) torch.Size([1380]) torch.Size([1280])\n",
      "torch.Size([71, 20]) torch.Size([64, 20]) torch.Size([1420]) torch.Size([1280])\n"
     ]
    },
    {
     "name": "stderr",
     "output_type": "stream",
     "text": [
      "  3%|▎         | 450/17847 [01:01<41:15,  7.03it/s]"
     ]
    },
    {
     "name": "stdout",
     "output_type": "stream",
     "text": [
      "torch.Size([72, 20]) torch.Size([72, 20]) torch.Size([1440]) torch.Size([1440])\n",
      "torch.Size([60, 20]) torch.Size([73, 20]) torch.Size([1200]) torch.Size([1460])\n"
     ]
    },
    {
     "name": "stderr",
     "output_type": "stream",
     "text": [
      "  3%|▎         | 452/17847 [01:01<40:54,  7.09it/s]"
     ]
    },
    {
     "name": "stdout",
     "output_type": "stream",
     "text": [
      "torch.Size([77, 20]) torch.Size([74, 20]) torch.Size([1540]) torch.Size([1480])\n",
      "torch.Size([71, 20]) torch.Size([73, 20]) torch.Size([1420]) torch.Size([1460])\n"
     ]
    },
    {
     "name": "stderr",
     "output_type": "stream",
     "text": [
      "  3%|▎         | 454/17847 [01:01<39:44,  7.30it/s]"
     ]
    },
    {
     "name": "stdout",
     "output_type": "stream",
     "text": [
      "torch.Size([34, 20]) torch.Size([67, 20]) torch.Size([680]) torch.Size([1340])\n",
      "torch.Size([71, 20]) torch.Size([74, 20]) torch.Size([1420]) torch.Size([1480])\n"
     ]
    },
    {
     "name": "stderr",
     "output_type": "stream",
     "text": [
      "  3%|▎         | 456/17847 [01:02<38:34,  7.52it/s]"
     ]
    },
    {
     "name": "stdout",
     "output_type": "stream",
     "text": [
      "torch.Size([65, 20]) torch.Size([73, 20]) torch.Size([1300]) torch.Size([1460])\n",
      "torch.Size([68, 20]) torch.Size([67, 20]) torch.Size([1360]) torch.Size([1340])\n"
     ]
    },
    {
     "name": "stderr",
     "output_type": "stream",
     "text": [
      "  3%|▎         | 458/17847 [01:02<40:05,  7.23it/s]"
     ]
    },
    {
     "name": "stdout",
     "output_type": "stream",
     "text": [
      "torch.Size([78, 20]) torch.Size([68, 20]) torch.Size([1560]) torch.Size([1360])\n",
      "torch.Size([76, 20]) torch.Size([63, 20]) torch.Size([1520]) torch.Size([1260])\n"
     ]
    },
    {
     "name": "stderr",
     "output_type": "stream",
     "text": [
      "  3%|▎         | 460/17847 [01:02<39:50,  7.27it/s]"
     ]
    },
    {
     "name": "stdout",
     "output_type": "stream",
     "text": [
      "torch.Size([75, 20]) torch.Size([66, 20]) torch.Size([1500]) torch.Size([1320])\n",
      "torch.Size([66, 20]) torch.Size([73, 20]) torch.Size([1320]) torch.Size([1460])\n"
     ]
    },
    {
     "name": "stderr",
     "output_type": "stream",
     "text": [
      "  3%|▎         | 462/17847 [01:02<40:06,  7.22it/s]"
     ]
    },
    {
     "name": "stdout",
     "output_type": "stream",
     "text": [
      "torch.Size([61, 20]) torch.Size([71, 20]) torch.Size([1220]) torch.Size([1420])\n",
      "torch.Size([75, 20]) torch.Size([67, 20]) torch.Size([1500]) torch.Size([1340])\n"
     ]
    },
    {
     "name": "stderr",
     "output_type": "stream",
     "text": [
      "  3%|▎         | 464/17847 [01:03<40:06,  7.22it/s]"
     ]
    },
    {
     "name": "stdout",
     "output_type": "stream",
     "text": [
      "torch.Size([66, 20]) torch.Size([60, 20]) torch.Size([1320]) torch.Size([1200])\n",
      "torch.Size([80, 20]) torch.Size([66, 20]) torch.Size([1600]) torch.Size([1320])\n"
     ]
    },
    {
     "name": "stderr",
     "output_type": "stream",
     "text": [
      "  3%|▎         | 466/17847 [01:03<40:25,  7.17it/s]"
     ]
    },
    {
     "name": "stdout",
     "output_type": "stream",
     "text": [
      "torch.Size([67, 20]) torch.Size([79, 20]) torch.Size([1340]) torch.Size([1580])\n",
      "torch.Size([74, 20]) torch.Size([72, 20]) torch.Size([1480]) torch.Size([1440])\n"
     ]
    },
    {
     "name": "stderr",
     "output_type": "stream",
     "text": [
      "  3%|▎         | 468/17847 [01:03<41:14,  7.02it/s]"
     ]
    },
    {
     "name": "stdout",
     "output_type": "stream",
     "text": [
      "torch.Size([70, 20]) torch.Size([69, 20]) torch.Size([1400]) torch.Size([1380])\n",
      "torch.Size([68, 20]) torch.Size([72, 20]) torch.Size([1360]) torch.Size([1440])\n"
     ]
    },
    {
     "name": "stderr",
     "output_type": "stream",
     "text": [
      "  3%|▎         | 470/17847 [01:04<41:47,  6.93it/s]"
     ]
    },
    {
     "name": "stdout",
     "output_type": "stream",
     "text": [
      "torch.Size([68, 20]) torch.Size([71, 20]) torch.Size([1360]) torch.Size([1420])\n",
      "torch.Size([54, 20]) torch.Size([74, 20]) torch.Size([1080]) torch.Size([1480])\n"
     ]
    },
    {
     "name": "stderr",
     "output_type": "stream",
     "text": [
      "  3%|▎         | 472/17847 [01:04<40:15,  7.19it/s]"
     ]
    },
    {
     "name": "stdout",
     "output_type": "stream",
     "text": [
      "torch.Size([68, 20]) torch.Size([71, 20]) torch.Size([1360]) torch.Size([1420])\n",
      "torch.Size([70, 20]) torch.Size([62, 20]) torch.Size([1400]) torch.Size([1240])\n"
     ]
    },
    {
     "name": "stderr",
     "output_type": "stream",
     "text": [
      "  3%|▎         | 474/17847 [01:04<37:47,  7.66it/s]"
     ]
    },
    {
     "name": "stdout",
     "output_type": "stream",
     "text": [
      "torch.Size([36, 20]) torch.Size([67, 20]) torch.Size([720]) torch.Size([1340])\n",
      "torch.Size([73, 20]) torch.Size([65, 20]) torch.Size([1460]) torch.Size([1300])\n"
     ]
    },
    {
     "name": "stderr",
     "output_type": "stream",
     "text": [
      "  3%|▎         | 476/17847 [01:04<37:15,  7.77it/s]"
     ]
    },
    {
     "name": "stdout",
     "output_type": "stream",
     "text": [
      "torch.Size([65, 20]) torch.Size([68, 20]) torch.Size([1300]) torch.Size([1360])\n",
      "torch.Size([72, 20]) torch.Size([75, 20]) torch.Size([1440]) torch.Size([1500])\n"
     ]
    },
    {
     "name": "stderr",
     "output_type": "stream",
     "text": [
      "  3%|▎         | 478/17847 [01:05<39:37,  7.31it/s]"
     ]
    },
    {
     "name": "stdout",
     "output_type": "stream",
     "text": [
      "torch.Size([64, 20]) torch.Size([72, 20]) torch.Size([1280]) torch.Size([1440])\n",
      "torch.Size([63, 20]) torch.Size([63, 20]) torch.Size([1260]) torch.Size([1260])\n"
     ]
    },
    {
     "name": "stderr",
     "output_type": "stream",
     "text": [
      "  3%|▎         | 480/17847 [01:05<39:34,  7.31it/s]"
     ]
    },
    {
     "name": "stdout",
     "output_type": "stream",
     "text": [
      "torch.Size([66, 20]) torch.Size([68, 20]) torch.Size([1320]) torch.Size([1360])\n",
      "torch.Size([65, 20]) torch.Size([73, 20]) torch.Size([1300]) torch.Size([1460])\n"
     ]
    },
    {
     "name": "stderr",
     "output_type": "stream",
     "text": [
      "  3%|▎         | 482/17847 [01:05<40:46,  7.10it/s]"
     ]
    },
    {
     "name": "stdout",
     "output_type": "stream",
     "text": [
      "torch.Size([69, 20]) torch.Size([69, 20]) torch.Size([1380]) torch.Size([1380])\n",
      "torch.Size([64, 20]) torch.Size([71, 20]) torch.Size([1280]) torch.Size([1420])\n"
     ]
    },
    {
     "name": "stderr",
     "output_type": "stream",
     "text": [
      "  3%|▎         | 484/17847 [01:06<40:37,  7.12it/s]"
     ]
    },
    {
     "name": "stdout",
     "output_type": "stream",
     "text": [
      "torch.Size([66, 20]) torch.Size([80, 20]) torch.Size([1320]) torch.Size([1600])\n",
      "torch.Size([64, 20]) torch.Size([74, 20]) torch.Size([1280]) torch.Size([1480])\n"
     ]
    },
    {
     "name": "stderr",
     "output_type": "stream",
     "text": [
      "  3%|▎         | 486/17847 [01:06<40:16,  7.18it/s]"
     ]
    },
    {
     "name": "stdout",
     "output_type": "stream",
     "text": [
      "torch.Size([71, 20]) torch.Size([64, 20]) torch.Size([1420]) torch.Size([1280])\n",
      "torch.Size([70, 20]) torch.Size([70, 20]) torch.Size([1400]) torch.Size([1400])\n"
     ]
    },
    {
     "name": "stderr",
     "output_type": "stream",
     "text": [
      "  3%|▎         | 488/17847 [01:06<40:55,  7.07it/s]"
     ]
    },
    {
     "name": "stdout",
     "output_type": "stream",
     "text": [
      "torch.Size([76, 20]) torch.Size([67, 20]) torch.Size([1520]) torch.Size([1340])\n",
      "torch.Size([64, 20]) torch.Size([78, 20]) torch.Size([1280]) torch.Size([1560])\n"
     ]
    },
    {
     "name": "stderr",
     "output_type": "stream",
     "text": [
      "  3%|▎         | 490/17847 [01:06<40:41,  7.11it/s]"
     ]
    },
    {
     "name": "stdout",
     "output_type": "stream",
     "text": [
      "torch.Size([74, 20]) torch.Size([72, 20]) torch.Size([1480]) torch.Size([1440])\n",
      "torch.Size([75, 20]) torch.Size([74, 20]) torch.Size([1500]) torch.Size([1480])\n"
     ]
    },
    {
     "name": "stderr",
     "output_type": "stream",
     "text": [
      "  3%|▎         | 492/17847 [01:07<41:58,  6.89it/s]"
     ]
    },
    {
     "name": "stdout",
     "output_type": "stream",
     "text": [
      "torch.Size([75, 20]) torch.Size([68, 20]) torch.Size([1500]) torch.Size([1360])\n",
      "torch.Size([78, 20]) torch.Size([76, 20]) torch.Size([1560]) torch.Size([1520])\n"
     ]
    },
    {
     "name": "stderr",
     "output_type": "stream",
     "text": [
      "  3%|▎         | 494/17847 [01:07<43:22,  6.67it/s]"
     ]
    },
    {
     "name": "stdout",
     "output_type": "stream",
     "text": [
      "torch.Size([77, 20]) torch.Size([71, 20]) torch.Size([1540]) torch.Size([1420])\n",
      "torch.Size([25, 20]) torch.Size([77, 20]) torch.Size([500]) torch.Size([1540])\n"
     ]
    },
    {
     "name": "stderr",
     "output_type": "stream",
     "text": [
      "\r",
      "  3%|▎         | 495/17847 [01:07<40:02,  7.22it/s]"
     ]
    },
    {
     "name": "stdout",
     "output_type": "stream",
     "text": [
      "torch.Size([65, 20]) torch.Size([67, 20]) torch.Size([1300]) torch.Size([1340])\n",
      "torch.Size([75, 20]) torch.Size([57, 20]) torch.Size([1500]) torch.Size([1140])\n"
     ]
    },
    {
     "name": "stderr",
     "output_type": "stream",
     "text": [
      "  3%|▎         | 498/17847 [01:07<37:49,  7.64it/s]"
     ]
    },
    {
     "name": "stdout",
     "output_type": "stream",
     "text": [
      "torch.Size([67, 20]) torch.Size([77, 20]) torch.Size([1340]) torch.Size([1540])\n",
      "torch.Size([69, 20]) torch.Size([78, 20]) torch.Size([1380]) torch.Size([1560])\n"
     ]
    },
    {
     "name": "stderr",
     "output_type": "stream",
     "text": [
      "  3%|▎         | 500/17847 [01:08<39:34,  7.30it/s]"
     ]
    },
    {
     "name": "stdout",
     "output_type": "stream",
     "text": [
      "torch.Size([62, 20]) torch.Size([76, 20]) torch.Size([1240]) torch.Size([1520])\n",
      "torch.Size([67, 20]) torch.Size([74, 20]) torch.Size([1340]) torch.Size([1480])\n"
     ]
    },
    {
     "name": "stderr",
     "output_type": "stream",
     "text": [
      "  3%|▎         | 502/17847 [01:08<39:26,  7.33it/s]"
     ]
    },
    {
     "name": "stdout",
     "output_type": "stream",
     "text": [
      "torch.Size([69, 20]) torch.Size([60, 20]) torch.Size([1380]) torch.Size([1200])\n",
      "torch.Size([71, 20]) torch.Size([74, 20]) torch.Size([1420]) torch.Size([1480])\n"
     ]
    },
    {
     "name": "stderr",
     "output_type": "stream",
     "text": [
      "  3%|▎         | 504/17847 [01:08<40:22,  7.16it/s]"
     ]
    },
    {
     "name": "stdout",
     "output_type": "stream",
     "text": [
      "torch.Size([72, 20]) torch.Size([70, 20]) torch.Size([1440]) torch.Size([1400])\n",
      "torch.Size([68, 20]) torch.Size([70, 20]) torch.Size([1360]) torch.Size([1400])\n"
     ]
    },
    {
     "name": "stderr",
     "output_type": "stream",
     "text": [
      "  3%|▎         | 506/17847 [01:09<41:26,  6.97it/s]"
     ]
    },
    {
     "name": "stdout",
     "output_type": "stream",
     "text": [
      "torch.Size([78, 20]) torch.Size([70, 20]) torch.Size([1560]) torch.Size([1400])\n",
      "torch.Size([73, 20]) torch.Size([69, 20]) torch.Size([1460]) torch.Size([1380])\n"
     ]
    },
    {
     "name": "stderr",
     "output_type": "stream",
     "text": [
      "  3%|▎         | 508/17847 [01:09<41:33,  6.95it/s]"
     ]
    },
    {
     "name": "stdout",
     "output_type": "stream",
     "text": [
      "torch.Size([73, 20]) torch.Size([61, 20]) torch.Size([1460]) torch.Size([1220])\n",
      "torch.Size([27, 20]) torch.Size([64, 20]) torch.Size([540]) torch.Size([1280])\n"
     ]
    },
    {
     "name": "stderr",
     "output_type": "stream",
     "text": [
      "  3%|▎         | 510/17847 [01:09<35:37,  8.11it/s]"
     ]
    },
    {
     "name": "stdout",
     "output_type": "stream",
     "text": [
      "torch.Size([71, 20]) torch.Size([73, 20]) torch.Size([1420]) torch.Size([1460])\n",
      "torch.Size([68, 20]) torch.Size([70, 20]) torch.Size([1360]) torch.Size([1400])\n"
     ]
    },
    {
     "name": "stderr",
     "output_type": "stream",
     "text": [
      "  3%|▎         | 512/17847 [01:09<39:12,  7.37it/s]"
     ]
    },
    {
     "name": "stdout",
     "output_type": "stream",
     "text": [
      "torch.Size([69, 20]) torch.Size([73, 20]) torch.Size([1380]) torch.Size([1460])\n",
      "torch.Size([67, 20]) torch.Size([32, 20]) torch.Size([1340]) torch.Size([640])\n"
     ]
    },
    {
     "name": "stderr",
     "output_type": "stream",
     "text": [
      "  3%|▎         | 515/17847 [01:10<34:10,  8.45it/s]"
     ]
    },
    {
     "name": "stdout",
     "output_type": "stream",
     "text": [
      "torch.Size([74, 20]) torch.Size([39, 20]) torch.Size([1480]) torch.Size([780])\n",
      "torch.Size([77, 20]) torch.Size([61, 20]) torch.Size([1540]) torch.Size([1220])\n",
      "torch.Size([72, 20]) torch.Size([71, 20]) torch.Size([1440]) torch.Size([1420])\n"
     ]
    },
    {
     "name": "stderr",
     "output_type": "stream",
     "text": [
      "  3%|▎         | 517/17847 [01:10<37:31,  7.70it/s]"
     ]
    },
    {
     "name": "stdout",
     "output_type": "stream",
     "text": [
      "torch.Size([71, 20]) torch.Size([66, 20]) torch.Size([1420]) torch.Size([1320])\n",
      "torch.Size([70, 20]) torch.Size([72, 20]) torch.Size([1400]) torch.Size([1440])\n"
     ]
    },
    {
     "name": "stderr",
     "output_type": "stream",
     "text": [
      "  3%|▎         | 519/17847 [01:10<40:04,  7.21it/s]"
     ]
    },
    {
     "name": "stdout",
     "output_type": "stream",
     "text": [
      "torch.Size([67, 20]) torch.Size([72, 20]) torch.Size([1340]) torch.Size([1440])\n",
      "torch.Size([72, 20]) torch.Size([69, 20]) torch.Size([1440]) torch.Size([1380])\n"
     ]
    },
    {
     "name": "stderr",
     "output_type": "stream",
     "text": [
      "  3%|▎         | 521/17847 [01:11<40:30,  7.13it/s]"
     ]
    },
    {
     "name": "stdout",
     "output_type": "stream",
     "text": [
      "torch.Size([70, 20]) torch.Size([67, 20]) torch.Size([1400]) torch.Size([1340])\n",
      "torch.Size([77, 20]) torch.Size([73, 20]) torch.Size([1540]) torch.Size([1460])\n"
     ]
    },
    {
     "name": "stderr",
     "output_type": "stream",
     "text": [
      "  3%|▎         | 523/17847 [01:11<39:08,  7.38it/s]"
     ]
    },
    {
     "name": "stdout",
     "output_type": "stream",
     "text": [
      "torch.Size([68, 20]) torch.Size([35, 20]) torch.Size([1360]) torch.Size([700])\n",
      "torch.Size([68, 20]) torch.Size([64, 20]) torch.Size([1360]) torch.Size([1280])\n"
     ]
    },
    {
     "name": "stderr",
     "output_type": "stream",
     "text": [
      "  3%|▎         | 525/17847 [01:11<37:42,  7.65it/s]"
     ]
    },
    {
     "name": "stdout",
     "output_type": "stream",
     "text": [
      "torch.Size([68, 20]) torch.Size([66, 20]) torch.Size([1360]) torch.Size([1320])\n",
      "torch.Size([60, 20]) torch.Size([65, 20]) torch.Size([1200]) torch.Size([1300])\n"
     ]
    },
    {
     "name": "stderr",
     "output_type": "stream",
     "text": [
      "  3%|▎         | 527/17847 [01:11<38:45,  7.45it/s]"
     ]
    },
    {
     "name": "stdout",
     "output_type": "stream",
     "text": [
      "torch.Size([79, 20]) torch.Size([65, 20]) torch.Size([1580]) torch.Size([1300])\n",
      "torch.Size([68, 20]) torch.Size([65, 20]) torch.Size([1360]) torch.Size([1300])\n"
     ]
    },
    {
     "name": "stderr",
     "output_type": "stream",
     "text": [
      "  3%|▎         | 529/17847 [01:12<38:51,  7.43it/s]"
     ]
    },
    {
     "name": "stdout",
     "output_type": "stream",
     "text": [
      "torch.Size([68, 20]) torch.Size([59, 20]) torch.Size([1360]) torch.Size([1180])\n",
      "torch.Size([62, 20]) torch.Size([79, 20]) torch.Size([1240]) torch.Size([1580])\n"
     ]
    },
    {
     "name": "stderr",
     "output_type": "stream",
     "text": [
      "  3%|▎         | 531/17847 [01:12<39:40,  7.27it/s]"
     ]
    },
    {
     "name": "stdout",
     "output_type": "stream",
     "text": [
      "torch.Size([78, 20]) torch.Size([71, 20]) torch.Size([1560]) torch.Size([1420])\n",
      "torch.Size([71, 20]) torch.Size([69, 20]) torch.Size([1420]) torch.Size([1380])\n"
     ]
    },
    {
     "name": "stderr",
     "output_type": "stream",
     "text": [
      "  3%|▎         | 533/17847 [01:12<40:49,  7.07it/s]"
     ]
    },
    {
     "name": "stdout",
     "output_type": "stream",
     "text": [
      "torch.Size([78, 20]) torch.Size([68, 20]) torch.Size([1560]) torch.Size([1360])\n",
      "torch.Size([66, 20]) torch.Size([74, 20]) torch.Size([1320]) torch.Size([1480])\n"
     ]
    },
    {
     "name": "stderr",
     "output_type": "stream",
     "text": [
      "  3%|▎         | 535/17847 [01:12<41:12,  7.00it/s]"
     ]
    },
    {
     "name": "stdout",
     "output_type": "stream",
     "text": [
      "torch.Size([72, 20]) torch.Size([67, 20]) torch.Size([1440]) torch.Size([1340])\n",
      "torch.Size([76, 20]) torch.Size([68, 20]) torch.Size([1520]) torch.Size([1360])\n"
     ]
    },
    {
     "name": "stderr",
     "output_type": "stream",
     "text": [
      "  3%|▎         | 537/17847 [01:13<41:03,  7.03it/s]"
     ]
    },
    {
     "name": "stdout",
     "output_type": "stream",
     "text": [
      "torch.Size([64, 20]) torch.Size([71, 20]) torch.Size([1280]) torch.Size([1420])\n",
      "torch.Size([74, 20]) torch.Size([79, 20]) torch.Size([1480]) torch.Size([1580])\n"
     ]
    },
    {
     "name": "stderr",
     "output_type": "stream",
     "text": [
      "  3%|▎         | 539/17847 [01:13<41:54,  6.88it/s]"
     ]
    },
    {
     "name": "stdout",
     "output_type": "stream",
     "text": [
      "torch.Size([70, 20]) torch.Size([69, 20]) torch.Size([1400]) torch.Size([1380])\n",
      "torch.Size([69, 20]) torch.Size([65, 20]) torch.Size([1380]) torch.Size([1300])\n"
     ]
    },
    {
     "name": "stderr",
     "output_type": "stream",
     "text": [
      "  3%|▎         | 541/17847 [01:13<41:24,  6.97it/s]"
     ]
    },
    {
     "name": "stdout",
     "output_type": "stream",
     "text": [
      "torch.Size([76, 20]) torch.Size([69, 20]) torch.Size([1520]) torch.Size([1380])\n",
      "torch.Size([70, 20]) torch.Size([64, 20]) torch.Size([1400]) torch.Size([1280])\n"
     ]
    },
    {
     "name": "stderr",
     "output_type": "stream",
     "text": [
      "  3%|▎         | 543/17847 [01:14<41:12,  7.00it/s]"
     ]
    },
    {
     "name": "stdout",
     "output_type": "stream",
     "text": [
      "torch.Size([65, 20]) torch.Size([71, 20]) torch.Size([1300]) torch.Size([1420])\n",
      "torch.Size([70, 20]) torch.Size([67, 20]) torch.Size([1400]) torch.Size([1340])\n"
     ]
    },
    {
     "name": "stderr",
     "output_type": "stream",
     "text": [
      "  3%|▎         | 545/17847 [01:14<40:37,  7.10it/s]"
     ]
    },
    {
     "name": "stdout",
     "output_type": "stream",
     "text": [
      "torch.Size([72, 20]) torch.Size([65, 20]) torch.Size([1440]) torch.Size([1300])\n",
      "torch.Size([68, 20]) torch.Size([66, 20]) torch.Size([1360]) torch.Size([1320])\n"
     ]
    },
    {
     "name": "stderr",
     "output_type": "stream",
     "text": [
      "  3%|▎         | 547/17847 [01:14<40:47,  7.07it/s]"
     ]
    },
    {
     "name": "stdout",
     "output_type": "stream",
     "text": [
      "torch.Size([62, 20]) torch.Size([75, 20]) torch.Size([1240]) torch.Size([1500])\n",
      "torch.Size([65, 20]) torch.Size([71, 20]) torch.Size([1300]) torch.Size([1420])\n"
     ]
    },
    {
     "name": "stderr",
     "output_type": "stream",
     "text": [
      "  3%|▎         | 549/17847 [01:14<38:03,  7.58it/s]"
     ]
    },
    {
     "name": "stdout",
     "output_type": "stream",
     "text": [
      "torch.Size([69, 20]) torch.Size([35, 20]) torch.Size([1380]) torch.Size([700])\n",
      "torch.Size([70, 20]) torch.Size([75, 20]) torch.Size([1400]) torch.Size([1500])\n"
     ]
    },
    {
     "name": "stderr",
     "output_type": "stream",
     "text": [
      "  3%|▎         | 551/17847 [01:15<37:33,  7.68it/s]"
     ]
    },
    {
     "name": "stdout",
     "output_type": "stream",
     "text": [
      "torch.Size([71, 20]) torch.Size([60, 20]) torch.Size([1420]) torch.Size([1200])\n",
      "torch.Size([62, 20]) torch.Size([73, 20]) torch.Size([1240]) torch.Size([1460])\n"
     ]
    },
    {
     "name": "stderr",
     "output_type": "stream",
     "text": [
      "  3%|▎         | 553/17847 [01:15<37:23,  7.71it/s]"
     ]
    },
    {
     "name": "stdout",
     "output_type": "stream",
     "text": [
      "torch.Size([70, 20]) torch.Size([59, 20]) torch.Size([1400]) torch.Size([1180])\n",
      "torch.Size([67, 20]) torch.Size([72, 20]) torch.Size([1340]) torch.Size([1440])\n"
     ]
    },
    {
     "name": "stderr",
     "output_type": "stream",
     "text": [
      "  3%|▎         | 555/17847 [01:15<38:29,  7.49it/s]"
     ]
    },
    {
     "name": "stdout",
     "output_type": "stream",
     "text": [
      "torch.Size([68, 20]) torch.Size([63, 20]) torch.Size([1360]) torch.Size([1260])\n",
      "torch.Size([59, 20]) torch.Size([73, 20]) torch.Size([1180]) torch.Size([1460])\n"
     ]
    },
    {
     "name": "stderr",
     "output_type": "stream",
     "text": [
      "  3%|▎         | 557/17847 [01:15<38:57,  7.40it/s]"
     ]
    },
    {
     "name": "stdout",
     "output_type": "stream",
     "text": [
      "torch.Size([79, 20]) torch.Size([70, 20]) torch.Size([1580]) torch.Size([1400])\n",
      "torch.Size([70, 20]) torch.Size([70, 20]) torch.Size([1400]) torch.Size([1400])\n"
     ]
    },
    {
     "name": "stderr",
     "output_type": "stream",
     "text": [
      "  3%|▎         | 559/17847 [01:16<40:47,  7.06it/s]"
     ]
    },
    {
     "name": "stdout",
     "output_type": "stream",
     "text": [
      "torch.Size([68, 20]) torch.Size([80, 20]) torch.Size([1360]) torch.Size([1600])\n",
      "torch.Size([66, 20]) torch.Size([73, 20]) torch.Size([1320]) torch.Size([1460])\n"
     ]
    },
    {
     "name": "stderr",
     "output_type": "stream",
     "text": [
      "  3%|▎         | 561/17847 [01:16<40:35,  7.10it/s]"
     ]
    },
    {
     "name": "stdout",
     "output_type": "stream",
     "text": [
      "torch.Size([66, 20]) torch.Size([78, 20]) torch.Size([1320]) torch.Size([1560])\n",
      "torch.Size([77, 20]) torch.Size([68, 20]) torch.Size([1540]) torch.Size([1360])\n"
     ]
    },
    {
     "name": "stderr",
     "output_type": "stream",
     "text": [
      "  3%|▎         | 563/17847 [01:16<40:25,  7.13it/s]"
     ]
    },
    {
     "name": "stdout",
     "output_type": "stream",
     "text": [
      "torch.Size([59, 20]) torch.Size([65, 20]) torch.Size([1180]) torch.Size([1300])\n",
      "torch.Size([74, 20]) torch.Size([77, 20]) torch.Size([1480]) torch.Size([1540])\n"
     ]
    },
    {
     "name": "stderr",
     "output_type": "stream",
     "text": [
      "  3%|▎         | 565/17847 [01:17<41:15,  6.98it/s]"
     ]
    },
    {
     "name": "stdout",
     "output_type": "stream",
     "text": [
      "torch.Size([71, 20]) torch.Size([75, 20]) torch.Size([1420]) torch.Size([1500])\n",
      "torch.Size([55, 20]) torch.Size([60, 20]) torch.Size([1100]) torch.Size([1200])\n"
     ]
    },
    {
     "name": "stderr",
     "output_type": "stream",
     "text": [
      "  3%|▎         | 567/17847 [01:17<39:32,  7.28it/s]"
     ]
    },
    {
     "name": "stdout",
     "output_type": "stream",
     "text": [
      "torch.Size([81, 20]) torch.Size([58, 20]) torch.Size([1620]) torch.Size([1160])\n",
      "torch.Size([70, 20]) torch.Size([40, 20]) torch.Size([1400]) torch.Size([800])\n"
     ]
    },
    {
     "name": "stderr",
     "output_type": "stream",
     "text": [
      "  3%|▎         | 569/17847 [01:17<36:13,  7.95it/s]"
     ]
    },
    {
     "name": "stdout",
     "output_type": "stream",
     "text": [
      "torch.Size([73, 20]) torch.Size([74, 20]) torch.Size([1460]) torch.Size([1480])\n",
      "torch.Size([60, 20]) torch.Size([71, 20]) torch.Size([1200]) torch.Size([1420])\n"
     ]
    },
    {
     "name": "stderr",
     "output_type": "stream",
     "text": [
      "  3%|▎         | 571/17847 [01:17<35:00,  8.22it/s]"
     ]
    },
    {
     "name": "stdout",
     "output_type": "stream",
     "text": [
      "torch.Size([28, 20]) torch.Size([70, 20]) torch.Size([560]) torch.Size([1400])\n",
      "torch.Size([75, 20]) torch.Size([67, 20]) torch.Size([1500]) torch.Size([1340])\n",
      "torch.Size([69, 20]) torch.Size([76, 20]) torch.Size([1380]) torch.Size([1520])\n"
     ]
    },
    {
     "name": "stderr",
     "output_type": "stream",
     "text": [
      "  3%|▎         | 574/17847 [01:18<36:54,  7.80it/s]"
     ]
    },
    {
     "name": "stdout",
     "output_type": "stream",
     "text": [
      "torch.Size([74, 20]) torch.Size([66, 20]) torch.Size([1480]) torch.Size([1320])\n",
      "torch.Size([80, 20]) torch.Size([34, 20]) torch.Size([1600]) torch.Size([680])\n"
     ]
    },
    {
     "name": "stderr",
     "output_type": "stream",
     "text": [
      "  3%|▎         | 576/17847 [01:18<34:17,  8.39it/s]"
     ]
    },
    {
     "name": "stdout",
     "output_type": "stream",
     "text": [
      "torch.Size([72, 20]) torch.Size([66, 20]) torch.Size([1440]) torch.Size([1320])\n",
      "torch.Size([73, 20]) torch.Size([70, 20]) torch.Size([1460]) torch.Size([1400])\n"
     ]
    },
    {
     "name": "stderr",
     "output_type": "stream",
     "text": [
      "  3%|▎         | 578/17847 [01:18<37:34,  7.66it/s]"
     ]
    },
    {
     "name": "stdout",
     "output_type": "stream",
     "text": [
      "torch.Size([68, 20]) torch.Size([70, 20]) torch.Size([1360]) torch.Size([1400])\n",
      "torch.Size([67, 20]) torch.Size([71, 20]) torch.Size([1340]) torch.Size([1420])\n"
     ]
    },
    {
     "name": "stderr",
     "output_type": "stream",
     "text": [
      "  3%|▎         | 580/17847 [01:19<38:58,  7.38it/s]"
     ]
    },
    {
     "name": "stdout",
     "output_type": "stream",
     "text": [
      "torch.Size([61, 20]) torch.Size([67, 20]) torch.Size([1220]) torch.Size([1340])\n",
      "torch.Size([68, 20]) torch.Size([70, 20]) torch.Size([1360]) torch.Size([1400])\n"
     ]
    },
    {
     "name": "stderr",
     "output_type": "stream",
     "text": [
      "  3%|▎         | 582/17847 [01:19<39:26,  7.30it/s]"
     ]
    },
    {
     "name": "stdout",
     "output_type": "stream",
     "text": [
      "torch.Size([60, 20]) torch.Size([64, 20]) torch.Size([1200]) torch.Size([1280])\n",
      "torch.Size([68, 20]) torch.Size([67, 20]) torch.Size([1360]) torch.Size([1340])\n"
     ]
    },
    {
     "name": "stderr",
     "output_type": "stream",
     "text": [
      "  3%|▎         | 584/17847 [01:19<39:35,  7.27it/s]"
     ]
    },
    {
     "name": "stdout",
     "output_type": "stream",
     "text": [
      "torch.Size([68, 20]) torch.Size([63, 20]) torch.Size([1360]) torch.Size([1260])\n",
      "torch.Size([65, 20]) torch.Size([66, 20]) torch.Size([1300]) torch.Size([1320])\n"
     ]
    },
    {
     "name": "stderr",
     "output_type": "stream",
     "text": [
      "  3%|▎         | 586/17847 [01:19<40:41,  7.07it/s]"
     ]
    },
    {
     "name": "stdout",
     "output_type": "stream",
     "text": [
      "torch.Size([75, 20]) torch.Size([76, 20]) torch.Size([1500]) torch.Size([1520])\n",
      "torch.Size([73, 20]) torch.Size([63, 20]) torch.Size([1460]) torch.Size([1260])\n"
     ]
    },
    {
     "name": "stderr",
     "output_type": "stream",
     "text": [
      "  3%|▎         | 588/17847 [01:20<40:01,  7.19it/s]"
     ]
    },
    {
     "name": "stdout",
     "output_type": "stream",
     "text": [
      "torch.Size([66, 20]) torch.Size([59, 20]) torch.Size([1320]) torch.Size([1180])\n",
      "torch.Size([35, 20]) torch.Size([59, 20]) torch.Size([700]) torch.Size([1180])\n"
     ]
    },
    {
     "name": "stderr",
     "output_type": "stream",
     "text": [
      "  3%|▎         | 591/17847 [01:20<34:26,  8.35it/s]"
     ]
    },
    {
     "name": "stdout",
     "output_type": "stream",
     "text": [
      "torch.Size([39, 20]) torch.Size([67, 20]) torch.Size([780]) torch.Size([1340])\n",
      "torch.Size([76, 20]) torch.Size([74, 20]) torch.Size([1520]) torch.Size([1480])\n",
      "torch.Size([62, 20]) torch.Size([72, 20]) torch.Size([1240]) torch.Size([1440])\n"
     ]
    },
    {
     "name": "stderr",
     "output_type": "stream",
     "text": [
      "  3%|▎         | 593/17847 [01:20<37:22,  7.69it/s]"
     ]
    },
    {
     "name": "stdout",
     "output_type": "stream",
     "text": [
      "torch.Size([67, 20]) torch.Size([70, 20]) torch.Size([1340]) torch.Size([1400])\n",
      "torch.Size([70, 20]) torch.Size([65, 20]) torch.Size([1400]) torch.Size([1300])\n"
     ]
    },
    {
     "name": "stderr",
     "output_type": "stream",
     "text": [
      "  3%|▎         | 595/17847 [01:21<39:08,  7.35it/s]"
     ]
    },
    {
     "name": "stdout",
     "output_type": "stream",
     "text": [
      "torch.Size([70, 20]) torch.Size([71, 20]) torch.Size([1400]) torch.Size([1420])\n",
      "torch.Size([35, 20]) torch.Size([34, 20]) torch.Size([700]) torch.Size([680])\n"
     ]
    },
    {
     "name": "stderr",
     "output_type": "stream",
     "text": [
      "  3%|▎         | 598/17847 [01:21<34:32,  8.32it/s]"
     ]
    },
    {
     "name": "stdout",
     "output_type": "stream",
     "text": [
      "torch.Size([41, 20]) torch.Size([69, 20]) torch.Size([820]) torch.Size([1380])\n",
      "torch.Size([66, 20]) torch.Size([65, 20]) torch.Size([1320]) torch.Size([1300])\n",
      "torch.Size([65, 20]) torch.Size([69, 20]) torch.Size([1300]) torch.Size([1380])\n"
     ]
    },
    {
     "name": "stderr",
     "output_type": "stream",
     "text": [
      "  3%|▎         | 600/17847 [01:21<38:01,  7.56it/s]"
     ]
    },
    {
     "name": "stdout",
     "output_type": "stream",
     "text": [
      "torch.Size([71, 20]) torch.Size([74, 20]) torch.Size([1420]) torch.Size([1480])\n",
      "torch.Size([31, 20]) torch.Size([75, 20]) torch.Size([620]) torch.Size([1500])\n"
     ]
    },
    {
     "name": "stderr",
     "output_type": "stream",
     "text": [
      "  3%|▎         | 602/17847 [01:21<34:29,  8.33it/s]"
     ]
    },
    {
     "name": "stdout",
     "output_type": "stream",
     "text": [
      "torch.Size([74, 20]) torch.Size([65, 20]) torch.Size([1480]) torch.Size([1300])\n",
      "torch.Size([72, 20]) torch.Size([75, 20]) torch.Size([1440]) torch.Size([1500])\n"
     ]
    },
    {
     "name": "stderr",
     "output_type": "stream",
     "text": [
      "  3%|▎         | 604/17847 [01:22<37:51,  7.59it/s]"
     ]
    },
    {
     "name": "stdout",
     "output_type": "stream",
     "text": [
      "torch.Size([74, 20]) torch.Size([64, 20]) torch.Size([1480]) torch.Size([1280])\n",
      "torch.Size([70, 20]) torch.Size([73, 20]) torch.Size([1400]) torch.Size([1460])\n"
     ]
    },
    {
     "name": "stderr",
     "output_type": "stream",
     "text": [
      "  3%|▎         | 606/17847 [01:22<39:36,  7.26it/s]"
     ]
    },
    {
     "name": "stdout",
     "output_type": "stream",
     "text": [
      "torch.Size([58, 20]) torch.Size([73, 20]) torch.Size([1160]) torch.Size([1460])\n",
      "torch.Size([69, 20]) torch.Size([41, 20]) torch.Size([1380]) torch.Size([820])\n"
     ]
    },
    {
     "name": "stderr",
     "output_type": "stream",
     "text": [
      "  3%|▎         | 608/17847 [01:22<35:57,  7.99it/s]"
     ]
    },
    {
     "name": "stdout",
     "output_type": "stream",
     "text": [
      "torch.Size([73, 20]) torch.Size([70, 20]) torch.Size([1460]) torch.Size([1400])\n",
      "torch.Size([74, 20]) torch.Size([77, 20]) torch.Size([1480]) torch.Size([1540])\n"
     ]
    },
    {
     "name": "stderr",
     "output_type": "stream",
     "text": [
      "  3%|▎         | 610/17847 [01:22<39:13,  7.32it/s]"
     ]
    },
    {
     "name": "stdout",
     "output_type": "stream",
     "text": [
      "torch.Size([60, 20]) torch.Size([58, 20]) torch.Size([1200]) torch.Size([1160])\n",
      "torch.Size([72, 20]) torch.Size([75, 20]) torch.Size([1440]) torch.Size([1500])\n"
     ]
    },
    {
     "name": "stderr",
     "output_type": "stream",
     "text": [
      "  3%|▎         | 612/17847 [01:23<37:49,  7.59it/s]"
     ]
    },
    {
     "name": "stdout",
     "output_type": "stream",
     "text": [
      "torch.Size([28, 20]) torch.Size([64, 20]) torch.Size([560]) torch.Size([1280])\n",
      "torch.Size([64, 20]) torch.Size([60, 20]) torch.Size([1280]) torch.Size([1200])\n"
     ]
    },
    {
     "name": "stderr",
     "output_type": "stream",
     "text": [
      "\r",
      "  3%|▎         | 614/17847 [01:23<36:14,  7.92it/s]"
     ]
    },
    {
     "name": "stdout",
     "output_type": "stream",
     "text": [
      "torch.Size([60, 20]) torch.Size([74, 20]) torch.Size([1200]) torch.Size([1480])\n",
      "torch.Size([75, 20]) torch.Size([78, 20]) torch.Size([1500]) torch.Size([1560])\n"
     ]
    },
    {
     "name": "stderr",
     "output_type": "stream",
     "text": [
      "\r",
      "  3%|▎         | 615/17847 [01:23<37:37,  7.63it/s]"
     ]
    },
    {
     "name": "stdout",
     "output_type": "stream",
     "text": [
      "torch.Size([81, 20]) torch.Size([76, 20]) torch.Size([1620]) torch.Size([1520])\n"
     ]
    },
    {
     "name": "stderr",
     "output_type": "stream",
     "text": [
      "  3%|▎         | 617/17847 [01:24<1:12:41,  3.95it/s]"
     ]
    },
    {
     "name": "stdout",
     "output_type": "stream",
     "text": [
      "torch.Size([80, 20]) torch.Size([69, 20]) torch.Size([1600]) torch.Size([1380])\n",
      "torch.Size([71, 20]) torch.Size([78, 20]) torch.Size([1420]) torch.Size([1560])\n"
     ]
    },
    {
     "name": "stderr",
     "output_type": "stream",
     "text": [
      "  3%|▎         | 619/17847 [01:24<57:26,  5.00it/s]  "
     ]
    },
    {
     "name": "stdout",
     "output_type": "stream",
     "text": [
      "torch.Size([70, 20]) torch.Size([75, 20]) torch.Size([1400]) torch.Size([1500])\n",
      "torch.Size([68, 20]) torch.Size([68, 20]) torch.Size([1360]) torch.Size([1360])\n"
     ]
    },
    {
     "name": "stderr",
     "output_type": "stream",
     "text": [
      "  3%|▎         | 621/17847 [01:24<49:07,  5.84it/s]"
     ]
    },
    {
     "name": "stdout",
     "output_type": "stream",
     "text": [
      "torch.Size([69, 20]) torch.Size([62, 20]) torch.Size([1380]) torch.Size([1240])\n",
      "torch.Size([65, 20]) torch.Size([71, 20]) torch.Size([1300]) torch.Size([1420])\n"
     ]
    },
    {
     "name": "stderr",
     "output_type": "stream",
     "text": [
      "  3%|▎         | 623/17847 [01:25<44:29,  6.45it/s]"
     ]
    },
    {
     "name": "stdout",
     "output_type": "stream",
     "text": [
      "torch.Size([65, 20]) torch.Size([69, 20]) torch.Size([1300]) torch.Size([1380])\n",
      "torch.Size([72, 20]) torch.Size([33, 20]) torch.Size([1440]) torch.Size([660])\n"
     ]
    },
    {
     "name": "stderr",
     "output_type": "stream",
     "text": [
      "\r",
      "  3%|▎         | 624/17847 [01:25<40:37,  7.07it/s]"
     ]
    },
    {
     "name": "stdout",
     "output_type": "stream",
     "text": [
      "torch.Size([70, 20]) torch.Size([62, 20]) torch.Size([1400]) torch.Size([1240])\n",
      "torch.Size([69, 20]) torch.Size([65, 20]) torch.Size([1380]) torch.Size([1300])\n"
     ]
    },
    {
     "name": "stderr",
     "output_type": "stream",
     "text": [
      "  4%|▎         | 627/17847 [01:25<39:43,  7.22it/s]"
     ]
    },
    {
     "name": "stdout",
     "output_type": "stream",
     "text": [
      "torch.Size([70, 20]) torch.Size([76, 20]) torch.Size([1400]) torch.Size([1520])\n",
      "torch.Size([69, 20]) torch.Size([71, 20]) torch.Size([1380]) torch.Size([1420])\n"
     ]
    },
    {
     "name": "stderr",
     "output_type": "stream",
     "text": [
      "  4%|▎         | 629/17847 [01:26<39:36,  7.24it/s]"
     ]
    },
    {
     "name": "stdout",
     "output_type": "stream",
     "text": [
      "torch.Size([67, 20]) torch.Size([57, 20]) torch.Size([1340]) torch.Size([1140])\n",
      "torch.Size([36, 20]) torch.Size([30, 20]) torch.Size([720]) torch.Size([600])\n"
     ]
    },
    {
     "name": "stderr",
     "output_type": "stream",
     "text": [
      "  4%|▎         | 631/17847 [01:26<34:28,  8.32it/s]"
     ]
    },
    {
     "name": "stdout",
     "output_type": "stream",
     "text": [
      "torch.Size([68, 20]) torch.Size([75, 20]) torch.Size([1360]) torch.Size([1500])\n",
      "torch.Size([81, 20]) torch.Size([72, 20]) torch.Size([1620]) torch.Size([1440])\n"
     ]
    },
    {
     "name": "stderr",
     "output_type": "stream",
     "text": [
      "  4%|▎         | 633/17847 [01:26<38:28,  7.46it/s]"
     ]
    },
    {
     "name": "stdout",
     "output_type": "stream",
     "text": [
      "torch.Size([64, 20]) torch.Size([72, 20]) torch.Size([1280]) torch.Size([1440])\n",
      "torch.Size([72, 20]) torch.Size([66, 20]) torch.Size([1440]) torch.Size([1320])\n"
     ]
    },
    {
     "name": "stderr",
     "output_type": "stream",
     "text": [
      "  4%|▎         | 635/17847 [01:26<39:53,  7.19it/s]"
     ]
    },
    {
     "name": "stdout",
     "output_type": "stream",
     "text": [
      "torch.Size([77, 20]) torch.Size([75, 20]) torch.Size([1540]) torch.Size([1500])\n",
      "torch.Size([76, 20]) torch.Size([77, 20]) torch.Size([1520]) torch.Size([1540])\n"
     ]
    },
    {
     "name": "stderr",
     "output_type": "stream",
     "text": [
      "  4%|▎         | 637/17847 [01:27<41:58,  6.83it/s]"
     ]
    },
    {
     "name": "stdout",
     "output_type": "stream",
     "text": [
      "torch.Size([70, 20]) torch.Size([71, 20]) torch.Size([1400]) torch.Size([1420])\n",
      "torch.Size([73, 20]) torch.Size([71, 20]) torch.Size([1460]) torch.Size([1420])\n"
     ]
    },
    {
     "name": "stderr",
     "output_type": "stream",
     "text": [
      "  4%|▎         | 639/17847 [01:27<42:40,  6.72it/s]"
     ]
    },
    {
     "name": "stdout",
     "output_type": "stream",
     "text": [
      "torch.Size([67, 20]) torch.Size([70, 20]) torch.Size([1340]) torch.Size([1400])\n",
      "torch.Size([62, 20]) torch.Size([79, 20]) torch.Size([1240]) torch.Size([1580])\n"
     ]
    },
    {
     "name": "stderr",
     "output_type": "stream",
     "text": [
      "  4%|▎         | 641/17847 [01:27<40:45,  7.04it/s]"
     ]
    },
    {
     "name": "stdout",
     "output_type": "stream",
     "text": [
      "torch.Size([65, 20]) torch.Size([76, 20]) torch.Size([1300]) torch.Size([1520])\n",
      "torch.Size([64, 20]) torch.Size([72, 20]) torch.Size([1280]) torch.Size([1440])\n"
     ]
    },
    {
     "name": "stderr",
     "output_type": "stream",
     "text": [
      "  4%|▎         | 643/17847 [01:27<40:40,  7.05it/s]"
     ]
    },
    {
     "name": "stdout",
     "output_type": "stream",
     "text": [
      "torch.Size([66, 20]) torch.Size([67, 20]) torch.Size([1320]) torch.Size([1340])\n",
      "torch.Size([64, 20]) torch.Size([58, 20]) torch.Size([1280]) torch.Size([1160])\n"
     ]
    },
    {
     "name": "stderr",
     "output_type": "stream",
     "text": [
      "  4%|▎         | 645/17847 [01:28<39:12,  7.31it/s]"
     ]
    },
    {
     "name": "stdout",
     "output_type": "stream",
     "text": [
      "torch.Size([64, 20]) torch.Size([70, 20]) torch.Size([1280]) torch.Size([1400])\n",
      "torch.Size([68, 20]) torch.Size([33, 20]) torch.Size([1360]) torch.Size([660])\n"
     ]
    },
    {
     "name": "stderr",
     "output_type": "stream",
     "text": [
      "  4%|▎         | 647/17847 [01:28<34:54,  8.21it/s]"
     ]
    },
    {
     "name": "stdout",
     "output_type": "stream",
     "text": [
      "torch.Size([71, 20]) torch.Size([65, 20]) torch.Size([1420]) torch.Size([1300])\n",
      "torch.Size([70, 20]) torch.Size([78, 20]) torch.Size([1400]) torch.Size([1560])\n"
     ]
    },
    {
     "name": "stderr",
     "output_type": "stream",
     "text": [
      "  4%|▎         | 649/17847 [01:28<37:50,  7.57it/s]"
     ]
    },
    {
     "name": "stdout",
     "output_type": "stream",
     "text": [
      "torch.Size([63, 20]) torch.Size([68, 20]) torch.Size([1260]) torch.Size([1360])\n",
      "torch.Size([70, 20]) torch.Size([71, 20]) torch.Size([1400]) torch.Size([1420])\n"
     ]
    },
    {
     "name": "stderr",
     "output_type": "stream",
     "text": [
      "  4%|▎         | 651/17847 [01:29<39:51,  7.19it/s]"
     ]
    },
    {
     "name": "stdout",
     "output_type": "stream",
     "text": [
      "torch.Size([66, 20]) torch.Size([70, 20]) torch.Size([1320]) torch.Size([1400])\n",
      "torch.Size([76, 20]) torch.Size([66, 20]) torch.Size([1520]) torch.Size([1320])\n"
     ]
    },
    {
     "name": "stderr",
     "output_type": "stream",
     "text": [
      "  4%|▎         | 653/17847 [01:29<39:41,  7.22it/s]"
     ]
    },
    {
     "name": "stdout",
     "output_type": "stream",
     "text": [
      "torch.Size([62, 20]) torch.Size([76, 20]) torch.Size([1240]) torch.Size([1520])\n",
      "torch.Size([67, 20]) torch.Size([72, 20]) torch.Size([1340]) torch.Size([1440])\n"
     ]
    },
    {
     "name": "stderr",
     "output_type": "stream",
     "text": [
      "  4%|▎         | 655/17847 [01:29<37:36,  7.62it/s]"
     ]
    },
    {
     "name": "stdout",
     "output_type": "stream",
     "text": [
      "torch.Size([35, 20]) torch.Size([72, 20]) torch.Size([700]) torch.Size([1440])\n",
      "torch.Size([76, 20]) torch.Size([72, 20]) torch.Size([1520]) torch.Size([1440])\n"
     ]
    },
    {
     "name": "stderr",
     "output_type": "stream",
     "text": [
      "  4%|▎         | 657/17847 [01:29<38:31,  7.44it/s]"
     ]
    },
    {
     "name": "stdout",
     "output_type": "stream",
     "text": [
      "torch.Size([74, 20]) torch.Size([77, 20]) torch.Size([1480]) torch.Size([1540])\n",
      "torch.Size([78, 20]) torch.Size([69, 20]) torch.Size([1560]) torch.Size([1380])\n"
     ]
    },
    {
     "name": "stderr",
     "output_type": "stream",
     "text": [
      "  4%|▎         | 659/17847 [01:30<40:33,  7.06it/s]"
     ]
    },
    {
     "name": "stdout",
     "output_type": "stream",
     "text": [
      "torch.Size([72, 20]) torch.Size([65, 20]) torch.Size([1440]) torch.Size([1300])\n",
      "torch.Size([63, 20]) torch.Size([65, 20]) torch.Size([1260]) torch.Size([1300])\n"
     ]
    },
    {
     "name": "stderr",
     "output_type": "stream",
     "text": [
      "  4%|▎         | 661/17847 [01:30<39:40,  7.22it/s]"
     ]
    },
    {
     "name": "stdout",
     "output_type": "stream",
     "text": [
      "torch.Size([66, 20]) torch.Size([70, 20]) torch.Size([1320]) torch.Size([1400])\n",
      "torch.Size([71, 20]) torch.Size([71, 20]) torch.Size([1420]) torch.Size([1420])\n"
     ]
    },
    {
     "name": "stderr",
     "output_type": "stream",
     "text": [
      "  4%|▎         | 663/17847 [01:30<40:44,  7.03it/s]"
     ]
    },
    {
     "name": "stdout",
     "output_type": "stream",
     "text": [
      "torch.Size([69, 20]) torch.Size([73, 20]) torch.Size([1380]) torch.Size([1460])\n",
      "torch.Size([40, 20]) torch.Size([69, 20]) torch.Size([800]) torch.Size([1380])\n"
     ]
    },
    {
     "name": "stderr",
     "output_type": "stream",
     "text": [
      "  4%|▎         | 665/17847 [01:30<36:46,  7.79it/s]"
     ]
    },
    {
     "name": "stdout",
     "output_type": "stream",
     "text": [
      "torch.Size([69, 20]) torch.Size([63, 20]) torch.Size([1380]) torch.Size([1260])\n",
      "torch.Size([73, 20]) torch.Size([40, 20]) torch.Size([1460]) torch.Size([800])\n"
     ]
    },
    {
     "name": "stderr",
     "output_type": "stream",
     "text": [
      "  4%|▎         | 668/17847 [01:31<33:14,  8.61it/s]"
     ]
    },
    {
     "name": "stdout",
     "output_type": "stream",
     "text": [
      "torch.Size([71, 20]) torch.Size([33, 20]) torch.Size([1420]) torch.Size([660])\n",
      "torch.Size([66, 20]) torch.Size([68, 20]) torch.Size([1320]) torch.Size([1360])\n",
      "torch.Size([65, 20]) torch.Size([70, 20]) torch.Size([1300]) torch.Size([1400])\n"
     ]
    },
    {
     "name": "stderr",
     "output_type": "stream",
     "text": [
      "  4%|▍         | 670/17847 [01:31<37:15,  7.68it/s]"
     ]
    },
    {
     "name": "stdout",
     "output_type": "stream",
     "text": [
      "torch.Size([75, 20]) torch.Size([66, 20]) torch.Size([1500]) torch.Size([1320])\n",
      "torch.Size([62, 20]) torch.Size([70, 20]) torch.Size([1240]) torch.Size([1400])\n"
     ]
    },
    {
     "name": "stderr",
     "output_type": "stream",
     "text": [
      "  4%|▍         | 672/17847 [01:31<38:28,  7.44it/s]"
     ]
    },
    {
     "name": "stdout",
     "output_type": "stream",
     "text": [
      "torch.Size([72, 20]) torch.Size([70, 20]) torch.Size([1440]) torch.Size([1400])\n",
      "torch.Size([69, 20]) torch.Size([64, 20]) torch.Size([1380]) torch.Size([1280])\n"
     ]
    },
    {
     "name": "stderr",
     "output_type": "stream",
     "text": [
      "  4%|▍         | 674/17847 [01:32<39:17,  7.29it/s]"
     ]
    },
    {
     "name": "stdout",
     "output_type": "stream",
     "text": [
      "torch.Size([75, 20]) torch.Size([67, 20]) torch.Size([1500]) torch.Size([1340])\n",
      "torch.Size([74, 20]) torch.Size([72, 20]) torch.Size([1480]) torch.Size([1440])\n"
     ]
    },
    {
     "name": "stderr",
     "output_type": "stream",
     "text": [
      "  4%|▍         | 676/17847 [01:32<40:12,  7.12it/s]"
     ]
    },
    {
     "name": "stdout",
     "output_type": "stream",
     "text": [
      "torch.Size([65, 20]) torch.Size([83, 20]) torch.Size([1300]) torch.Size([1660])\n",
      "torch.Size([69, 20]) torch.Size([64, 20]) torch.Size([1380]) torch.Size([1280])\n"
     ]
    },
    {
     "name": "stderr",
     "output_type": "stream",
     "text": [
      "  4%|▍         | 678/17847 [01:32<40:21,  7.09it/s]"
     ]
    },
    {
     "name": "stdout",
     "output_type": "stream",
     "text": [
      "torch.Size([72, 20]) torch.Size([71, 20]) torch.Size([1440]) torch.Size([1420])\n",
      "torch.Size([37, 20]) torch.Size([76, 20]) torch.Size([740]) torch.Size([1520])\n"
     ]
    },
    {
     "name": "stderr",
     "output_type": "stream",
     "text": [
      "\r",
      "  4%|▍         | 679/17847 [01:32<38:24,  7.45it/s]"
     ]
    },
    {
     "name": "stdout",
     "output_type": "stream",
     "text": [
      "torch.Size([45, 20]) torch.Size([72, 20]) torch.Size([900]) torch.Size([1440])\n",
      "torch.Size([64, 20]) torch.Size([70, 20]) torch.Size([1280]) torch.Size([1400])\n"
     ]
    },
    {
     "name": "stderr",
     "output_type": "stream",
     "text": [
      "  4%|▍         | 682/17847 [01:33<37:24,  7.65it/s]"
     ]
    },
    {
     "name": "stdout",
     "output_type": "stream",
     "text": [
      "torch.Size([72, 20]) torch.Size([70, 20]) torch.Size([1440]) torch.Size([1400])\n",
      "torch.Size([71, 20]) torch.Size([48, 20]) torch.Size([1420]) torch.Size([960])\n"
     ]
    },
    {
     "name": "stderr",
     "output_type": "stream",
     "text": [
      "  4%|▍         | 684/17847 [01:33<36:40,  7.80it/s]"
     ]
    },
    {
     "name": "stdout",
     "output_type": "stream",
     "text": [
      "torch.Size([67, 20]) torch.Size([80, 20]) torch.Size([1340]) torch.Size([1600])\n",
      "torch.Size([72, 20]) torch.Size([67, 20]) torch.Size([1440]) torch.Size([1340])\n"
     ]
    },
    {
     "name": "stderr",
     "output_type": "stream",
     "text": [
      "  4%|▍         | 686/17847 [01:33<38:49,  7.37it/s]"
     ]
    },
    {
     "name": "stdout",
     "output_type": "stream",
     "text": [
      "torch.Size([79, 20]) torch.Size([74, 20]) torch.Size([1580]) torch.Size([1480])\n",
      "torch.Size([71, 20]) torch.Size([65, 20]) torch.Size([1420]) torch.Size([1300])\n"
     ]
    },
    {
     "name": "stderr",
     "output_type": "stream",
     "text": [
      "  4%|▍         | 688/17847 [01:33<39:50,  7.18it/s]"
     ]
    },
    {
     "name": "stdout",
     "output_type": "stream",
     "text": [
      "torch.Size([64, 20]) torch.Size([68, 20]) torch.Size([1280]) torch.Size([1360])\n",
      "torch.Size([63, 20]) torch.Size([64, 20]) torch.Size([1260]) torch.Size([1280])\n"
     ]
    },
    {
     "name": "stderr",
     "output_type": "stream",
     "text": [
      "  4%|▍         | 690/17847 [01:34<39:25,  7.25it/s]"
     ]
    },
    {
     "name": "stdout",
     "output_type": "stream",
     "text": [
      "torch.Size([64, 20]) torch.Size([71, 20]) torch.Size([1280]) torch.Size([1420])\n",
      "torch.Size([62, 20]) torch.Size([65, 20]) torch.Size([1240]) torch.Size([1300])\n"
     ]
    },
    {
     "name": "stderr",
     "output_type": "stream",
     "text": [
      "  4%|▍         | 692/17847 [01:34<37:14,  7.68it/s]"
     ]
    },
    {
     "name": "stdout",
     "output_type": "stream",
     "text": [
      "torch.Size([40, 20]) torch.Size([66, 20]) torch.Size([800]) torch.Size([1320])\n",
      "torch.Size([64, 20]) torch.Size([69, 20]) torch.Size([1280]) torch.Size([1380])\n"
     ]
    },
    {
     "name": "stderr",
     "output_type": "stream",
     "text": [
      "  4%|▍         | 694/17847 [01:34<36:54,  7.74it/s]"
     ]
    },
    {
     "name": "stdout",
     "output_type": "stream",
     "text": [
      "torch.Size([68, 20]) torch.Size([66, 20]) torch.Size([1360]) torch.Size([1320])\n",
      "torch.Size([72, 20]) torch.Size([29, 20]) torch.Size([1440]) torch.Size([580])\n"
     ]
    },
    {
     "name": "stderr",
     "output_type": "stream",
     "text": [
      "\r",
      "  4%|▍         | 695/17847 [01:34<35:28,  8.06it/s]"
     ]
    },
    {
     "name": "stdout",
     "output_type": "stream",
     "text": [
      "torch.Size([65, 20]) torch.Size([63, 20]) torch.Size([1300]) torch.Size([1260])\n",
      "torch.Size([67, 20]) torch.Size([66, 20]) torch.Size([1340]) torch.Size([1320])\n"
     ]
    },
    {
     "name": "stderr",
     "output_type": "stream",
     "text": [
      "  4%|▍         | 698/17847 [01:35<37:19,  7.66it/s]"
     ]
    },
    {
     "name": "stdout",
     "output_type": "stream",
     "text": [
      "torch.Size([75, 20]) torch.Size([73, 20]) torch.Size([1500]) torch.Size([1460])\n",
      "torch.Size([71, 20]) torch.Size([63, 20]) torch.Size([1420]) torch.Size([1260])\n"
     ]
    },
    {
     "name": "stderr",
     "output_type": "stream",
     "text": [
      "  4%|▍         | 700/17847 [01:35<38:35,  7.40it/s]"
     ]
    },
    {
     "name": "stdout",
     "output_type": "stream",
     "text": [
      "torch.Size([73, 20]) torch.Size([61, 20]) torch.Size([1460]) torch.Size([1220])\n",
      "torch.Size([65, 20]) torch.Size([65, 20]) torch.Size([1300]) torch.Size([1300])\n"
     ]
    },
    {
     "name": "stderr",
     "output_type": "stream",
     "text": [
      "  4%|▍         | 702/17847 [01:35<38:39,  7.39it/s]"
     ]
    },
    {
     "name": "stdout",
     "output_type": "stream",
     "text": [
      "torch.Size([62, 20]) torch.Size([70, 20]) torch.Size([1240]) torch.Size([1400])\n",
      "torch.Size([70, 20]) torch.Size([58, 20]) torch.Size([1400]) torch.Size([1160])\n"
     ]
    },
    {
     "name": "stderr",
     "output_type": "stream",
     "text": [
      "  4%|▍         | 704/17847 [01:36<38:28,  7.43it/s]"
     ]
    },
    {
     "name": "stdout",
     "output_type": "stream",
     "text": [
      "torch.Size([66, 20]) torch.Size([73, 20]) torch.Size([1320]) torch.Size([1460])\n",
      "torch.Size([68, 20]) torch.Size([76, 20]) torch.Size([1360]) torch.Size([1520])\n"
     ]
    },
    {
     "name": "stderr",
     "output_type": "stream",
     "text": [
      "  4%|▍         | 706/17847 [01:36<40:03,  7.13it/s]"
     ]
    },
    {
     "name": "stdout",
     "output_type": "stream",
     "text": [
      "torch.Size([72, 20]) torch.Size([73, 20]) torch.Size([1440]) torch.Size([1460])\n",
      "torch.Size([75, 20]) torch.Size([66, 20]) torch.Size([1500]) torch.Size([1320])\n"
     ]
    },
    {
     "name": "stderr",
     "output_type": "stream",
     "text": [
      "  4%|▍         | 708/17847 [01:36<40:49,  7.00it/s]"
     ]
    },
    {
     "name": "stdout",
     "output_type": "stream",
     "text": [
      "torch.Size([68, 20]) torch.Size([66, 20]) torch.Size([1360]) torch.Size([1320])\n",
      "torch.Size([68, 20]) torch.Size([59, 20]) torch.Size([1360]) torch.Size([1180])\n"
     ]
    },
    {
     "name": "stderr",
     "output_type": "stream",
     "text": [
      "  4%|▍         | 710/17847 [01:36<39:29,  7.23it/s]"
     ]
    },
    {
     "name": "stdout",
     "output_type": "stream",
     "text": [
      "torch.Size([68, 20]) torch.Size([66, 20]) torch.Size([1360]) torch.Size([1320])\n",
      "torch.Size([71, 20]) torch.Size([73, 20]) torch.Size([1420]) torch.Size([1460])\n"
     ]
    },
    {
     "name": "stderr",
     "output_type": "stream",
     "text": [
      "  4%|▍         | 712/17847 [01:37<41:05,  6.95it/s]"
     ]
    },
    {
     "name": "stdout",
     "output_type": "stream",
     "text": [
      "torch.Size([73, 20]) torch.Size([71, 20]) torch.Size([1460]) torch.Size([1420])\n",
      "torch.Size([77, 20]) torch.Size([69, 20]) torch.Size([1540]) torch.Size([1380])\n"
     ]
    },
    {
     "name": "stderr",
     "output_type": "stream",
     "text": [
      "  4%|▍         | 714/17847 [01:37<42:07,  6.78it/s]"
     ]
    },
    {
     "name": "stdout",
     "output_type": "stream",
     "text": [
      "torch.Size([72, 20]) torch.Size([78, 20]) torch.Size([1440]) torch.Size([1560])\n",
      "torch.Size([69, 20]) torch.Size([64, 20]) torch.Size([1380]) torch.Size([1280])\n"
     ]
    },
    {
     "name": "stderr",
     "output_type": "stream",
     "text": [
      "  4%|▍         | 716/17847 [01:37<38:44,  7.37it/s]"
     ]
    },
    {
     "name": "stdout",
     "output_type": "stream",
     "text": [
      "torch.Size([30, 20]) torch.Size([66, 20]) torch.Size([600]) torch.Size([1320])\n",
      "torch.Size([62, 20]) torch.Size([67, 20]) torch.Size([1240]) torch.Size([1340])\n"
     ]
    },
    {
     "name": "stderr",
     "output_type": "stream",
     "text": [
      "\r",
      "  4%|▍         | 718/17847 [01:37<37:14,  7.66it/s]"
     ]
    },
    {
     "name": "stdout",
     "output_type": "stream",
     "text": [
      "torch.Size([67, 20]) torch.Size([71, 20]) torch.Size([1340]) torch.Size([1420])\n",
      "torch.Size([78, 20]) torch.Size([74, 20]) torch.Size([1560]) torch.Size([1480])\n"
     ]
    },
    {
     "name": "stderr",
     "output_type": "stream",
     "text": [
      "  4%|▍         | 720/17847 [01:38<40:28,  7.05it/s]"
     ]
    },
    {
     "name": "stdout",
     "output_type": "stream",
     "text": [
      "torch.Size([72, 20]) torch.Size([78, 20]) torch.Size([1440]) torch.Size([1560])\n",
      "torch.Size([72, 20]) torch.Size([70, 20]) torch.Size([1440]) torch.Size([1400])\n"
     ]
    },
    {
     "name": "stderr",
     "output_type": "stream",
     "text": [
      "  4%|▍         | 722/17847 [01:38<40:43,  7.01it/s]"
     ]
    },
    {
     "name": "stdout",
     "output_type": "stream",
     "text": [
      "torch.Size([62, 20]) torch.Size([81, 20]) torch.Size([1240]) torch.Size([1620])\n",
      "torch.Size([74, 20]) torch.Size([38, 20]) torch.Size([1480]) torch.Size([760])\n"
     ]
    },
    {
     "name": "stderr",
     "output_type": "stream",
     "text": [
      "  4%|▍         | 725/17847 [01:38<35:07,  8.13it/s]"
     ]
    },
    {
     "name": "stdout",
     "output_type": "stream",
     "text": [
      "torch.Size([39, 20]) torch.Size([76, 20]) torch.Size([780]) torch.Size([1520])\n",
      "torch.Size([58, 20]) torch.Size([69, 20]) torch.Size([1160]) torch.Size([1380])\n",
      "torch.Size([74, 20]) torch.Size([68, 20]) torch.Size([1480]) torch.Size([1360])\n"
     ]
    },
    {
     "name": "stderr",
     "output_type": "stream",
     "text": [
      "  4%|▍         | 727/17847 [01:39<37:13,  7.67it/s]"
     ]
    },
    {
     "name": "stdout",
     "output_type": "stream",
     "text": [
      "torch.Size([70, 20]) torch.Size([74, 20]) torch.Size([1400]) torch.Size([1480])\n",
      "torch.Size([67, 20]) torch.Size([58, 20]) torch.Size([1340]) torch.Size([1160])\n"
     ]
    },
    {
     "name": "stderr",
     "output_type": "stream",
     "text": [
      "  4%|▍         | 729/17847 [01:39<37:55,  7.52it/s]"
     ]
    },
    {
     "name": "stdout",
     "output_type": "stream",
     "text": [
      "torch.Size([78, 20]) torch.Size([68, 20]) torch.Size([1560]) torch.Size([1360])\n",
      "torch.Size([68, 20]) torch.Size([70, 20]) torch.Size([1360]) torch.Size([1400])\n"
     ]
    },
    {
     "name": "stderr",
     "output_type": "stream",
     "text": [
      "  4%|▍         | 731/17847 [01:39<39:28,  7.23it/s]"
     ]
    },
    {
     "name": "stdout",
     "output_type": "stream",
     "text": [
      "torch.Size([76, 20]) torch.Size([69, 20]) torch.Size([1520]) torch.Size([1380])\n",
      "torch.Size([67, 20]) torch.Size([68, 20]) torch.Size([1340]) torch.Size([1360])\n"
     ]
    },
    {
     "name": "stderr",
     "output_type": "stream",
     "text": [
      "  4%|▍         | 733/17847 [01:39<40:20,  7.07it/s]"
     ]
    },
    {
     "name": "stdout",
     "output_type": "stream",
     "text": [
      "torch.Size([71, 20]) torch.Size([61, 20]) torch.Size([1420]) torch.Size([1220])\n",
      "torch.Size([69, 20]) torch.Size([71, 20]) torch.Size([1380]) torch.Size([1420])\n"
     ]
    },
    {
     "name": "stderr",
     "output_type": "stream",
     "text": [
      "  4%|▍         | 735/17847 [01:40<40:08,  7.10it/s]"
     ]
    },
    {
     "name": "stdout",
     "output_type": "stream",
     "text": [
      "torch.Size([74, 20]) torch.Size([67, 20]) torch.Size([1480]) torch.Size([1340])\n",
      "torch.Size([67, 20]) torch.Size([80, 20]) torch.Size([1340]) torch.Size([1600])\n"
     ]
    },
    {
     "name": "stderr",
     "output_type": "stream",
     "text": [
      "  4%|▍         | 737/17847 [01:40<41:16,  6.91it/s]"
     ]
    },
    {
     "name": "stdout",
     "output_type": "stream",
     "text": [
      "torch.Size([73, 20]) torch.Size([74, 20]) torch.Size([1460]) torch.Size([1480])\n",
      "torch.Size([64, 20]) torch.Size([27, 20]) torch.Size([1280]) torch.Size([540])\n"
     ]
    },
    {
     "name": "stderr",
     "output_type": "stream",
     "text": [
      "  4%|▍         | 739/17847 [01:40<35:30,  8.03it/s]"
     ]
    },
    {
     "name": "stdout",
     "output_type": "stream",
     "text": [
      "torch.Size([69, 20]) torch.Size([66, 20]) torch.Size([1380]) torch.Size([1320])\n",
      "torch.Size([37, 20]) torch.Size([65, 20]) torch.Size([740]) torch.Size([1300])\n"
     ]
    },
    {
     "name": "stderr",
     "output_type": "stream",
     "text": [
      "  4%|▍         | 741/17847 [01:41<34:02,  8.38it/s]"
     ]
    },
    {
     "name": "stdout",
     "output_type": "stream",
     "text": [
      "torch.Size([67, 20]) torch.Size([72, 20]) torch.Size([1340]) torch.Size([1440])\n",
      "torch.Size([68, 20]) torch.Size([71, 20]) torch.Size([1360]) torch.Size([1420])\n"
     ]
    },
    {
     "name": "stderr",
     "output_type": "stream",
     "text": [
      "  4%|▍         | 743/17847 [01:41<37:28,  7.61it/s]"
     ]
    },
    {
     "name": "stdout",
     "output_type": "stream",
     "text": [
      "torch.Size([75, 20]) torch.Size([70, 20]) torch.Size([1500]) torch.Size([1400])\n",
      "torch.Size([73, 20]) torch.Size([66, 20]) torch.Size([1460]) torch.Size([1320])\n"
     ]
    },
    {
     "name": "stderr",
     "output_type": "stream",
     "text": [
      "  4%|▍         | 745/17847 [01:41<39:44,  7.17it/s]"
     ]
    },
    {
     "name": "stdout",
     "output_type": "stream",
     "text": [
      "torch.Size([71, 20]) torch.Size([70, 20]) torch.Size([1420]) torch.Size([1400])\n",
      "torch.Size([66, 20]) torch.Size([67, 20]) torch.Size([1320]) torch.Size([1340])\n"
     ]
    },
    {
     "name": "stderr",
     "output_type": "stream",
     "text": [
      "  4%|▍         | 747/17847 [01:41<40:39,  7.01it/s]"
     ]
    },
    {
     "name": "stdout",
     "output_type": "stream",
     "text": [
      "torch.Size([69, 20]) torch.Size([74, 20]) torch.Size([1380]) torch.Size([1480])\n",
      "torch.Size([77, 20]) torch.Size([75, 20]) torch.Size([1540]) torch.Size([1500])\n"
     ]
    },
    {
     "name": "stderr",
     "output_type": "stream",
     "text": [
      "  4%|▍         | 749/17847 [01:42<41:09,  6.92it/s]"
     ]
    },
    {
     "name": "stdout",
     "output_type": "stream",
     "text": [
      "torch.Size([78, 20]) torch.Size([56, 20]) torch.Size([1560]) torch.Size([1120])\n",
      "torch.Size([64, 20]) torch.Size([75, 20]) torch.Size([1280]) torch.Size([1500])\n"
     ]
    },
    {
     "name": "stderr",
     "output_type": "stream",
     "text": [
      "  4%|▍         | 751/17847 [01:42<39:58,  7.13it/s]"
     ]
    },
    {
     "name": "stdout",
     "output_type": "stream",
     "text": [
      "torch.Size([67, 20]) torch.Size([72, 20]) torch.Size([1340]) torch.Size([1440])\n",
      "torch.Size([69, 20]) torch.Size([65, 20]) torch.Size([1380]) torch.Size([1300])\n"
     ]
    },
    {
     "name": "stderr",
     "output_type": "stream",
     "text": [
      "  4%|▍         | 753/17847 [01:42<39:25,  7.23it/s]"
     ]
    },
    {
     "name": "stdout",
     "output_type": "stream",
     "text": [
      "torch.Size([69, 20]) torch.Size([61, 20]) torch.Size([1380]) torch.Size([1220])\n",
      "torch.Size([38, 20]) torch.Size([71, 20]) torch.Size([760]) torch.Size([1420])\n"
     ]
    },
    {
     "name": "stderr",
     "output_type": "stream",
     "text": [
      "  4%|▍         | 756/17847 [01:43<33:43,  8.45it/s]"
     ]
    },
    {
     "name": "stdout",
     "output_type": "stream",
     "text": [
      "torch.Size([28, 20]) torch.Size([72, 20]) torch.Size([560]) torch.Size([1440])\n",
      "torch.Size([83, 20]) torch.Size([69, 20]) torch.Size([1660]) torch.Size([1380])\n",
      "torch.Size([70, 20]) torch.Size([65, 20]) torch.Size([1400]) torch.Size([1300])\n"
     ]
    },
    {
     "name": "stderr",
     "output_type": "stream",
     "text": [
      "  4%|▍         | 758/17847 [01:43<37:03,  7.69it/s]"
     ]
    },
    {
     "name": "stdout",
     "output_type": "stream",
     "text": [
      "torch.Size([68, 20]) torch.Size([64, 20]) torch.Size([1360]) torch.Size([1280])\n",
      "torch.Size([70, 20]) torch.Size([74, 20]) torch.Size([1400]) torch.Size([1480])\n"
     ]
    },
    {
     "name": "stderr",
     "output_type": "stream",
     "text": [
      "  4%|▍         | 760/17847 [01:43<38:20,  7.43it/s]"
     ]
    },
    {
     "name": "stdout",
     "output_type": "stream",
     "text": [
      "torch.Size([68, 20]) torch.Size([64, 20]) torch.Size([1360]) torch.Size([1280])\n",
      "torch.Size([66, 20]) torch.Size([66, 20]) torch.Size([1320]) torch.Size([1320])\n"
     ]
    },
    {
     "name": "stderr",
     "output_type": "stream",
     "text": [
      "  4%|▍         | 762/17847 [01:43<39:16,  7.25it/s]"
     ]
    },
    {
     "name": "stdout",
     "output_type": "stream",
     "text": [
      "torch.Size([65, 20]) torch.Size([72, 20]) torch.Size([1300]) torch.Size([1440])\n",
      "torch.Size([70, 20]) torch.Size([67, 20]) torch.Size([1400]) torch.Size([1340])\n"
     ]
    },
    {
     "name": "stderr",
     "output_type": "stream",
     "text": [
      "  4%|▍         | 764/17847 [01:44<37:40,  7.56it/s]"
     ]
    },
    {
     "name": "stdout",
     "output_type": "stream",
     "text": [
      "torch.Size([67, 20]) torch.Size([35, 20]) torch.Size([1340]) torch.Size([700])\n",
      "torch.Size([66, 20]) torch.Size([65, 20]) torch.Size([1320]) torch.Size([1300])\n"
     ]
    },
    {
     "name": "stderr",
     "output_type": "stream",
     "text": [
      "  4%|▍         | 766/17847 [01:44<36:08,  7.88it/s]"
     ]
    },
    {
     "name": "stdout",
     "output_type": "stream",
     "text": [
      "torch.Size([55, 20]) torch.Size([70, 20]) torch.Size([1100]) torch.Size([1400])\n",
      "torch.Size([74, 20]) torch.Size([36, 20]) torch.Size([1480]) torch.Size([720])\n"
     ]
    },
    {
     "name": "stderr",
     "output_type": "stream",
     "text": [
      "  4%|▍         | 768/17847 [01:44<32:44,  8.69it/s]"
     ]
    },
    {
     "name": "stdout",
     "output_type": "stream",
     "text": [
      "torch.Size([61, 20]) torch.Size([74, 20]) torch.Size([1220]) torch.Size([1480])\n",
      "torch.Size([37, 20]) torch.Size([69, 20]) torch.Size([740]) torch.Size([1380])\n"
     ]
    },
    {
     "name": "stderr",
     "output_type": "stream",
     "text": [
      "  4%|▍         | 771/17847 [01:44<31:07,  9.14it/s]"
     ]
    },
    {
     "name": "stdout",
     "output_type": "stream",
     "text": [
      "torch.Size([39, 20]) torch.Size([62, 20]) torch.Size([780]) torch.Size([1240])\n",
      "torch.Size([69, 20]) torch.Size([66, 20]) torch.Size([1380]) torch.Size([1320])\n",
      "torch.Size([35, 20]) torch.Size([72, 20]) torch.Size([700]) torch.Size([1440])\n"
     ]
    },
    {
     "name": "stderr",
     "output_type": "stream",
     "text": [
      "  4%|▍         | 773/17847 [01:45<30:58,  9.19it/s]"
     ]
    },
    {
     "name": "stdout",
     "output_type": "stream",
     "text": [
      "torch.Size([64, 20]) torch.Size([74, 20]) torch.Size([1280]) torch.Size([1480])\n",
      "torch.Size([66, 20]) torch.Size([35, 20]) torch.Size([1320]) torch.Size([700])\n"
     ]
    },
    {
     "name": "stderr",
     "output_type": "stream",
     "text": [
      "  4%|▍         | 775/17847 [01:45<30:50,  9.23it/s]"
     ]
    },
    {
     "name": "stdout",
     "output_type": "stream",
     "text": [
      "torch.Size([81, 20]) torch.Size([68, 20]) torch.Size([1620]) torch.Size([1360])\n",
      "torch.Size([68, 20]) torch.Size([71, 20]) torch.Size([1360]) torch.Size([1420])\n"
     ]
    },
    {
     "name": "stderr",
     "output_type": "stream",
     "text": [
      "  4%|▍         | 777/17847 [01:45<36:42,  7.75it/s]"
     ]
    },
    {
     "name": "stdout",
     "output_type": "stream",
     "text": [
      "torch.Size([71, 20]) torch.Size([82, 20]) torch.Size([1420]) torch.Size([1640])\n",
      "torch.Size([68, 20]) torch.Size([68, 20]) torch.Size([1360]) torch.Size([1360])\n"
     ]
    },
    {
     "name": "stderr",
     "output_type": "stream",
     "text": [
      "  4%|▍         | 779/17847 [01:45<39:29,  7.20it/s]"
     ]
    },
    {
     "name": "stdout",
     "output_type": "stream",
     "text": [
      "torch.Size([74, 20]) torch.Size([70, 20]) torch.Size([1480]) torch.Size([1400])\n",
      "torch.Size([60, 20]) torch.Size([71, 20]) torch.Size([1200]) torch.Size([1420])\n"
     ]
    },
    {
     "name": "stderr",
     "output_type": "stream",
     "text": [
      "  4%|▍         | 781/17847 [01:46<38:53,  7.31it/s]"
     ]
    },
    {
     "name": "stdout",
     "output_type": "stream",
     "text": [
      "torch.Size([63, 20]) torch.Size([72, 20]) torch.Size([1260]) torch.Size([1440])\n",
      "torch.Size([70, 20]) torch.Size([63, 20]) torch.Size([1400]) torch.Size([1260])\n"
     ]
    },
    {
     "name": "stderr",
     "output_type": "stream",
     "text": [
      "  4%|▍         | 783/17847 [01:46<38:53,  7.31it/s]"
     ]
    },
    {
     "name": "stdout",
     "output_type": "stream",
     "text": [
      "torch.Size([69, 20]) torch.Size([63, 20]) torch.Size([1380]) torch.Size([1260])\n",
      "torch.Size([64, 20]) torch.Size([73, 20]) torch.Size([1280]) torch.Size([1460])\n"
     ]
    },
    {
     "name": "stderr",
     "output_type": "stream",
     "text": [
      "  4%|▍         | 785/17847 [01:46<39:38,  7.17it/s]"
     ]
    },
    {
     "name": "stdout",
     "output_type": "stream",
     "text": [
      "torch.Size([74, 20]) torch.Size([70, 20]) torch.Size([1480]) torch.Size([1400])\n",
      "torch.Size([70, 20]) torch.Size([65, 20]) torch.Size([1400]) torch.Size([1300])\n"
     ]
    },
    {
     "name": "stderr",
     "output_type": "stream",
     "text": [
      "  4%|▍         | 787/17847 [01:46<39:41,  7.16it/s]"
     ]
    },
    {
     "name": "stdout",
     "output_type": "stream",
     "text": [
      "torch.Size([73, 20]) torch.Size([58, 20]) torch.Size([1460]) torch.Size([1160])\n",
      "torch.Size([73, 20]) torch.Size([75, 20]) torch.Size([1460]) torch.Size([1500])\n"
     ]
    },
    {
     "name": "stderr",
     "output_type": "stream",
     "text": [
      "  4%|▍         | 789/17847 [01:47<39:27,  7.21it/s]"
     ]
    },
    {
     "name": "stdout",
     "output_type": "stream",
     "text": [
      "torch.Size([56, 20]) torch.Size([65, 20]) torch.Size([1120]) torch.Size([1300])\n",
      "torch.Size([65, 20]) torch.Size([70, 20]) torch.Size([1300]) torch.Size([1400])\n"
     ]
    },
    {
     "name": "stderr",
     "output_type": "stream",
     "text": [
      "  4%|▍         | 791/17847 [01:47<38:54,  7.31it/s]"
     ]
    },
    {
     "name": "stdout",
     "output_type": "stream",
     "text": [
      "torch.Size([65, 20]) torch.Size([71, 20]) torch.Size([1300]) torch.Size([1420])\n",
      "torch.Size([69, 20]) torch.Size([67, 20]) torch.Size([1380]) torch.Size([1340])\n"
     ]
    },
    {
     "name": "stderr",
     "output_type": "stream",
     "text": [
      "  4%|▍         | 793/17847 [01:47<39:37,  7.17it/s]"
     ]
    },
    {
     "name": "stdout",
     "output_type": "stream",
     "text": [
      "torch.Size([64, 20]) torch.Size([72, 20]) torch.Size([1280]) torch.Size([1440])\n",
      "torch.Size([76, 20]) torch.Size([71, 20]) torch.Size([1520]) torch.Size([1420])\n"
     ]
    },
    {
     "name": "stderr",
     "output_type": "stream",
     "text": [
      "  4%|▍         | 795/17847 [01:48<40:14,  7.06it/s]"
     ]
    },
    {
     "name": "stdout",
     "output_type": "stream",
     "text": [
      "torch.Size([63, 20]) torch.Size([62, 20]) torch.Size([1260]) torch.Size([1240])\n",
      "torch.Size([72, 20]) torch.Size([68, 20]) torch.Size([1440]) torch.Size([1360])\n"
     ]
    },
    {
     "name": "stderr",
     "output_type": "stream",
     "text": [
      "  4%|▍         | 797/17847 [01:48<40:13,  7.06it/s]"
     ]
    },
    {
     "name": "stdout",
     "output_type": "stream",
     "text": [
      "torch.Size([66, 20]) torch.Size([65, 20]) torch.Size([1320]) torch.Size([1300])\n",
      "torch.Size([72, 20]) torch.Size([68, 20]) torch.Size([1440]) torch.Size([1360])\n"
     ]
    },
    {
     "name": "stderr",
     "output_type": "stream",
     "text": [
      "  4%|▍         | 799/17847 [01:48<40:46,  6.97it/s]"
     ]
    },
    {
     "name": "stdout",
     "output_type": "stream",
     "text": [
      "torch.Size([68, 20]) torch.Size([69, 20]) torch.Size([1360]) torch.Size([1380])\n",
      "torch.Size([59, 20]) torch.Size([66, 20]) torch.Size([1180]) torch.Size([1320])\n"
     ]
    },
    {
     "name": "stderr",
     "output_type": "stream",
     "text": [
      "  4%|▍         | 801/17847 [01:48<39:54,  7.12it/s]"
     ]
    },
    {
     "name": "stdout",
     "output_type": "stream",
     "text": [
      "torch.Size([73, 20]) torch.Size([71, 20]) torch.Size([1460]) torch.Size([1420])\n",
      "torch.Size([73, 20]) torch.Size([81, 20]) torch.Size([1460]) torch.Size([1620])\n"
     ]
    },
    {
     "name": "stderr",
     "output_type": "stream",
     "text": [
      "  4%|▍         | 803/17847 [01:49<41:00,  6.93it/s]"
     ]
    },
    {
     "name": "stdout",
     "output_type": "stream",
     "text": [
      "torch.Size([67, 20]) torch.Size([61, 20]) torch.Size([1340]) torch.Size([1220])\n",
      "torch.Size([65, 20]) torch.Size([73, 20]) torch.Size([1300]) torch.Size([1460])\n"
     ]
    },
    {
     "name": "stderr",
     "output_type": "stream",
     "text": [
      "  5%|▍         | 805/17847 [01:49<39:05,  7.26it/s]"
     ]
    },
    {
     "name": "stdout",
     "output_type": "stream",
     "text": [
      "torch.Size([50, 20]) torch.Size([72, 20]) torch.Size([1000]) torch.Size([1440])\n",
      "torch.Size([70, 20]) torch.Size([73, 20]) torch.Size([1400]) torch.Size([1460])\n"
     ]
    },
    {
     "name": "stderr",
     "output_type": "stream",
     "text": [
      "  5%|▍         | 807/17847 [01:49<39:30,  7.19it/s]"
     ]
    },
    {
     "name": "stdout",
     "output_type": "stream",
     "text": [
      "torch.Size([68, 20]) torch.Size([73, 20]) torch.Size([1360]) torch.Size([1460])\n",
      "torch.Size([73, 20]) torch.Size([66, 20]) torch.Size([1460]) torch.Size([1320])\n"
     ]
    },
    {
     "name": "stderr",
     "output_type": "stream",
     "text": [
      "  5%|▍         | 809/17847 [01:50<40:05,  7.08it/s]"
     ]
    },
    {
     "name": "stdout",
     "output_type": "stream",
     "text": [
      "torch.Size([70, 20]) torch.Size([70, 20]) torch.Size([1400]) torch.Size([1400])\n",
      "torch.Size([60, 20]) torch.Size([69, 20]) torch.Size([1200]) torch.Size([1380])\n"
     ]
    },
    {
     "name": "stderr",
     "output_type": "stream",
     "text": [
      "  5%|▍         | 811/17847 [01:50<40:13,  7.06it/s]"
     ]
    },
    {
     "name": "stdout",
     "output_type": "stream",
     "text": [
      "torch.Size([75, 20]) torch.Size([77, 20]) torch.Size([1500]) torch.Size([1540])\n",
      "torch.Size([66, 20]) torch.Size([66, 20]) torch.Size([1320]) torch.Size([1320])\n"
     ]
    },
    {
     "name": "stderr",
     "output_type": "stream",
     "text": [
      "  5%|▍         | 813/17847 [01:50<40:50,  6.95it/s]"
     ]
    },
    {
     "name": "stdout",
     "output_type": "stream",
     "text": [
      "torch.Size([74, 20]) torch.Size([70, 20]) torch.Size([1480]) torch.Size([1400])\n",
      "torch.Size([66, 20]) torch.Size([80, 20]) torch.Size([1320]) torch.Size([1600])\n"
     ]
    },
    {
     "name": "stderr",
     "output_type": "stream",
     "text": [
      "  5%|▍         | 815/17847 [01:50<40:46,  6.96it/s]"
     ]
    },
    {
     "name": "stdout",
     "output_type": "stream",
     "text": [
      "torch.Size([63, 20]) torch.Size([70, 20]) torch.Size([1260]) torch.Size([1400])\n",
      "torch.Size([69, 20]) torch.Size([74, 20]) torch.Size([1380]) torch.Size([1480])\n"
     ]
    },
    {
     "name": "stderr",
     "output_type": "stream",
     "text": [
      "  5%|▍         | 817/17847 [01:51<40:28,  7.01it/s]"
     ]
    },
    {
     "name": "stdout",
     "output_type": "stream",
     "text": [
      "torch.Size([72, 20]) torch.Size([65, 20]) torch.Size([1440]) torch.Size([1300])\n",
      "torch.Size([66, 20]) torch.Size([71, 20]) torch.Size([1320]) torch.Size([1420])\n"
     ]
    },
    {
     "name": "stderr",
     "output_type": "stream",
     "text": [
      "  5%|▍         | 819/17847 [01:51<40:21,  7.03it/s]"
     ]
    },
    {
     "name": "stdout",
     "output_type": "stream",
     "text": [
      "torch.Size([76, 20]) torch.Size([64, 20]) torch.Size([1520]) torch.Size([1280])\n",
      "torch.Size([67, 20]) torch.Size([57, 20]) torch.Size([1340]) torch.Size([1140])\n"
     ]
    },
    {
     "name": "stderr",
     "output_type": "stream",
     "text": [
      "  5%|▍         | 821/17847 [01:51<38:34,  7.36it/s]"
     ]
    },
    {
     "name": "stdout",
     "output_type": "stream",
     "text": [
      "torch.Size([69, 20]) torch.Size([63, 20]) torch.Size([1380]) torch.Size([1260])\n",
      "torch.Size([80, 20]) torch.Size([53, 20]) torch.Size([1600]) torch.Size([1060])\n"
     ]
    },
    {
     "name": "stderr",
     "output_type": "stream",
     "text": [
      "  5%|▍         | 823/17847 [01:52<37:01,  7.66it/s]"
     ]
    },
    {
     "name": "stdout",
     "output_type": "stream",
     "text": [
      "torch.Size([74, 20]) torch.Size([59, 20]) torch.Size([1480]) torch.Size([1180])\n",
      "torch.Size([35, 20]) torch.Size([76, 20]) torch.Size([700]) torch.Size([1520])\n"
     ]
    },
    {
     "name": "stderr",
     "output_type": "stream",
     "text": [
      "  5%|▍         | 825/17847 [01:52<34:10,  8.30it/s]"
     ]
    },
    {
     "name": "stdout",
     "output_type": "stream",
     "text": [
      "torch.Size([75, 20]) torch.Size([76, 20]) torch.Size([1500]) torch.Size([1520])\n",
      "torch.Size([72, 20]) torch.Size([70, 20]) torch.Size([1440]) torch.Size([1400])\n"
     ]
    },
    {
     "name": "stderr",
     "output_type": "stream",
     "text": [
      "  5%|▍         | 827/17847 [01:52<36:39,  7.74it/s]"
     ]
    },
    {
     "name": "stdout",
     "output_type": "stream",
     "text": [
      "torch.Size([47, 20]) torch.Size([71, 20]) torch.Size([940]) torch.Size([1420])\n",
      "torch.Size([78, 20]) torch.Size([69, 20]) torch.Size([1560]) torch.Size([1380])\n"
     ]
    },
    {
     "name": "stderr",
     "output_type": "stream",
     "text": [
      "  5%|▍         | 829/17847 [01:52<37:40,  7.53it/s]"
     ]
    },
    {
     "name": "stdout",
     "output_type": "stream",
     "text": [
      "torch.Size([67, 20]) torch.Size([64, 20]) torch.Size([1340]) torch.Size([1280])\n",
      "torch.Size([64, 20]) torch.Size([69, 20]) torch.Size([1280]) torch.Size([1380])\n"
     ]
    },
    {
     "name": "stderr",
     "output_type": "stream",
     "text": [
      "  5%|▍         | 831/17847 [01:53<38:28,  7.37it/s]"
     ]
    },
    {
     "name": "stdout",
     "output_type": "stream",
     "text": [
      "torch.Size([74, 20]) torch.Size([63, 20]) torch.Size([1480]) torch.Size([1260])\n",
      "torch.Size([72, 20]) torch.Size([31, 20]) torch.Size([1440]) torch.Size([620])\n"
     ]
    },
    {
     "name": "stderr",
     "output_type": "stream",
     "text": [
      "  5%|▍         | 833/17847 [01:53<34:04,  8.32it/s]"
     ]
    },
    {
     "name": "stdout",
     "output_type": "stream",
     "text": [
      "torch.Size([73, 20]) torch.Size([70, 20]) torch.Size([1460]) torch.Size([1400])\n",
      "torch.Size([68, 20]) torch.Size([30, 20]) torch.Size([1360]) torch.Size([600])\n"
     ]
    },
    {
     "name": "stderr",
     "output_type": "stream",
     "text": [
      "\r",
      "  5%|▍         | 834/17847 [01:53<33:31,  8.46it/s]"
     ]
    },
    {
     "name": "stdout",
     "output_type": "stream",
     "text": [
      "torch.Size([64, 20]) torch.Size([70, 20]) torch.Size([1280]) torch.Size([1400])\n",
      "torch.Size([80, 20]) torch.Size([66, 20]) torch.Size([1600]) torch.Size([1320])\n"
     ]
    },
    {
     "name": "stderr",
     "output_type": "stream",
     "text": [
      "  5%|▍         | 837/17847 [01:53<35:57,  7.88it/s]"
     ]
    },
    {
     "name": "stdout",
     "output_type": "stream",
     "text": [
      "torch.Size([70, 20]) torch.Size([69, 20]) torch.Size([1400]) torch.Size([1380])\n",
      "torch.Size([69, 20]) torch.Size([73, 20]) torch.Size([1380]) torch.Size([1460])\n"
     ]
    },
    {
     "name": "stderr",
     "output_type": "stream",
     "text": [
      "  5%|▍         | 839/17847 [01:54<38:34,  7.35it/s]"
     ]
    },
    {
     "name": "stdout",
     "output_type": "stream",
     "text": [
      "torch.Size([65, 20]) torch.Size([75, 20]) torch.Size([1300]) torch.Size([1500])\n",
      "torch.Size([63, 20]) torch.Size([68, 20]) torch.Size([1260]) torch.Size([1360])\n"
     ]
    },
    {
     "name": "stderr",
     "output_type": "stream",
     "text": [
      "  5%|▍         | 841/17847 [01:54<39:05,  7.25it/s]"
     ]
    },
    {
     "name": "stdout",
     "output_type": "stream",
     "text": [
      "torch.Size([64, 20]) torch.Size([67, 20]) torch.Size([1280]) torch.Size([1340])\n",
      "torch.Size([70, 20]) torch.Size([81, 20]) torch.Size([1400]) torch.Size([1620])\n"
     ]
    },
    {
     "name": "stderr",
     "output_type": "stream",
     "text": [
      "  5%|▍         | 843/17847 [01:54<39:58,  7.09it/s]"
     ]
    },
    {
     "name": "stdout",
     "output_type": "stream",
     "text": [
      "torch.Size([67, 20]) torch.Size([71, 20]) torch.Size([1340]) torch.Size([1420])\n",
      "torch.Size([67, 20]) torch.Size([76, 20]) torch.Size([1340]) torch.Size([1520])\n"
     ]
    },
    {
     "name": "stderr",
     "output_type": "stream",
     "text": [
      "  5%|▍         | 845/17847 [01:54<39:57,  7.09it/s]"
     ]
    },
    {
     "name": "stdout",
     "output_type": "stream",
     "text": [
      "torch.Size([67, 20]) torch.Size([69, 20]) torch.Size([1340]) torch.Size([1380])\n",
      "torch.Size([70, 20]) torch.Size([72, 20]) torch.Size([1400]) torch.Size([1440])\n"
     ]
    },
    {
     "name": "stderr",
     "output_type": "stream",
     "text": [
      "  5%|▍         | 847/17847 [01:55<40:55,  6.92it/s]"
     ]
    },
    {
     "name": "stdout",
     "output_type": "stream",
     "text": [
      "torch.Size([67, 20]) torch.Size([71, 20]) torch.Size([1340]) torch.Size([1420])\n",
      "torch.Size([70, 20]) torch.Size([71, 20]) torch.Size([1400]) torch.Size([1420])\n"
     ]
    },
    {
     "name": "stderr",
     "output_type": "stream",
     "text": [
      "  5%|▍         | 849/17847 [01:55<40:23,  7.01it/s]"
     ]
    },
    {
     "name": "stdout",
     "output_type": "stream",
     "text": [
      "torch.Size([60, 20]) torch.Size([67, 20]) torch.Size([1200]) torch.Size([1340])\n",
      "torch.Size([67, 20]) torch.Size([71, 20]) torch.Size([1340]) torch.Size([1420])\n"
     ]
    },
    {
     "name": "stderr",
     "output_type": "stream",
     "text": [
      "  5%|▍         | 851/17847 [01:55<40:27,  7.00it/s]"
     ]
    },
    {
     "name": "stdout",
     "output_type": "stream",
     "text": [
      "torch.Size([68, 20]) torch.Size([68, 20]) torch.Size([1360]) torch.Size([1360])\n",
      "torch.Size([27, 20]) torch.Size([81, 20]) torch.Size([540]) torch.Size([1620])\n"
     ]
    },
    {
     "name": "stderr",
     "output_type": "stream",
     "text": [
      "\r",
      "  5%|▍         | 852/17847 [01:55<37:35,  7.53it/s]"
     ]
    },
    {
     "name": "stdout",
     "output_type": "stream",
     "text": [
      "torch.Size([77, 20]) torch.Size([64, 20]) torch.Size([1540]) torch.Size([1280])\n",
      "torch.Size([73, 20]) torch.Size([66, 20]) torch.Size([1460]) torch.Size([1320])\n"
     ]
    },
    {
     "name": "stderr",
     "output_type": "stream",
     "text": [
      "  5%|▍         | 855/17847 [01:56<37:31,  7.55it/s]"
     ]
    },
    {
     "name": "stdout",
     "output_type": "stream",
     "text": [
      "torch.Size([71, 20]) torch.Size([69, 20]) torch.Size([1420]) torch.Size([1380])\n",
      "torch.Size([70, 20]) torch.Size([64, 20]) torch.Size([1400]) torch.Size([1280])\n"
     ]
    },
    {
     "name": "stderr",
     "output_type": "stream",
     "text": [
      "  5%|▍         | 857/17847 [01:56<38:36,  7.33it/s]"
     ]
    },
    {
     "name": "stdout",
     "output_type": "stream",
     "text": [
      "torch.Size([72, 20]) torch.Size([78, 20]) torch.Size([1440]) torch.Size([1560])\n",
      "torch.Size([72, 20]) torch.Size([73, 20]) torch.Size([1440]) torch.Size([1460])\n"
     ]
    },
    {
     "name": "stderr",
     "output_type": "stream",
     "text": [
      "  5%|▍         | 859/17847 [01:56<41:00,  6.91it/s]"
     ]
    },
    {
     "name": "stdout",
     "output_type": "stream",
     "text": [
      "torch.Size([68, 20]) torch.Size([76, 20]) torch.Size([1360]) torch.Size([1520])\n",
      "torch.Size([71, 20]) torch.Size([70, 20]) torch.Size([1420]) torch.Size([1400])\n"
     ]
    },
    {
     "name": "stderr",
     "output_type": "stream",
     "text": [
      "  5%|▍         | 861/17847 [01:57<41:13,  6.87it/s]"
     ]
    },
    {
     "name": "stdout",
     "output_type": "stream",
     "text": [
      "torch.Size([69, 20]) torch.Size([68, 20]) torch.Size([1380]) torch.Size([1360])\n",
      "torch.Size([62, 20]) torch.Size([75, 20]) torch.Size([1240]) torch.Size([1500])\n"
     ]
    },
    {
     "name": "stderr",
     "output_type": "stream",
     "text": [
      "  5%|▍         | 863/17847 [01:57<40:40,  6.96it/s]"
     ]
    },
    {
     "name": "stdout",
     "output_type": "stream",
     "text": [
      "torch.Size([70, 20]) torch.Size([72, 20]) torch.Size([1400]) torch.Size([1440])\n",
      "torch.Size([67, 20]) torch.Size([73, 20]) torch.Size([1340]) torch.Size([1460])\n"
     ]
    },
    {
     "name": "stderr",
     "output_type": "stream",
     "text": [
      "  5%|▍         | 865/17847 [01:57<40:58,  6.91it/s]"
     ]
    },
    {
     "name": "stdout",
     "output_type": "stream",
     "text": [
      "torch.Size([72, 20]) torch.Size([71, 20]) torch.Size([1440]) torch.Size([1420])\n",
      "torch.Size([67, 20]) torch.Size([71, 20]) torch.Size([1340]) torch.Size([1420])\n"
     ]
    },
    {
     "name": "stderr",
     "output_type": "stream",
     "text": [
      "  5%|▍         | 867/17847 [01:58<41:08,  6.88it/s]"
     ]
    },
    {
     "name": "stdout",
     "output_type": "stream",
     "text": [
      "torch.Size([75, 20]) torch.Size([70, 20]) torch.Size([1500]) torch.Size([1400])\n",
      "torch.Size([65, 20]) torch.Size([33, 20]) torch.Size([1300]) torch.Size([660])\n"
     ]
    },
    {
     "name": "stderr",
     "output_type": "stream",
     "text": [
      "  5%|▍         | 869/17847 [01:58<35:32,  7.96it/s]"
     ]
    },
    {
     "name": "stdout",
     "output_type": "stream",
     "text": [
      "torch.Size([66, 20]) torch.Size([64, 20]) torch.Size([1320]) torch.Size([1280])\n",
      "torch.Size([66, 20]) torch.Size([62, 20]) torch.Size([1320]) torch.Size([1240])\n"
     ]
    },
    {
     "name": "stderr",
     "output_type": "stream",
     "text": [
      "  5%|▍         | 871/17847 [01:58<37:17,  7.59it/s]"
     ]
    },
    {
     "name": "stdout",
     "output_type": "stream",
     "text": [
      "torch.Size([80, 20]) torch.Size([63, 20]) torch.Size([1600]) torch.Size([1260])\n",
      "torch.Size([66, 20]) torch.Size([70, 20]) torch.Size([1320]) torch.Size([1400])\n"
     ]
    },
    {
     "name": "stderr",
     "output_type": "stream",
     "text": [
      "  5%|▍         | 873/17847 [01:58<37:52,  7.47it/s]"
     ]
    },
    {
     "name": "stdout",
     "output_type": "stream",
     "text": [
      "torch.Size([73, 20]) torch.Size([60, 20]) torch.Size([1460]) torch.Size([1200])\n",
      "torch.Size([62, 20]) torch.Size([66, 20]) torch.Size([1240]) torch.Size([1320])\n"
     ]
    },
    {
     "name": "stderr",
     "output_type": "stream",
     "text": [
      "  5%|▍         | 875/17847 [01:59<37:59,  7.45it/s]"
     ]
    },
    {
     "name": "stdout",
     "output_type": "stream",
     "text": [
      "torch.Size([71, 20]) torch.Size([69, 20]) torch.Size([1420]) torch.Size([1380])\n",
      "torch.Size([68, 20]) torch.Size([67, 20]) torch.Size([1360]) torch.Size([1340])\n"
     ]
    },
    {
     "name": "stderr",
     "output_type": "stream",
     "text": [
      "  5%|▍         | 877/17847 [01:59<38:50,  7.28it/s]"
     ]
    },
    {
     "name": "stdout",
     "output_type": "stream",
     "text": [
      "torch.Size([61, 20]) torch.Size([72, 20]) torch.Size([1220]) torch.Size([1440])\n",
      "torch.Size([67, 20]) torch.Size([68, 20]) torch.Size([1340]) torch.Size([1360])\n"
     ]
    },
    {
     "name": "stderr",
     "output_type": "stream",
     "text": [
      "  5%|▍         | 879/17847 [01:59<37:01,  7.64it/s]"
     ]
    },
    {
     "name": "stdout",
     "output_type": "stream",
     "text": [
      "torch.Size([72, 20]) torch.Size([36, 20]) torch.Size([1440]) torch.Size([720])\n",
      "torch.Size([75, 20]) torch.Size([78, 20]) torch.Size([1500]) torch.Size([1560])\n"
     ]
    },
    {
     "name": "stderr",
     "output_type": "stream",
     "text": [
      "  5%|▍         | 881/17847 [01:59<37:25,  7.56it/s]"
     ]
    },
    {
     "name": "stdout",
     "output_type": "stream",
     "text": [
      "torch.Size([66, 20]) torch.Size([73, 20]) torch.Size([1320]) torch.Size([1460])\n",
      "torch.Size([72, 20]) torch.Size([72, 20]) torch.Size([1440]) torch.Size([1440])\n"
     ]
    },
    {
     "name": "stderr",
     "output_type": "stream",
     "text": [
      "  5%|▍         | 883/17847 [02:00<39:53,  7.09it/s]"
     ]
    },
    {
     "name": "stdout",
     "output_type": "stream",
     "text": [
      "torch.Size([75, 20]) torch.Size([68, 20]) torch.Size([1500]) torch.Size([1360])\n",
      "torch.Size([74, 20]) torch.Size([65, 20]) torch.Size([1480]) torch.Size([1300])\n"
     ]
    },
    {
     "name": "stderr",
     "output_type": "stream",
     "text": [
      "  5%|▍         | 885/17847 [02:00<39:47,  7.10it/s]"
     ]
    },
    {
     "name": "stdout",
     "output_type": "stream",
     "text": [
      "torch.Size([60, 20]) torch.Size([63, 20]) torch.Size([1200]) torch.Size([1260])\n",
      "torch.Size([75, 20]) torch.Size([69, 20]) torch.Size([1500]) torch.Size([1380])\n"
     ]
    },
    {
     "name": "stderr",
     "output_type": "stream",
     "text": [
      "  5%|▍         | 887/17847 [02:00<40:08,  7.04it/s]"
     ]
    },
    {
     "name": "stdout",
     "output_type": "stream",
     "text": [
      "torch.Size([68, 20]) torch.Size([68, 20]) torch.Size([1360]) torch.Size([1360])\n",
      "torch.Size([65, 20]) torch.Size([69, 20]) torch.Size([1300]) torch.Size([1380])\n"
     ]
    },
    {
     "name": "stderr",
     "output_type": "stream",
     "text": [
      "  5%|▍         | 889/17847 [02:01<40:58,  6.90it/s]"
     ]
    },
    {
     "name": "stdout",
     "output_type": "stream",
     "text": [
      "torch.Size([75, 20]) torch.Size([74, 20]) torch.Size([1500]) torch.Size([1480])\n",
      "torch.Size([64, 20]) torch.Size([64, 20]) torch.Size([1280]) torch.Size([1280])\n"
     ]
    },
    {
     "name": "stderr",
     "output_type": "stream",
     "text": [
      "  5%|▍         | 891/17847 [02:01<40:51,  6.92it/s]"
     ]
    },
    {
     "name": "stdout",
     "output_type": "stream",
     "text": [
      "torch.Size([69, 20]) torch.Size([67, 20]) torch.Size([1380]) torch.Size([1340])\n",
      "torch.Size([72, 20]) torch.Size([78, 20]) torch.Size([1440]) torch.Size([1560])\n"
     ]
    },
    {
     "name": "stderr",
     "output_type": "stream",
     "text": [
      "  5%|▌         | 893/17847 [02:01<40:50,  6.92it/s]"
     ]
    },
    {
     "name": "stdout",
     "output_type": "stream",
     "text": [
      "torch.Size([73, 20]) torch.Size([64, 20]) torch.Size([1460]) torch.Size([1280])\n",
      "torch.Size([74, 20]) torch.Size([75, 20]) torch.Size([1480]) torch.Size([1500])\n"
     ]
    },
    {
     "name": "stderr",
     "output_type": "stream",
     "text": [
      "  5%|▌         | 895/17847 [02:01<42:16,  6.68it/s]"
     ]
    },
    {
     "name": "stdout",
     "output_type": "stream",
     "text": [
      "torch.Size([73, 20]) torch.Size([72, 20]) torch.Size([1460]) torch.Size([1440])\n",
      "torch.Size([66, 20]) torch.Size([67, 20]) torch.Size([1320]) torch.Size([1340])\n"
     ]
    },
    {
     "name": "stderr",
     "output_type": "stream",
     "text": [
      "  5%|▌         | 897/17847 [02:02<41:54,  6.74it/s]"
     ]
    },
    {
     "name": "stdout",
     "output_type": "stream",
     "text": [
      "torch.Size([69, 20]) torch.Size([71, 20]) torch.Size([1380]) torch.Size([1420])\n",
      "torch.Size([82, 20]) torch.Size([69, 20]) torch.Size([1640]) torch.Size([1380])\n"
     ]
    },
    {
     "name": "stderr",
     "output_type": "stream",
     "text": [
      "  5%|▌         | 899/17847 [02:02<41:44,  6.77it/s]"
     ]
    },
    {
     "name": "stdout",
     "output_type": "stream",
     "text": [
      "torch.Size([75, 20]) torch.Size([70, 20]) torch.Size([1500]) torch.Size([1400])\n",
      "torch.Size([66, 20]) torch.Size([69, 20]) torch.Size([1320]) torch.Size([1380])\n"
     ]
    },
    {
     "name": "stderr",
     "output_type": "stream",
     "text": [
      "  5%|▌         | 901/17847 [02:02<41:51,  6.75it/s]"
     ]
    },
    {
     "name": "stdout",
     "output_type": "stream",
     "text": [
      "torch.Size([76, 20]) torch.Size([75, 20]) torch.Size([1520]) torch.Size([1500])\n",
      "torch.Size([57, 20]) torch.Size([77, 20]) torch.Size([1140]) torch.Size([1540])\n"
     ]
    },
    {
     "name": "stderr",
     "output_type": "stream",
     "text": [
      "  5%|▌         | 903/17847 [02:03<39:52,  7.08it/s]"
     ]
    },
    {
     "name": "stdout",
     "output_type": "stream",
     "text": [
      "torch.Size([67, 20]) torch.Size([64, 20]) torch.Size([1340]) torch.Size([1280])\n",
      "torch.Size([74, 20]) torch.Size([35, 20]) torch.Size([1480]) torch.Size([700])\n"
     ]
    },
    {
     "name": "stderr",
     "output_type": "stream",
     "text": [
      "  5%|▌         | 905/17847 [02:03<35:32,  7.95it/s]"
     ]
    },
    {
     "name": "stdout",
     "output_type": "stream",
     "text": [
      "torch.Size([69, 20]) torch.Size([73, 20]) torch.Size([1380]) torch.Size([1460])\n",
      "torch.Size([65, 20]) torch.Size([62, 20]) torch.Size([1300]) torch.Size([1240])\n"
     ]
    },
    {
     "name": "stderr",
     "output_type": "stream",
     "text": [
      "  5%|▌         | 907/17847 [02:03<35:08,  8.03it/s]"
     ]
    },
    {
     "name": "stdout",
     "output_type": "stream",
     "text": [
      "torch.Size([64, 20]) torch.Size([35, 20]) torch.Size([1280]) torch.Size([700])\n",
      "torch.Size([32, 20]) torch.Size([65, 20]) torch.Size([640]) torch.Size([1300])\n",
      "torch.Size([77, 20]) torch.Size([62, 20]) torch.Size([1540]) torch.Size([1240])\n"
     ]
    },
    {
     "name": "stderr",
     "output_type": "stream",
     "text": [
      "  5%|▌         | 910/17847 [02:03<34:54,  8.09it/s]"
     ]
    },
    {
     "name": "stdout",
     "output_type": "stream",
     "text": [
      "torch.Size([80, 20]) torch.Size([69, 20]) torch.Size([1600]) torch.Size([1380])\n",
      "torch.Size([70, 20]) torch.Size([68, 20]) torch.Size([1400]) torch.Size([1360])\n"
     ]
    },
    {
     "name": "stderr",
     "output_type": "stream",
     "text": [
      "  5%|▌         | 912/17847 [02:04<37:22,  7.55it/s]"
     ]
    },
    {
     "name": "stdout",
     "output_type": "stream",
     "text": [
      "torch.Size([64, 20]) torch.Size([66, 20]) torch.Size([1280]) torch.Size([1320])\n",
      "torch.Size([76, 20]) torch.Size([68, 20]) torch.Size([1520]) torch.Size([1360])\n"
     ]
    },
    {
     "name": "stderr",
     "output_type": "stream",
     "text": [
      "  5%|▌         | 914/17847 [02:04<39:20,  7.17it/s]"
     ]
    },
    {
     "name": "stdout",
     "output_type": "stream",
     "text": [
      "torch.Size([73, 20]) torch.Size([68, 20]) torch.Size([1460]) torch.Size([1360])\n",
      "torch.Size([71, 20]) torch.Size([74, 20]) torch.Size([1420]) torch.Size([1480])\n"
     ]
    },
    {
     "name": "stderr",
     "output_type": "stream",
     "text": [
      "  5%|▌         | 916/17847 [02:04<38:11,  7.39it/s]"
     ]
    },
    {
     "name": "stdout",
     "output_type": "stream",
     "text": [
      "torch.Size([33, 20]) torch.Size([69, 20]) torch.Size([660]) torch.Size([1380])\n",
      "torch.Size([74, 20]) torch.Size([74, 20]) torch.Size([1480]) torch.Size([1480])\n"
     ]
    },
    {
     "name": "stderr",
     "output_type": "stream",
     "text": [
      "  5%|▌         | 918/17847 [02:04<35:48,  7.88it/s]"
     ]
    },
    {
     "name": "stdout",
     "output_type": "stream",
     "text": [
      "torch.Size([66, 20]) torch.Size([37, 20]) torch.Size([1320]) torch.Size([740])\n",
      "torch.Size([72, 20]) torch.Size([74, 20]) torch.Size([1440]) torch.Size([1480])\n"
     ]
    },
    {
     "name": "stderr",
     "output_type": "stream",
     "text": [
      "  5%|▌         | 920/17847 [02:05<37:07,  7.60it/s]"
     ]
    },
    {
     "name": "stdout",
     "output_type": "stream",
     "text": [
      "torch.Size([78, 20]) torch.Size([73, 20]) torch.Size([1560]) torch.Size([1460])\n",
      "torch.Size([69, 20]) torch.Size([64, 20]) torch.Size([1380]) torch.Size([1280])\n"
     ]
    },
    {
     "name": "stderr",
     "output_type": "stream",
     "text": [
      "  5%|▌         | 922/17847 [02:05<36:43,  7.68it/s]"
     ]
    },
    {
     "name": "stdout",
     "output_type": "stream",
     "text": [
      "torch.Size([37, 20]) torch.Size([71, 20]) torch.Size([740]) torch.Size([1420])\n",
      "torch.Size([65, 20]) torch.Size([69, 20]) torch.Size([1300]) torch.Size([1380])\n"
     ]
    },
    {
     "name": "stderr",
     "output_type": "stream",
     "text": [
      "  5%|▌         | 924/17847 [02:05<36:02,  7.83it/s]"
     ]
    },
    {
     "name": "stdout",
     "output_type": "stream",
     "text": [
      "torch.Size([65, 20]) torch.Size([67, 20]) torch.Size([1300]) torch.Size([1340])\n",
      "torch.Size([70, 20]) torch.Size([67, 20]) torch.Size([1400]) torch.Size([1340])\n"
     ]
    },
    {
     "name": "stderr",
     "output_type": "stream",
     "text": [
      "  5%|▌         | 926/17847 [02:05<38:35,  7.31it/s]"
     ]
    },
    {
     "name": "stdout",
     "output_type": "stream",
     "text": [
      "torch.Size([72, 20]) torch.Size([77, 20]) torch.Size([1440]) torch.Size([1540])\n",
      "torch.Size([85, 20]) torch.Size([73, 20]) torch.Size([1700]) torch.Size([1460])\n"
     ]
    },
    {
     "name": "stderr",
     "output_type": "stream",
     "text": [
      "  5%|▌         | 928/17847 [02:06<40:56,  6.89it/s]"
     ]
    },
    {
     "name": "stdout",
     "output_type": "stream",
     "text": [
      "torch.Size([68, 20]) torch.Size([68, 20]) torch.Size([1360]) torch.Size([1360])\n",
      "torch.Size([72, 20]) torch.Size([72, 20]) torch.Size([1440]) torch.Size([1440])\n"
     ]
    },
    {
     "name": "stderr",
     "output_type": "stream",
     "text": [
      "  5%|▌         | 930/17847 [02:06<39:02,  7.22it/s]"
     ]
    },
    {
     "name": "stdout",
     "output_type": "stream",
     "text": [
      "torch.Size([39, 20]) torch.Size([69, 20]) torch.Size([780]) torch.Size([1380])\n",
      "torch.Size([74, 20]) torch.Size([65, 20]) torch.Size([1480]) torch.Size([1300])\n"
     ]
    },
    {
     "name": "stderr",
     "output_type": "stream",
     "text": [
      "  5%|▌         | 932/17847 [02:06<37:42,  7.48it/s]"
     ]
    },
    {
     "name": "stdout",
     "output_type": "stream",
     "text": [
      "torch.Size([70, 20]) torch.Size([62, 20]) torch.Size([1400]) torch.Size([1240])\n",
      "torch.Size([68, 20]) torch.Size([68, 20]) torch.Size([1360]) torch.Size([1360])\n"
     ]
    },
    {
     "name": "stderr",
     "output_type": "stream",
     "text": [
      "  5%|▌         | 934/17847 [02:07<36:30,  7.72it/s]"
     ]
    },
    {
     "name": "stdout",
     "output_type": "stream",
     "text": [
      "torch.Size([33, 20]) torch.Size([73, 20]) torch.Size([660]) torch.Size([1460])\n",
      "torch.Size([72, 20]) torch.Size([78, 20]) torch.Size([1440]) torch.Size([1560])\n"
     ]
    },
    {
     "name": "stderr",
     "output_type": "stream",
     "text": [
      "  5%|▌         | 936/17847 [02:07<34:42,  8.12it/s]"
     ]
    },
    {
     "name": "stdout",
     "output_type": "stream",
     "text": [
      "torch.Size([35, 20]) torch.Size([68, 20]) torch.Size([700]) torch.Size([1360])\n",
      "torch.Size([61, 20]) torch.Size([64, 20]) torch.Size([1220]) torch.Size([1280])\n"
     ]
    },
    {
     "name": "stderr",
     "output_type": "stream",
     "text": [
      "  5%|▌         | 938/17847 [02:07<32:53,  8.57it/s]"
     ]
    },
    {
     "name": "stdout",
     "output_type": "stream",
     "text": [
      "torch.Size([40, 20]) torch.Size([64, 20]) torch.Size([800]) torch.Size([1280])\n",
      "torch.Size([31, 20]) torch.Size([64, 20]) torch.Size([620]) torch.Size([1280])\n",
      "torch.Size([62, 20]) torch.Size([74, 20]) torch.Size([1240]) torch.Size([1480])\n"
     ]
    },
    {
     "name": "stderr",
     "output_type": "stream",
     "text": [
      "  5%|▌         | 941/17847 [02:07<33:24,  8.43it/s]"
     ]
    },
    {
     "name": "stdout",
     "output_type": "stream",
     "text": [
      "torch.Size([66, 20]) torch.Size([81, 20]) torch.Size([1320]) torch.Size([1620])\n",
      "torch.Size([67, 20]) torch.Size([65, 20]) torch.Size([1340]) torch.Size([1300])\n"
     ]
    },
    {
     "name": "stderr",
     "output_type": "stream",
     "text": [
      "  5%|▌         | 943/17847 [02:08<36:42,  7.68it/s]"
     ]
    },
    {
     "name": "stdout",
     "output_type": "stream",
     "text": [
      "torch.Size([66, 20]) torch.Size([64, 20]) torch.Size([1320]) torch.Size([1280])\n",
      "torch.Size([70, 20]) torch.Size([74, 20]) torch.Size([1400]) torch.Size([1480])\n"
     ]
    },
    {
     "name": "stderr",
     "output_type": "stream",
     "text": [
      "  5%|▌         | 945/17847 [02:08<38:16,  7.36it/s]"
     ]
    },
    {
     "name": "stdout",
     "output_type": "stream",
     "text": [
      "torch.Size([74, 20]) torch.Size([67, 20]) torch.Size([1480]) torch.Size([1340])\n",
      "torch.Size([65, 20]) torch.Size([73, 20]) torch.Size([1300]) torch.Size([1460])\n"
     ]
    },
    {
     "name": "stderr",
     "output_type": "stream",
     "text": [
      "  5%|▌         | 947/17847 [02:08<39:07,  7.20it/s]"
     ]
    },
    {
     "name": "stdout",
     "output_type": "stream",
     "text": [
      "torch.Size([62, 20]) torch.Size([70, 20]) torch.Size([1240]) torch.Size([1400])\n",
      "torch.Size([72, 20]) torch.Size([71, 20]) torch.Size([1440]) torch.Size([1420])\n"
     ]
    },
    {
     "name": "stderr",
     "output_type": "stream",
     "text": [
      "  5%|▌         | 949/17847 [02:08<40:34,  6.94it/s]"
     ]
    },
    {
     "name": "stdout",
     "output_type": "stream",
     "text": [
      "torch.Size([70, 20]) torch.Size([74, 20]) torch.Size([1400]) torch.Size([1480])\n",
      "torch.Size([68, 20]) torch.Size([64, 20]) torch.Size([1360]) torch.Size([1280])\n"
     ]
    },
    {
     "name": "stderr",
     "output_type": "stream",
     "text": [
      "  5%|▌         | 951/17847 [02:09<37:44,  7.46it/s]"
     ]
    },
    {
     "name": "stdout",
     "output_type": "stream",
     "text": [
      "torch.Size([34, 20]) torch.Size([74, 20]) torch.Size([680]) torch.Size([1480])\n",
      "torch.Size([81, 20]) torch.Size([65, 20]) torch.Size([1620]) torch.Size([1300])\n"
     ]
    },
    {
     "name": "stderr",
     "output_type": "stream",
     "text": [
      "  5%|▌         | 953/17847 [02:09<37:22,  7.53it/s]"
     ]
    },
    {
     "name": "stdout",
     "output_type": "stream",
     "text": [
      "torch.Size([75, 20]) torch.Size([73, 20]) torch.Size([1500]) torch.Size([1460])\n",
      "torch.Size([85, 20]) torch.Size([75, 20]) torch.Size([1700]) torch.Size([1500])\n"
     ]
    },
    {
     "name": "stderr",
     "output_type": "stream",
     "text": [
      "  5%|▌         | 955/17847 [02:09<39:49,  7.07it/s]"
     ]
    },
    {
     "name": "stdout",
     "output_type": "stream",
     "text": [
      "torch.Size([63, 20]) torch.Size([71, 20]) torch.Size([1260]) torch.Size([1420])\n",
      "torch.Size([73, 20]) torch.Size([73, 20]) torch.Size([1460]) torch.Size([1460])\n"
     ]
    },
    {
     "name": "stderr",
     "output_type": "stream",
     "text": [
      "  5%|▌         | 957/17847 [02:10<40:12,  7.00it/s]"
     ]
    },
    {
     "name": "stdout",
     "output_type": "stream",
     "text": [
      "torch.Size([71, 20]) torch.Size([58, 20]) torch.Size([1420]) torch.Size([1160])\n",
      "torch.Size([76, 20]) torch.Size([66, 20]) torch.Size([1520]) torch.Size([1320])\n"
     ]
    },
    {
     "name": "stderr",
     "output_type": "stream",
     "text": [
      "  5%|▌         | 959/17847 [02:10<39:29,  7.13it/s]"
     ]
    },
    {
     "name": "stdout",
     "output_type": "stream",
     "text": [
      "torch.Size([61, 20]) torch.Size([65, 20]) torch.Size([1220]) torch.Size([1300])\n",
      "torch.Size([75, 20]) torch.Size([71, 20]) torch.Size([1500]) torch.Size([1420])\n"
     ]
    },
    {
     "name": "stderr",
     "output_type": "stream",
     "text": [
      "  5%|▌         | 961/17847 [02:10<39:41,  7.09it/s]"
     ]
    },
    {
     "name": "stdout",
     "output_type": "stream",
     "text": [
      "torch.Size([58, 20]) torch.Size([62, 20]) torch.Size([1160]) torch.Size([1240])\n",
      "torch.Size([73, 20]) torch.Size([68, 20]) torch.Size([1460]) torch.Size([1360])\n"
     ]
    },
    {
     "name": "stderr",
     "output_type": "stream",
     "text": [
      "  5%|▌         | 963/17847 [02:10<40:23,  6.97it/s]"
     ]
    },
    {
     "name": "stdout",
     "output_type": "stream",
     "text": [
      "torch.Size([75, 20]) torch.Size([75, 20]) torch.Size([1500]) torch.Size([1500])\n",
      "torch.Size([68, 20]) torch.Size([73, 20]) torch.Size([1360]) torch.Size([1460])\n"
     ]
    },
    {
     "name": "stderr",
     "output_type": "stream",
     "text": [
      "  5%|▌         | 965/17847 [02:11<40:55,  6.87it/s]"
     ]
    },
    {
     "name": "stdout",
     "output_type": "stream",
     "text": [
      "torch.Size([70, 20]) torch.Size([78, 20]) torch.Size([1400]) torch.Size([1560])\n",
      "torch.Size([70, 20]) torch.Size([70, 20]) torch.Size([1400]) torch.Size([1400])\n"
     ]
    },
    {
     "name": "stderr",
     "output_type": "stream",
     "text": [
      "  5%|▌         | 967/17847 [02:11<41:00,  6.86it/s]"
     ]
    },
    {
     "name": "stdout",
     "output_type": "stream",
     "text": [
      "torch.Size([63, 20]) torch.Size([79, 20]) torch.Size([1260]) torch.Size([1580])\n",
      "torch.Size([64, 20]) torch.Size([71, 20]) torch.Size([1280]) torch.Size([1420])\n"
     ]
    },
    {
     "name": "stderr",
     "output_type": "stream",
     "text": [
      "  5%|▌         | 969/17847 [02:11<40:09,  7.00it/s]"
     ]
    },
    {
     "name": "stdout",
     "output_type": "stream",
     "text": [
      "torch.Size([73, 20]) torch.Size([80, 20]) torch.Size([1460]) torch.Size([1600])\n",
      "torch.Size([64, 20]) torch.Size([74, 20]) torch.Size([1280]) torch.Size([1480])\n"
     ]
    },
    {
     "name": "stderr",
     "output_type": "stream",
     "text": [
      "  5%|▌         | 971/17847 [02:12<40:17,  6.98it/s]"
     ]
    },
    {
     "name": "stdout",
     "output_type": "stream",
     "text": [
      "torch.Size([74, 20]) torch.Size([67, 20]) torch.Size([1480]) torch.Size([1340])\n",
      "torch.Size([71, 20]) torch.Size([64, 20]) torch.Size([1420]) torch.Size([1280])\n"
     ]
    },
    {
     "name": "stderr",
     "output_type": "stream",
     "text": [
      "  5%|▌         | 973/17847 [02:12<39:09,  7.18it/s]"
     ]
    },
    {
     "name": "stdout",
     "output_type": "stream",
     "text": [
      "torch.Size([58, 20]) torch.Size([65, 20]) torch.Size([1160]) torch.Size([1300])\n",
      "torch.Size([78, 20]) torch.Size([66, 20]) torch.Size([1560]) torch.Size([1320])\n"
     ]
    },
    {
     "name": "stderr",
     "output_type": "stream",
     "text": [
      "  5%|▌         | 975/17847 [02:12<39:40,  7.09it/s]"
     ]
    },
    {
     "name": "stdout",
     "output_type": "stream",
     "text": [
      "torch.Size([75, 20]) torch.Size([71, 20]) torch.Size([1500]) torch.Size([1420])\n",
      "torch.Size([71, 20]) torch.Size([67, 20]) torch.Size([1420]) torch.Size([1340])\n"
     ]
    },
    {
     "name": "stderr",
     "output_type": "stream",
     "text": [
      "  5%|▌         | 977/17847 [02:12<40:12,  6.99it/s]"
     ]
    },
    {
     "name": "stdout",
     "output_type": "stream",
     "text": [
      "torch.Size([66, 20]) torch.Size([85, 20]) torch.Size([1320]) torch.Size([1700])\n",
      "torch.Size([65, 20]) torch.Size([39, 20]) torch.Size([1300]) torch.Size([780])\n"
     ]
    },
    {
     "name": "stderr",
     "output_type": "stream",
     "text": [
      "  5%|▌         | 979/17847 [02:13<36:36,  7.68it/s]"
     ]
    },
    {
     "name": "stdout",
     "output_type": "stream",
     "text": [
      "torch.Size([79, 20]) torch.Size([70, 20]) torch.Size([1580]) torch.Size([1400])\n",
      "torch.Size([64, 20]) torch.Size([38, 20]) torch.Size([1280]) torch.Size([760])\n"
     ]
    },
    {
     "name": "stderr",
     "output_type": "stream",
     "text": [
      "  6%|▌         | 982/17847 [02:13<33:11,  8.47it/s]"
     ]
    },
    {
     "name": "stdout",
     "output_type": "stream",
     "text": [
      "torch.Size([65, 20]) torch.Size([32, 20]) torch.Size([1300]) torch.Size([640])\n",
      "torch.Size([74, 20]) torch.Size([73, 20]) torch.Size([1480]) torch.Size([1460])\n",
      "torch.Size([71, 20]) torch.Size([73, 20]) torch.Size([1420]) torch.Size([1460])\n"
     ]
    },
    {
     "name": "stderr",
     "output_type": "stream",
     "text": [
      "  6%|▌         | 984/17847 [02:13<37:19,  7.53it/s]"
     ]
    },
    {
     "name": "stdout",
     "output_type": "stream",
     "text": [
      "torch.Size([69, 20]) torch.Size([61, 20]) torch.Size([1380]) torch.Size([1220])\n",
      "torch.Size([76, 20]) torch.Size([60, 20]) torch.Size([1520]) torch.Size([1200])\n"
     ]
    },
    {
     "name": "stderr",
     "output_type": "stream",
     "text": [
      "  6%|▌         | 986/17847 [02:14<36:52,  7.62it/s]"
     ]
    },
    {
     "name": "stdout",
     "output_type": "stream",
     "text": [
      "torch.Size([70, 20]) torch.Size([60, 20]) torch.Size([1400]) torch.Size([1200])\n",
      "torch.Size([70, 20]) torch.Size([70, 20]) torch.Size([1400]) torch.Size([1400])\n"
     ]
    },
    {
     "name": "stderr",
     "output_type": "stream",
     "text": [
      "  6%|▌         | 988/17847 [02:14<36:23,  7.72it/s]"
     ]
    },
    {
     "name": "stdout",
     "output_type": "stream",
     "text": [
      "torch.Size([40, 20]) torch.Size([67, 20]) torch.Size([800]) torch.Size([1340])\n",
      "torch.Size([69, 20]) torch.Size([65, 20]) torch.Size([1380]) torch.Size([1300])\n"
     ]
    },
    {
     "name": "stderr",
     "output_type": "stream",
     "text": [
      "  6%|▌         | 990/17847 [02:14<36:05,  7.78it/s]"
     ]
    },
    {
     "name": "stdout",
     "output_type": "stream",
     "text": [
      "torch.Size([64, 20]) torch.Size([69, 20]) torch.Size([1280]) torch.Size([1380])\n",
      "torch.Size([62, 20]) torch.Size([64, 20]) torch.Size([1240]) torch.Size([1280])\n"
     ]
    },
    {
     "name": "stderr",
     "output_type": "stream",
     "text": [
      "  6%|▌         | 992/17847 [02:14<35:22,  7.94it/s]"
     ]
    },
    {
     "name": "stdout",
     "output_type": "stream",
     "text": [
      "torch.Size([33, 20]) torch.Size([75, 20]) torch.Size([660]) torch.Size([1500])\n",
      "torch.Size([68, 20]) torch.Size([73, 20]) torch.Size([1360]) torch.Size([1460])\n"
     ]
    },
    {
     "name": "stderr",
     "output_type": "stream",
     "text": [
      "  6%|▌         | 994/17847 [02:15<36:05,  7.78it/s]"
     ]
    },
    {
     "name": "stdout",
     "output_type": "stream",
     "text": [
      "torch.Size([75, 20]) torch.Size([71, 20]) torch.Size([1500]) torch.Size([1420])\n",
      "torch.Size([74, 20]) torch.Size([69, 20]) torch.Size([1480]) torch.Size([1380])\n"
     ]
    },
    {
     "name": "stderr",
     "output_type": "stream",
     "text": [
      "  6%|▌         | 996/17847 [02:15<38:39,  7.27it/s]"
     ]
    },
    {
     "name": "stdout",
     "output_type": "stream",
     "text": [
      "torch.Size([65, 20]) torch.Size([70, 20]) torch.Size([1300]) torch.Size([1400])\n",
      "torch.Size([68, 20]) torch.Size([76, 20]) torch.Size([1360]) torch.Size([1520])\n"
     ]
    },
    {
     "name": "stderr",
     "output_type": "stream",
     "text": [
      "  6%|▌         | 998/17847 [02:15<39:42,  7.07it/s]"
     ]
    },
    {
     "name": "stdout",
     "output_type": "stream",
     "text": [
      "torch.Size([69, 20]) torch.Size([73, 20]) torch.Size([1380]) torch.Size([1460])\n",
      "torch.Size([73, 20]) torch.Size([71, 20]) torch.Size([1460]) torch.Size([1420])\n"
     ]
    },
    {
     "name": "stderr",
     "output_type": "stream",
     "text": [
      "  6%|▌         | 1000/17847 [02:15<39:49,  7.05it/s]"
     ]
    },
    {
     "name": "stdout",
     "output_type": "stream",
     "text": [
      "torch.Size([75, 20]) torch.Size([54, 20]) torch.Size([1500]) torch.Size([1080])\n",
      "torch.Size([65, 20]) torch.Size([75, 20]) torch.Size([1300]) torch.Size([1500])\n"
     ]
    },
    {
     "name": "stderr",
     "output_type": "stream",
     "text": [
      "  6%|▌         | 1002/17847 [02:16<38:24,  7.31it/s]"
     ]
    },
    {
     "name": "stdout",
     "output_type": "stream",
     "text": [
      "torch.Size([61, 20]) torch.Size([70, 20]) torch.Size([1220]) torch.Size([1400])\n",
      "torch.Size([66, 20]) torch.Size([63, 20]) torch.Size([1320]) torch.Size([1260])\n"
     ]
    },
    {
     "name": "stderr",
     "output_type": "stream",
     "text": [
      "  6%|▌         | 1004/17847 [02:16<38:40,  7.26it/s]"
     ]
    },
    {
     "name": "stdout",
     "output_type": "stream",
     "text": [
      "torch.Size([76, 20]) torch.Size([63, 20]) torch.Size([1520]) torch.Size([1260])\n",
      "torch.Size([68, 20]) torch.Size([72, 20]) torch.Size([1360]) torch.Size([1440])\n"
     ]
    },
    {
     "name": "stderr",
     "output_type": "stream",
     "text": [
      "  6%|▌         | 1006/17847 [02:16<38:47,  7.24it/s]"
     ]
    },
    {
     "name": "stdout",
     "output_type": "stream",
     "text": [
      "torch.Size([64, 20]) torch.Size([64, 20]) torch.Size([1280]) torch.Size([1280])\n",
      "torch.Size([70, 20]) torch.Size([67, 20]) torch.Size([1400]) torch.Size([1340])\n"
     ]
    },
    {
     "name": "stderr",
     "output_type": "stream",
     "text": [
      "  6%|▌         | 1008/17847 [02:17<39:21,  7.13it/s]"
     ]
    },
    {
     "name": "stdout",
     "output_type": "stream",
     "text": [
      "torch.Size([62, 20]) torch.Size([70, 20]) torch.Size([1240]) torch.Size([1400])\n",
      "torch.Size([74, 20]) torch.Size([72, 20]) torch.Size([1480]) torch.Size([1440])\n"
     ]
    },
    {
     "name": "stderr",
     "output_type": "stream",
     "text": [
      "  6%|▌         | 1010/17847 [02:17<40:18,  6.96it/s]"
     ]
    },
    {
     "name": "stdout",
     "output_type": "stream",
     "text": [
      "torch.Size([66, 20]) torch.Size([73, 20]) torch.Size([1320]) torch.Size([1460])\n",
      "torch.Size([75, 20]) torch.Size([71, 20]) torch.Size([1500]) torch.Size([1420])\n"
     ]
    },
    {
     "name": "stderr",
     "output_type": "stream",
     "text": [
      "  6%|▌         | 1012/17847 [02:17<40:17,  6.97it/s]"
     ]
    },
    {
     "name": "stdout",
     "output_type": "stream",
     "text": [
      "torch.Size([62, 20]) torch.Size([63, 20]) torch.Size([1240]) torch.Size([1260])\n",
      "torch.Size([63, 20]) torch.Size([33, 20]) torch.Size([1260]) torch.Size([660])\n"
     ]
    },
    {
     "name": "stderr",
     "output_type": "stream",
     "text": [
      "  6%|▌         | 1015/17847 [02:17<33:43,  8.32it/s]"
     ]
    },
    {
     "name": "stdout",
     "output_type": "stream",
     "text": [
      "torch.Size([33, 20]) torch.Size([38, 20]) torch.Size([660]) torch.Size([760])\n",
      "torch.Size([76, 20]) torch.Size([67, 20]) torch.Size([1520]) torch.Size([1340])\n",
      "torch.Size([75, 20]) torch.Size([72, 20]) torch.Size([1500]) torch.Size([1440])\n"
     ]
    },
    {
     "name": "stderr",
     "output_type": "stream",
     "text": [
      "  6%|▌         | 1017/17847 [02:18<38:11,  7.35it/s]"
     ]
    },
    {
     "name": "stdout",
     "output_type": "stream",
     "text": [
      "torch.Size([70, 20]) torch.Size([70, 20]) torch.Size([1400]) torch.Size([1400])\n",
      "torch.Size([67, 20]) torch.Size([67, 20]) torch.Size([1340]) torch.Size([1340])\n"
     ]
    },
    {
     "name": "stderr",
     "output_type": "stream",
     "text": [
      "  6%|▌         | 1019/17847 [02:18<39:41,  7.07it/s]"
     ]
    },
    {
     "name": "stdout",
     "output_type": "stream",
     "text": [
      "torch.Size([76, 20]) torch.Size([69, 20]) torch.Size([1520]) torch.Size([1380])\n",
      "torch.Size([73, 20]) torch.Size([68, 20]) torch.Size([1460]) torch.Size([1360])\n"
     ]
    },
    {
     "name": "stderr",
     "output_type": "stream",
     "text": [
      "  6%|▌         | 1021/17847 [02:18<40:04,  7.00it/s]"
     ]
    },
    {
     "name": "stdout",
     "output_type": "stream",
     "text": [
      "torch.Size([66, 20]) torch.Size([66, 20]) torch.Size([1320]) torch.Size([1320])\n",
      "torch.Size([66, 20]) torch.Size([69, 20]) torch.Size([1320]) torch.Size([1380])\n"
     ]
    },
    {
     "name": "stderr",
     "output_type": "stream",
     "text": [
      "  6%|▌         | 1023/17847 [02:19<40:16,  6.96it/s]"
     ]
    },
    {
     "name": "stdout",
     "output_type": "stream",
     "text": [
      "torch.Size([72, 20]) torch.Size([68, 20]) torch.Size([1440]) torch.Size([1360])\n",
      "torch.Size([32, 20]) torch.Size([71, 20]) torch.Size([640]) torch.Size([1420])\n"
     ]
    },
    {
     "name": "stderr",
     "output_type": "stream",
     "text": [
      "  6%|▌         | 1025/17847 [02:19<35:25,  7.92it/s]"
     ]
    },
    {
     "name": "stdout",
     "output_type": "stream",
     "text": [
      "torch.Size([67, 20]) torch.Size([78, 20]) torch.Size([1340]) torch.Size([1560])\n",
      "torch.Size([70, 20]) torch.Size([71, 20]) torch.Size([1400]) torch.Size([1420])\n"
     ]
    },
    {
     "name": "stderr",
     "output_type": "stream",
     "text": [
      "  6%|▌         | 1027/17847 [02:19<38:34,  7.27it/s]"
     ]
    },
    {
     "name": "stdout",
     "output_type": "stream",
     "text": [
      "torch.Size([73, 20]) torch.Size([76, 20]) torch.Size([1460]) torch.Size([1520])\n",
      "torch.Size([74, 20]) torch.Size([77, 20]) torch.Size([1480]) torch.Size([1540])\n"
     ]
    },
    {
     "name": "stderr",
     "output_type": "stream",
     "text": [
      "  6%|▌         | 1029/17847 [02:19<40:53,  6.85it/s]"
     ]
    },
    {
     "name": "stdout",
     "output_type": "stream",
     "text": [
      "torch.Size([71, 20]) torch.Size([72, 20]) torch.Size([1420]) torch.Size([1440])\n",
      "torch.Size([67, 20]) torch.Size([64, 20]) torch.Size([1340]) torch.Size([1280])\n"
     ]
    },
    {
     "name": "stderr",
     "output_type": "stream",
     "text": [
      "  6%|▌         | 1031/17847 [02:20<40:18,  6.95it/s]"
     ]
    },
    {
     "name": "stdout",
     "output_type": "stream",
     "text": [
      "torch.Size([63, 20]) torch.Size([68, 20]) torch.Size([1260]) torch.Size([1360])\n",
      "torch.Size([70, 20]) torch.Size([63, 20]) torch.Size([1400]) torch.Size([1260])\n"
     ]
    },
    {
     "name": "stderr",
     "output_type": "stream",
     "text": [
      "  6%|▌         | 1033/17847 [02:20<36:35,  7.66it/s]"
     ]
    },
    {
     "name": "stdout",
     "output_type": "stream",
     "text": [
      "torch.Size([77, 20]) torch.Size([25, 20]) torch.Size([1540]) torch.Size([500])\n",
      "torch.Size([25, 20]) torch.Size([65, 20]) torch.Size([500]) torch.Size([1300])\n",
      "torch.Size([71, 20]) torch.Size([68, 20]) torch.Size([1420]) torch.Size([1360])\n"
     ]
    },
    {
     "name": "stderr",
     "output_type": "stream",
     "text": [
      "  6%|▌         | 1036/17847 [02:20<34:48,  8.05it/s]"
     ]
    },
    {
     "name": "stdout",
     "output_type": "stream",
     "text": [
      "torch.Size([67, 20]) torch.Size([70, 20]) torch.Size([1340]) torch.Size([1400])\n",
      "torch.Size([65, 20]) torch.Size([73, 20]) torch.Size([1300]) torch.Size([1460])\n"
     ]
    },
    {
     "name": "stderr",
     "output_type": "stream",
     "text": [
      "  6%|▌         | 1038/17847 [02:21<36:54,  7.59it/s]"
     ]
    },
    {
     "name": "stdout",
     "output_type": "stream",
     "text": [
      "torch.Size([62, 20]) torch.Size([66, 20]) torch.Size([1240]) torch.Size([1320])\n",
      "torch.Size([63, 20]) torch.Size([75, 20]) torch.Size([1260]) torch.Size([1500])\n"
     ]
    },
    {
     "name": "stderr",
     "output_type": "stream",
     "text": [
      "  6%|▌         | 1040/17847 [02:21<37:41,  7.43it/s]"
     ]
    },
    {
     "name": "stdout",
     "output_type": "stream",
     "text": [
      "torch.Size([66, 20]) torch.Size([69, 20]) torch.Size([1320]) torch.Size([1380])\n",
      "torch.Size([67, 20]) torch.Size([77, 20]) torch.Size([1340]) torch.Size([1540])\n"
     ]
    },
    {
     "name": "stderr",
     "output_type": "stream",
     "text": [
      "  6%|▌         | 1042/17847 [02:21<38:45,  7.23it/s]"
     ]
    },
    {
     "name": "stdout",
     "output_type": "stream",
     "text": [
      "torch.Size([69, 20]) torch.Size([61, 20]) torch.Size([1380]) torch.Size([1220])\n",
      "torch.Size([64, 20]) torch.Size([62, 20]) torch.Size([1280]) torch.Size([1240])\n"
     ]
    },
    {
     "name": "stderr",
     "output_type": "stream",
     "text": [
      "  6%|▌         | 1044/17847 [02:21<38:29,  7.27it/s]"
     ]
    },
    {
     "name": "stdout",
     "output_type": "stream",
     "text": [
      "torch.Size([74, 20]) torch.Size([68, 20]) torch.Size([1480]) torch.Size([1360])\n",
      "torch.Size([64, 20]) torch.Size([66, 20]) torch.Size([1280]) torch.Size([1320])\n"
     ]
    },
    {
     "name": "stderr",
     "output_type": "stream",
     "text": [
      "  6%|▌         | 1046/17847 [02:22<36:23,  7.69it/s]"
     ]
    },
    {
     "name": "stdout",
     "output_type": "stream",
     "text": [
      "torch.Size([32, 20]) torch.Size([62, 20]) torch.Size([640]) torch.Size([1240])\n",
      "torch.Size([75, 20]) torch.Size([73, 20]) torch.Size([1500]) torch.Size([1460])\n"
     ]
    },
    {
     "name": "stderr",
     "output_type": "stream",
     "text": [
      "  6%|▌         | 1048/17847 [02:22<36:23,  7.69it/s]"
     ]
    },
    {
     "name": "stdout",
     "output_type": "stream",
     "text": [
      "torch.Size([65, 20]) torch.Size([76, 20]) torch.Size([1300]) torch.Size([1520])\n",
      "torch.Size([76, 20]) torch.Size([67, 20]) torch.Size([1520]) torch.Size([1340])\n"
     ]
    },
    {
     "name": "stderr",
     "output_type": "stream",
     "text": [
      "  6%|▌         | 1050/17847 [02:22<38:40,  7.24it/s]"
     ]
    },
    {
     "name": "stdout",
     "output_type": "stream",
     "text": [
      "torch.Size([69, 20]) torch.Size([70, 20]) torch.Size([1380]) torch.Size([1400])\n",
      "torch.Size([67, 20]) torch.Size([34, 20]) torch.Size([1340]) torch.Size([680])\n"
     ]
    },
    {
     "name": "stderr",
     "output_type": "stream",
     "text": [
      "  6%|▌         | 1052/17847 [02:22<35:27,  7.89it/s]"
     ]
    },
    {
     "name": "stdout",
     "output_type": "stream",
     "text": [
      "torch.Size([81, 20]) torch.Size([75, 20]) torch.Size([1620]) torch.Size([1500])\n",
      "torch.Size([81, 20]) torch.Size([73, 20]) torch.Size([1620]) torch.Size([1460])\n"
     ]
    },
    {
     "name": "stderr",
     "output_type": "stream",
     "text": [
      "  6%|▌         | 1054/17847 [02:23<38:46,  7.22it/s]"
     ]
    },
    {
     "name": "stdout",
     "output_type": "stream",
     "text": [
      "torch.Size([70, 20]) torch.Size([60, 20]) torch.Size([1400]) torch.Size([1200])\n",
      "torch.Size([64, 20]) torch.Size([71, 20]) torch.Size([1280]) torch.Size([1420])\n"
     ]
    },
    {
     "name": "stderr",
     "output_type": "stream",
     "text": [
      "  6%|▌         | 1056/17847 [02:23<36:17,  7.71it/s]"
     ]
    },
    {
     "name": "stdout",
     "output_type": "stream",
     "text": [
      "torch.Size([36, 20]) torch.Size([67, 20]) torch.Size([720]) torch.Size([1340])\n",
      "torch.Size([67, 20]) torch.Size([72, 20]) torch.Size([1340]) torch.Size([1440])\n"
     ]
    },
    {
     "name": "stderr",
     "output_type": "stream",
     "text": [
      "  6%|▌         | 1058/17847 [02:23<36:09,  7.74it/s]"
     ]
    },
    {
     "name": "stdout",
     "output_type": "stream",
     "text": [
      "torch.Size([65, 20]) torch.Size([75, 20]) torch.Size([1300]) torch.Size([1500])\n",
      "torch.Size([76, 20]) torch.Size([64, 20]) torch.Size([1520]) torch.Size([1280])\n"
     ]
    },
    {
     "name": "stderr",
     "output_type": "stream",
     "text": [
      "  6%|▌         | 1060/17847 [02:23<38:21,  7.29it/s]"
     ]
    },
    {
     "name": "stdout",
     "output_type": "stream",
     "text": [
      "torch.Size([74, 20]) torch.Size([71, 20]) torch.Size([1480]) torch.Size([1420])\n",
      "torch.Size([68, 20]) torch.Size([66, 20]) torch.Size([1360]) torch.Size([1320])\n"
     ]
    },
    {
     "name": "stderr",
     "output_type": "stream",
     "text": [
      "  6%|▌         | 1062/17847 [02:24<39:03,  7.16it/s]"
     ]
    },
    {
     "name": "stdout",
     "output_type": "stream",
     "text": [
      "torch.Size([67, 20]) torch.Size([82, 20]) torch.Size([1340]) torch.Size([1640])\n",
      "torch.Size([70, 20]) torch.Size([73, 20]) torch.Size([1400]) torch.Size([1460])\n"
     ]
    },
    {
     "name": "stderr",
     "output_type": "stream",
     "text": [
      "  6%|▌         | 1064/17847 [02:24<40:03,  6.98it/s]"
     ]
    },
    {
     "name": "stdout",
     "output_type": "stream",
     "text": [
      "torch.Size([69, 20]) torch.Size([72, 20]) torch.Size([1380]) torch.Size([1440])\n",
      "torch.Size([74, 20]) torch.Size([38, 20]) torch.Size([1480]) torch.Size([760])\n"
     ]
    },
    {
     "name": "stderr",
     "output_type": "stream",
     "text": [
      "  6%|▌         | 1066/17847 [02:24<35:53,  7.79it/s]"
     ]
    },
    {
     "name": "stdout",
     "output_type": "stream",
     "text": [
      "torch.Size([66, 20]) torch.Size([67, 20]) torch.Size([1320]) torch.Size([1340])\n",
      "torch.Size([57, 20]) torch.Size([72, 20]) torch.Size([1140]) torch.Size([1440])\n"
     ]
    },
    {
     "name": "stderr",
     "output_type": "stream",
     "text": [
      "  6%|▌         | 1068/17847 [02:25<36:32,  7.65it/s]"
     ]
    },
    {
     "name": "stdout",
     "output_type": "stream",
     "text": [
      "torch.Size([68, 20]) torch.Size([75, 20]) torch.Size([1360]) torch.Size([1500])\n",
      "torch.Size([37, 20]) torch.Size([56, 20]) torch.Size([740]) torch.Size([1120])\n"
     ]
    },
    {
     "name": "stderr",
     "output_type": "stream",
     "text": [
      "  6%|▌         | 1071/17847 [02:25<33:17,  8.40it/s]"
     ]
    },
    {
     "name": "stdout",
     "output_type": "stream",
     "text": [
      "torch.Size([42, 20]) torch.Size([64, 20]) torch.Size([840]) torch.Size([1280])\n",
      "torch.Size([68, 20]) torch.Size([66, 20]) torch.Size([1360]) torch.Size([1320])\n"
     ]
    },
    {
     "name": "stderr",
     "output_type": "stream",
     "text": [
      "\r",
      "  6%|▌         | 1072/17847 [02:25<35:21,  7.91it/s]"
     ]
    },
    {
     "name": "stdout",
     "output_type": "stream",
     "text": [
      "torch.Size([72, 20]) torch.Size([65, 20]) torch.Size([1440]) torch.Size([1300])\n",
      "torch.Size([72, 20]) torch.Size([70, 20]) torch.Size([1440]) torch.Size([1400])\n"
     ]
    },
    {
     "name": "stderr",
     "output_type": "stream",
     "text": [
      "  6%|▌         | 1074/17847 [02:25<38:41,  7.22it/s]"
     ]
    },
    {
     "name": "stdout",
     "output_type": "stream",
     "text": [
      "torch.Size([75, 20]) torch.Size([76, 20]) torch.Size([1500]) torch.Size([1520])\n",
      "torch.Size([77, 20]) torch.Size([57, 20]) torch.Size([1540]) torch.Size([1140])\n"
     ]
    },
    {
     "name": "stderr",
     "output_type": "stream",
     "text": [
      "  6%|▌         | 1076/17847 [02:26<38:33,  7.25it/s]"
     ]
    },
    {
     "name": "stdout",
     "output_type": "stream",
     "text": [
      "torch.Size([68, 20]) torch.Size([76, 20]) torch.Size([1360]) torch.Size([1520])\n",
      "torch.Size([67, 20]) torch.Size([69, 20]) torch.Size([1340]) torch.Size([1380])\n"
     ]
    },
    {
     "name": "stderr",
     "output_type": "stream",
     "text": [
      "  6%|▌         | 1078/17847 [02:26<39:46,  7.03it/s]"
     ]
    },
    {
     "name": "stdout",
     "output_type": "stream",
     "text": [
      "torch.Size([66, 20]) torch.Size([77, 20]) torch.Size([1320]) torch.Size([1540])\n",
      "torch.Size([71, 20]) torch.Size([77, 20]) torch.Size([1420]) torch.Size([1540])\n"
     ]
    },
    {
     "name": "stderr",
     "output_type": "stream",
     "text": [
      "  6%|▌         | 1080/17847 [02:26<41:11,  6.78it/s]"
     ]
    },
    {
     "name": "stdout",
     "output_type": "stream",
     "text": [
      "torch.Size([73, 20]) torch.Size([81, 20]) torch.Size([1460]) torch.Size([1620])\n",
      "torch.Size([71, 20]) torch.Size([81, 20]) torch.Size([1420]) torch.Size([1620])\n"
     ]
    },
    {
     "name": "stderr",
     "output_type": "stream",
     "text": [
      "  6%|▌         | 1082/17847 [02:26<41:51,  6.67it/s]"
     ]
    },
    {
     "name": "stdout",
     "output_type": "stream",
     "text": [
      "torch.Size([71, 20]) torch.Size([67, 20]) torch.Size([1420]) torch.Size([1340])\n",
      "torch.Size([69, 20]) torch.Size([73, 20]) torch.Size([1380]) torch.Size([1460])\n"
     ]
    },
    {
     "name": "stderr",
     "output_type": "stream",
     "text": [
      "  6%|▌         | 1084/17847 [02:27<41:08,  6.79it/s]"
     ]
    },
    {
     "name": "stdout",
     "output_type": "stream",
     "text": [
      "torch.Size([67, 20]) torch.Size([72, 20]) torch.Size([1340]) torch.Size([1440])\n",
      "torch.Size([67, 20]) torch.Size([71, 20]) torch.Size([1340]) torch.Size([1420])\n"
     ]
    },
    {
     "name": "stderr",
     "output_type": "stream",
     "text": [
      "  6%|▌         | 1086/17847 [02:27<39:43,  7.03it/s]"
     ]
    },
    {
     "name": "stdout",
     "output_type": "stream",
     "text": [
      "torch.Size([64, 20]) torch.Size([77, 20]) torch.Size([1280]) torch.Size([1540])\n",
      "torch.Size([59, 20]) torch.Size([76, 20]) torch.Size([1180]) torch.Size([1520])\n"
     ]
    },
    {
     "name": "stderr",
     "output_type": "stream",
     "text": [
      "  6%|▌         | 1088/17847 [02:27<37:51,  7.38it/s]"
     ]
    },
    {
     "name": "stdout",
     "output_type": "stream",
     "text": [
      "torch.Size([69, 20]) torch.Size([63, 20]) torch.Size([1380]) torch.Size([1260])\n",
      "torch.Size([75, 20]) torch.Size([70, 20]) torch.Size([1500]) torch.Size([1400])\n"
     ]
    },
    {
     "name": "stderr",
     "output_type": "stream",
     "text": [
      "  6%|▌         | 1090/17847 [02:28<39:15,  7.11it/s]"
     ]
    },
    {
     "name": "stdout",
     "output_type": "stream",
     "text": [
      "torch.Size([65, 20]) torch.Size([66, 20]) torch.Size([1300]) torch.Size([1320])\n",
      "torch.Size([73, 20]) torch.Size([68, 20]) torch.Size([1460]) torch.Size([1360])\n"
     ]
    },
    {
     "name": "stderr",
     "output_type": "stream",
     "text": [
      "  6%|▌         | 1092/17847 [02:28<39:47,  7.02it/s]"
     ]
    },
    {
     "name": "stdout",
     "output_type": "stream",
     "text": [
      "torch.Size([75, 20]) torch.Size([66, 20]) torch.Size([1500]) torch.Size([1320])\n",
      "torch.Size([72, 20]) torch.Size([70, 20]) torch.Size([1440]) torch.Size([1400])\n"
     ]
    },
    {
     "name": "stderr",
     "output_type": "stream",
     "text": [
      "  6%|▌         | 1094/17847 [02:28<40:13,  6.94it/s]"
     ]
    },
    {
     "name": "stdout",
     "output_type": "stream",
     "text": [
      "torch.Size([63, 20]) torch.Size([87, 20]) torch.Size([1260]) torch.Size([1740])\n",
      "torch.Size([73, 20]) torch.Size([75, 20]) torch.Size([1460]) torch.Size([1500])\n"
     ]
    },
    {
     "name": "stderr",
     "output_type": "stream",
     "text": [
      "  6%|▌         | 1096/17847 [02:28<40:32,  6.89it/s]"
     ]
    },
    {
     "name": "stdout",
     "output_type": "stream",
     "text": [
      "torch.Size([65, 20]) torch.Size([76, 20]) torch.Size([1300]) torch.Size([1520])\n",
      "torch.Size([62, 20]) torch.Size([64, 20]) torch.Size([1240]) torch.Size([1280])\n"
     ]
    },
    {
     "name": "stderr",
     "output_type": "stream",
     "text": [
      "  6%|▌         | 1098/17847 [02:29<39:30,  7.06it/s]"
     ]
    },
    {
     "name": "stdout",
     "output_type": "stream",
     "text": [
      "torch.Size([73, 20]) torch.Size([63, 20]) torch.Size([1460]) torch.Size([1260])\n",
      "torch.Size([64, 20]) torch.Size([65, 20]) torch.Size([1280]) torch.Size([1300])\n"
     ]
    },
    {
     "name": "stderr",
     "output_type": "stream",
     "text": [
      "  6%|▌         | 1100/17847 [02:29<39:32,  7.06it/s]"
     ]
    },
    {
     "name": "stdout",
     "output_type": "stream",
     "text": [
      "torch.Size([70, 20]) torch.Size([68, 20]) torch.Size([1400]) torch.Size([1360])\n",
      "torch.Size([77, 20]) torch.Size([72, 20]) torch.Size([1540]) torch.Size([1440])\n"
     ]
    },
    {
     "name": "stderr",
     "output_type": "stream",
     "text": [
      "  6%|▌         | 1102/17847 [02:29<38:18,  7.29it/s]"
     ]
    },
    {
     "name": "stdout",
     "output_type": "stream",
     "text": [
      "torch.Size([41, 20]) torch.Size([71, 20]) torch.Size([820]) torch.Size([1420])\n",
      "torch.Size([69, 20]) torch.Size([65, 20]) torch.Size([1380]) torch.Size([1300])\n"
     ]
    },
    {
     "name": "stderr",
     "output_type": "stream",
     "text": [
      "  6%|▌         | 1104/17847 [02:30<37:43,  7.40it/s]"
     ]
    },
    {
     "name": "stdout",
     "output_type": "stream",
     "text": [
      "torch.Size([67, 20]) torch.Size([67, 20]) torch.Size([1340]) torch.Size([1340])\n",
      "torch.Size([62, 20]) torch.Size([69, 20]) torch.Size([1240]) torch.Size([1380])\n"
     ]
    },
    {
     "name": "stderr",
     "output_type": "stream",
     "text": [
      "  6%|▌         | 1106/17847 [02:30<38:35,  7.23it/s]"
     ]
    },
    {
     "name": "stdout",
     "output_type": "stream",
     "text": [
      "torch.Size([74, 20]) torch.Size([69, 20]) torch.Size([1480]) torch.Size([1380])\n",
      "torch.Size([79, 20]) torch.Size([66, 20]) torch.Size([1580]) torch.Size([1320])\n"
     ]
    },
    {
     "name": "stderr",
     "output_type": "stream",
     "text": [
      "  6%|▌         | 1108/17847 [02:30<39:54,  6.99it/s]"
     ]
    },
    {
     "name": "stdout",
     "output_type": "stream",
     "text": [
      "torch.Size([75, 20]) torch.Size([72, 20]) torch.Size([1500]) torch.Size([1440])\n",
      "torch.Size([72, 20]) torch.Size([67, 20]) torch.Size([1440]) torch.Size([1340])\n"
     ]
    },
    {
     "name": "stderr",
     "output_type": "stream",
     "text": [
      "  6%|▌         | 1110/17847 [02:30<40:10,  6.94it/s]"
     ]
    },
    {
     "name": "stdout",
     "output_type": "stream",
     "text": [
      "torch.Size([67, 20]) torch.Size([74, 20]) torch.Size([1340]) torch.Size([1480])\n",
      "torch.Size([81, 20]) torch.Size([71, 20]) torch.Size([1620]) torch.Size([1420])\n"
     ]
    },
    {
     "name": "stderr",
     "output_type": "stream",
     "text": [
      "  6%|▌         | 1112/17847 [02:31<41:02,  6.79it/s]"
     ]
    },
    {
     "name": "stdout",
     "output_type": "stream",
     "text": [
      "torch.Size([77, 20]) torch.Size([67, 20]) torch.Size([1540]) torch.Size([1340])\n",
      "torch.Size([78, 20]) torch.Size([57, 20]) torch.Size([1560]) torch.Size([1140])\n"
     ]
    },
    {
     "name": "stderr",
     "output_type": "stream",
     "text": [
      "  6%|▌         | 1114/17847 [02:31<39:28,  7.07it/s]"
     ]
    },
    {
     "name": "stdout",
     "output_type": "stream",
     "text": [
      "torch.Size([68, 20]) torch.Size([72, 20]) torch.Size([1360]) torch.Size([1440])\n",
      "torch.Size([69, 20]) torch.Size([67, 20]) torch.Size([1380]) torch.Size([1340])\n"
     ]
    },
    {
     "name": "stderr",
     "output_type": "stream",
     "text": [
      "  6%|▋         | 1116/17847 [02:31<39:30,  7.06it/s]"
     ]
    },
    {
     "name": "stdout",
     "output_type": "stream",
     "text": [
      "torch.Size([73, 20]) torch.Size([68, 20]) torch.Size([1460]) torch.Size([1360])\n",
      "torch.Size([70, 20]) torch.Size([34, 20]) torch.Size([1400]) torch.Size([680])\n"
     ]
    },
    {
     "name": "stderr",
     "output_type": "stream",
     "text": [
      "  6%|▋         | 1118/17847 [02:32<35:19,  7.89it/s]"
     ]
    },
    {
     "name": "stdout",
     "output_type": "stream",
     "text": [
      "torch.Size([70, 20]) torch.Size([69, 20]) torch.Size([1400]) torch.Size([1380])\n",
      "torch.Size([73, 20]) torch.Size([76, 20]) torch.Size([1460]) torch.Size([1520])\n"
     ]
    },
    {
     "name": "stderr",
     "output_type": "stream",
     "text": [
      "  6%|▋         | 1120/17847 [02:32<38:48,  7.18it/s]"
     ]
    },
    {
     "name": "stdout",
     "output_type": "stream",
     "text": [
      "torch.Size([73, 20]) torch.Size([67, 20]) torch.Size([1460]) torch.Size([1340])\n",
      "torch.Size([67, 20]) torch.Size([68, 20]) torch.Size([1340]) torch.Size([1360])\n"
     ]
    },
    {
     "name": "stderr",
     "output_type": "stream",
     "text": [
      "  6%|▋         | 1122/17847 [02:32<39:13,  7.11it/s]"
     ]
    },
    {
     "name": "stdout",
     "output_type": "stream",
     "text": [
      "torch.Size([65, 20]) torch.Size([64, 20]) torch.Size([1300]) torch.Size([1280])\n",
      "torch.Size([63, 20]) torch.Size([82, 20]) torch.Size([1260]) torch.Size([1640])\n"
     ]
    },
    {
     "name": "stderr",
     "output_type": "stream",
     "text": [
      "  6%|▋         | 1124/17847 [02:32<39:14,  7.10it/s]"
     ]
    },
    {
     "name": "stdout",
     "output_type": "stream",
     "text": [
      "torch.Size([74, 20]) torch.Size([70, 20]) torch.Size([1480]) torch.Size([1400])\n",
      "torch.Size([74, 20]) torch.Size([63, 20]) torch.Size([1480]) torch.Size([1260])\n"
     ]
    },
    {
     "name": "stderr",
     "output_type": "stream",
     "text": [
      "  6%|▋         | 1126/17847 [02:33<39:26,  7.06it/s]"
     ]
    },
    {
     "name": "stdout",
     "output_type": "stream",
     "text": [
      "torch.Size([74, 20]) torch.Size([70, 20]) torch.Size([1480]) torch.Size([1400])\n",
      "torch.Size([64, 20]) torch.Size([63, 20]) torch.Size([1280]) torch.Size([1260])\n"
     ]
    },
    {
     "name": "stderr",
     "output_type": "stream",
     "text": [
      "  6%|▋         | 1128/17847 [02:33<40:17,  6.92it/s]"
     ]
    },
    {
     "name": "stdout",
     "output_type": "stream",
     "text": [
      "torch.Size([76, 20]) torch.Size([75, 20]) torch.Size([1520]) torch.Size([1500])\n",
      "torch.Size([67, 20]) torch.Size([62, 20]) torch.Size([1340]) torch.Size([1240])\n"
     ]
    },
    {
     "name": "stderr",
     "output_type": "stream",
     "text": [
      "  6%|▋         | 1130/17847 [02:33<40:04,  6.95it/s]"
     ]
    },
    {
     "name": "stdout",
     "output_type": "stream",
     "text": [
      "torch.Size([71, 20]) torch.Size([66, 20]) torch.Size([1420]) torch.Size([1320])\n",
      "torch.Size([69, 20]) torch.Size([72, 20]) torch.Size([1380]) torch.Size([1440])\n"
     ]
    },
    {
     "name": "stderr",
     "output_type": "stream",
     "text": [
      "  6%|▋         | 1132/17847 [02:34<40:14,  6.92it/s]"
     ]
    },
    {
     "name": "stdout",
     "output_type": "stream",
     "text": [
      "torch.Size([68, 20]) torch.Size([66, 20]) torch.Size([1360]) torch.Size([1320])\n",
      "torch.Size([73, 20]) torch.Size([76, 20]) torch.Size([1460]) torch.Size([1520])\n"
     ]
    },
    {
     "name": "stderr",
     "output_type": "stream",
     "text": [
      "  6%|▋         | 1134/17847 [02:34<40:43,  6.84it/s]"
     ]
    },
    {
     "name": "stdout",
     "output_type": "stream",
     "text": [
      "torch.Size([72, 20]) torch.Size([71, 20]) torch.Size([1440]) torch.Size([1420])\n",
      "torch.Size([65, 20]) torch.Size([74, 20]) torch.Size([1300]) torch.Size([1480])\n"
     ]
    },
    {
     "name": "stderr",
     "output_type": "stream",
     "text": [
      "  6%|▋         | 1136/17847 [02:34<40:35,  6.86it/s]"
     ]
    },
    {
     "name": "stdout",
     "output_type": "stream",
     "text": [
      "torch.Size([68, 20]) torch.Size([67, 20]) torch.Size([1360]) torch.Size([1340])\n",
      "torch.Size([66, 20]) torch.Size([62, 20]) torch.Size([1320]) torch.Size([1240])\n"
     ]
    },
    {
     "name": "stderr",
     "output_type": "stream",
     "text": [
      "  6%|▋         | 1138/17847 [02:34<39:57,  6.97it/s]"
     ]
    },
    {
     "name": "stdout",
     "output_type": "stream",
     "text": [
      "torch.Size([66, 20]) torch.Size([70, 20]) torch.Size([1320]) torch.Size([1400])\n",
      "torch.Size([75, 20]) torch.Size([65, 20]) torch.Size([1500]) torch.Size([1300])\n"
     ]
    },
    {
     "name": "stderr",
     "output_type": "stream",
     "text": [
      "  6%|▋         | 1140/17847 [02:35<39:25,  7.06it/s]"
     ]
    },
    {
     "name": "stdout",
     "output_type": "stream",
     "text": [
      "torch.Size([65, 20]) torch.Size([71, 20]) torch.Size([1300]) torch.Size([1420])\n",
      "torch.Size([66, 20]) torch.Size([74, 20]) torch.Size([1320]) torch.Size([1480])\n"
     ]
    },
    {
     "name": "stderr",
     "output_type": "stream",
     "text": [
      "  6%|▋         | 1142/17847 [02:35<40:31,  6.87it/s]"
     ]
    },
    {
     "name": "stdout",
     "output_type": "stream",
     "text": [
      "torch.Size([75, 20]) torch.Size([74, 20]) torch.Size([1500]) torch.Size([1480])\n",
      "torch.Size([76, 20]) torch.Size([73, 20]) torch.Size([1520]) torch.Size([1460])\n"
     ]
    },
    {
     "name": "stderr",
     "output_type": "stream",
     "text": [
      "  6%|▋         | 1144/17847 [02:35<41:31,  6.70it/s]"
     ]
    },
    {
     "name": "stdout",
     "output_type": "stream",
     "text": [
      "torch.Size([69, 20]) torch.Size([67, 20]) torch.Size([1380]) torch.Size([1340])\n",
      "torch.Size([68, 20]) torch.Size([63, 20]) torch.Size([1360]) torch.Size([1260])\n"
     ]
    },
    {
     "name": "stderr",
     "output_type": "stream",
     "text": [
      "  6%|▋         | 1146/17847 [02:36<40:19,  6.90it/s]"
     ]
    },
    {
     "name": "stdout",
     "output_type": "stream",
     "text": [
      "torch.Size([79, 20]) torch.Size([73, 20]) torch.Size([1580]) torch.Size([1460])\n",
      "torch.Size([72, 20]) torch.Size([70, 20]) torch.Size([1440]) torch.Size([1400])\n"
     ]
    },
    {
     "name": "stderr",
     "output_type": "stream",
     "text": [
      "  6%|▋         | 1148/17847 [02:36<39:15,  7.09it/s]"
     ]
    },
    {
     "name": "stdout",
     "output_type": "stream",
     "text": [
      "torch.Size([64, 20]) torch.Size([38, 20]) torch.Size([1280]) torch.Size([760])\n",
      "torch.Size([67, 20]) torch.Size([65, 20]) torch.Size([1340]) torch.Size([1300])\n"
     ]
    },
    {
     "name": "stderr",
     "output_type": "stream",
     "text": [
      "  6%|▋         | 1150/17847 [02:36<37:24,  7.44it/s]"
     ]
    },
    {
     "name": "stdout",
     "output_type": "stream",
     "text": [
      "torch.Size([69, 20]) torch.Size([66, 20]) torch.Size([1380]) torch.Size([1320])\n",
      "torch.Size([67, 20]) torch.Size([65, 20]) torch.Size([1340]) torch.Size([1300])\n"
     ]
    },
    {
     "name": "stderr",
     "output_type": "stream",
     "text": [
      "  6%|▋         | 1152/17847 [02:36<38:43,  7.19it/s]"
     ]
    },
    {
     "name": "stdout",
     "output_type": "stream",
     "text": [
      "torch.Size([69, 20]) torch.Size([68, 20]) torch.Size([1380]) torch.Size([1360])\n",
      "torch.Size([68, 20]) torch.Size([82, 20]) torch.Size([1360]) torch.Size([1640])\n"
     ]
    },
    {
     "name": "stderr",
     "output_type": "stream",
     "text": [
      "  6%|▋         | 1154/17847 [02:37<40:08,  6.93it/s]"
     ]
    },
    {
     "name": "stdout",
     "output_type": "stream",
     "text": [
      "torch.Size([71, 20]) torch.Size([74, 20]) torch.Size([1420]) torch.Size([1480])\n",
      "torch.Size([66, 20]) torch.Size([75, 20]) torch.Size([1320]) torch.Size([1500])\n"
     ]
    },
    {
     "name": "stderr",
     "output_type": "stream",
     "text": [
      "  6%|▋         | 1156/17847 [02:37<40:07,  6.93it/s]"
     ]
    },
    {
     "name": "stdout",
     "output_type": "stream",
     "text": [
      "torch.Size([69, 20]) torch.Size([68, 20]) torch.Size([1380]) torch.Size([1360])\n",
      "torch.Size([73, 20]) torch.Size([70, 20]) torch.Size([1460]) torch.Size([1400])\n"
     ]
    },
    {
     "name": "stderr",
     "output_type": "stream",
     "text": [
      "  6%|▋         | 1158/17847 [02:37<40:20,  6.89it/s]"
     ]
    },
    {
     "name": "stdout",
     "output_type": "stream",
     "text": [
      "torch.Size([65, 20]) torch.Size([69, 20]) torch.Size([1300]) torch.Size([1380])\n",
      "torch.Size([67, 20]) torch.Size([77, 20]) torch.Size([1340]) torch.Size([1540])\n"
     ]
    },
    {
     "name": "stderr",
     "output_type": "stream",
     "text": [
      "  6%|▋         | 1160/17847 [02:38<40:33,  6.86it/s]"
     ]
    },
    {
     "name": "stdout",
     "output_type": "stream",
     "text": [
      "torch.Size([75, 20]) torch.Size([77, 20]) torch.Size([1500]) torch.Size([1540])\n",
      "torch.Size([73, 20]) torch.Size([74, 20]) torch.Size([1460]) torch.Size([1480])\n"
     ]
    },
    {
     "name": "stderr",
     "output_type": "stream",
     "text": [
      "  7%|▋         | 1162/17847 [02:38<41:51,  6.64it/s]"
     ]
    },
    {
     "name": "stdout",
     "output_type": "stream",
     "text": [
      "torch.Size([65, 20]) torch.Size([76, 20]) torch.Size([1300]) torch.Size([1520])\n",
      "torch.Size([68, 20]) torch.Size([68, 20]) torch.Size([1360]) torch.Size([1360])\n"
     ]
    },
    {
     "name": "stderr",
     "output_type": "stream",
     "text": [
      "  7%|▋         | 1164/17847 [02:38<40:24,  6.88it/s]"
     ]
    },
    {
     "name": "stdout",
     "output_type": "stream",
     "text": [
      "torch.Size([61, 20]) torch.Size([59, 20]) torch.Size([1220]) torch.Size([1180])\n",
      "torch.Size([65, 20]) torch.Size([69, 20]) torch.Size([1300]) torch.Size([1380])\n"
     ]
    },
    {
     "name": "stderr",
     "output_type": "stream",
     "text": [
      "  7%|▋         | 1166/17847 [02:38<38:54,  7.15it/s]"
     ]
    },
    {
     "name": "stdout",
     "output_type": "stream",
     "text": [
      "torch.Size([79, 20]) torch.Size([66, 20]) torch.Size([1580]) torch.Size([1320])\n",
      "torch.Size([69, 20]) torch.Size([70, 20]) torch.Size([1380]) torch.Size([1400])\n"
     ]
    },
    {
     "name": "stderr",
     "output_type": "stream",
     "text": [
      "  7%|▋         | 1168/17847 [02:39<40:09,  6.92it/s]"
     ]
    },
    {
     "name": "stdout",
     "output_type": "stream",
     "text": [
      "torch.Size([75, 20]) torch.Size([78, 20]) torch.Size([1500]) torch.Size([1560])\n",
      "torch.Size([74, 20]) torch.Size([73, 20]) torch.Size([1480]) torch.Size([1460])\n"
     ]
    },
    {
     "name": "stderr",
     "output_type": "stream",
     "text": [
      "  7%|▋         | 1170/17847 [02:39<38:45,  7.17it/s]"
     ]
    },
    {
     "name": "stdout",
     "output_type": "stream",
     "text": [
      "torch.Size([67, 20]) torch.Size([29, 20]) torch.Size([1340]) torch.Size([580])\n",
      "torch.Size([72, 20]) torch.Size([37, 20]) torch.Size([1440]) torch.Size([740])\n",
      "torch.Size([64, 20]) torch.Size([70, 20]) torch.Size([1280]) torch.Size([1400])\n"
     ]
    },
    {
     "name": "stderr",
     "output_type": "stream",
     "text": [
      "  7%|▋         | 1173/17847 [02:39<36:10,  7.68it/s]"
     ]
    },
    {
     "name": "stdout",
     "output_type": "stream",
     "text": [
      "torch.Size([74, 20]) torch.Size([66, 20]) torch.Size([1480]) torch.Size([1320])\n",
      "torch.Size([72, 20]) torch.Size([65, 20]) torch.Size([1440]) torch.Size([1300])\n"
     ]
    },
    {
     "name": "stderr",
     "output_type": "stream",
     "text": [
      "  7%|▋         | 1175/17847 [02:40<37:58,  7.32it/s]"
     ]
    },
    {
     "name": "stdout",
     "output_type": "stream",
     "text": [
      "torch.Size([75, 20]) torch.Size([72, 20]) torch.Size([1500]) torch.Size([1440])\n",
      "torch.Size([66, 20]) torch.Size([31, 20]) torch.Size([1320]) torch.Size([620])\n"
     ]
    },
    {
     "name": "stderr",
     "output_type": "stream",
     "text": [
      "  7%|▋         | 1177/17847 [02:40<33:58,  8.18it/s]"
     ]
    },
    {
     "name": "stdout",
     "output_type": "stream",
     "text": [
      "torch.Size([62, 20]) torch.Size([78, 20]) torch.Size([1240]) torch.Size([1560])\n",
      "torch.Size([68, 20]) torch.Size([68, 20]) torch.Size([1360]) torch.Size([1360])\n"
     ]
    }
   ],
   "source": [
    "# print(\"Time taken to get everything so far done\")\n",
    "traces_start = generic_loop(**args)\n",
    "\n",
    "# Now unfreeze all layers and apply discr\n",
    "for grp in opt.param_groups:\n",
    "    grp['lr'] = params.lr.init\n",
    "\n",
    "lr_dscr = lambda opt, lr, fctr=params.lr.dscr: [lr / (fctr ** i) for i in range(len(opt.param_groups))[::-1]]\n",
    "update_lr(opt, lr_dscr(opt, params.lr.init))\n",
    "\n",
    "if DEBUG:\n",
    "    print([x['lr'] for x in opt.param_groups])\n",
    "\n",
    "lr_args = {'iterations': len(data_fn(data_a=data_wiki['train'], data_b=data_imdb['train'])) * 15,\n",
    "           'cut_frac': params.lr.sltr_cutfrac, 'ratio': params.lr.sltr_ratio}\n",
    "lr_schedule = mtlr.LearningRateScheduler(optimizer=opt, lr_args=lr_args, lr_iterator=mtlr.SlantedTriangularLR)\n",
    "args['lr_schedule'] = lr_schedule\n",
    "args['epochs'] = 15\n",
    "\n",
    "traces_main = generic_loop(**args)\n",
    "traces = [a + b for a, b in zip(traces_start, traces_main)]"
   ]
  },
  {
   "cell_type": "markdown",
   "metadata": {},
   "source": [
    "# Plotting"
   ]
  },
  {
   "cell_type": "code",
   "execution_count": null,
   "metadata": {
    "code_folding": []
   },
   "outputs": [],
   "source": [
    "from matplotlib import pyplot as plt\n",
    "%pylab inline\n",
    "pylab.rcParams['figure.figsize'] = (16, 8)\n",
    "\n",
    "def plot_accs(tra, vla, axa):\n",
    "    \n",
    "    fig = plt.figure()\n",
    "#     ax = fig.add_axes((0.1, 0.2, 0.8, 0.7))\n",
    "#     ax.spines['right'].set_color('none')\n",
    "#     ax.spines['top'].set_color('none')\n",
    "#     plt.xticks([])\n",
    "#     plt.yticks([])\n",
    "    plt.plot(tra, label=f\"Train Acc\", linewidth=3)\n",
    "    plt.plot(vla, label=f\"Valid Acc\", linewidth=3)\n",
    "    plt.plot(axa, label=f\"DAdNN Acc\", linewidth=3)\n",
    "    plt.show()\n",
    "    \n",
    "    \n",
    "def plot(trcs):\n",
    "    layers = len(trcs[0])\n",
    "    for l in range(layers):\n",
    "        plt.plot(trcs[:,l], label=f\"layer {l}\")\n",
    "    plt.show()"
   ]
  },
  {
   "cell_type": "code",
   "execution_count": null,
   "metadata": {
    "scrolled": false
   },
   "outputs": [],
   "source": [
    "plot_accs(traces[0], traces[1], traces[3])"
   ]
  },
  {
   "cell_type": "code",
   "execution_count": null,
   "metadata": {},
   "outputs": [],
   "source": [
    "plot(np.asarray(traces[-1][100:]))"
   ]
  },
  {
   "cell_type": "markdown",
   "metadata": {},
   "source": [
    "# Dumping"
   ]
  },
  {
   "cell_type": "code",
   "execution_count": null,
   "metadata": {},
   "outputs": [],
   "source": [
    "# Dumping stuff\n",
    "DUMPPATH = PATH / 'dann_trim_default' if TRIM else PATH / 'dann_full_default'\n",
    "save(DUMPPATH,\n",
    "     torch_stuff=[tosave('unsup_model.torch', lm.state_dict()), tosave('unsup_model_enc.torch', lm.encoder.state_dict())],\n",
    "     pickle_stuff=[tosave('unsup_traces.pkl', traces), tosave('unsup_options.pkl', params)],\n",
    "     # json_stuff=[tosave('unsup_summary.json', utils.get_best_from(traces))],\n",
    "     _newdir=True)"
   ]
  }
 ],
 "metadata": {
  "kernelspec": {
   "display_name": "Python 3",
   "language": "python",
   "name": "python3"
  },
  "language_info": {
   "codemirror_mode": {
    "name": "ipython",
    "version": 3
   },
   "file_extension": ".py",
   "mimetype": "text/x-python",
   "name": "python",
   "nbconvert_exporter": "python",
   "pygments_lexer": "ipython3",
   "version": "3.6.8"
  }
 },
 "nbformat": 4,
 "nbformat_minor": 2
}
